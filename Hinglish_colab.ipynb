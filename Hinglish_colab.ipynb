{
  "nbformat": 4,
  "nbformat_minor": 0,
  "metadata": {
    "accelerator": "GPU",
    "colab": {
      "name": "Hinglish.ipynb",
      "provenance": [],
      "collapsed_sections": [],
      "authorship_tag": "ABX9TyOesHcFwmw58s3ijEoaAMOR",
      "include_colab_link": true
    },
    "kernelspec": {
      "display_name": "Python 3",
      "name": "python3"
    }
  },
  "cells": [
    {
      "cell_type": "markdown",
      "metadata": {
        "id": "view-in-github",
        "colab_type": "text"
      },
      "source": [
        "<a href=\"https://colab.research.google.com/github/sc19gs/Hinglish/blob/master/Hinglish_colab.ipynb\" target=\"_parent\"><img src=\"https://colab.research.google.com/assets/colab-badge.svg\" alt=\"Open In Colab\"/></a>"
      ]
    },
    {
      "cell_type": "code",
      "metadata": {
        "colab": {
          "base_uri": "https://localhost:8080/"
        },
        "id": "0sOTEtrGzc2m",
        "outputId": "5f3c5b16-8be2-4ca4-a342-265ded2c9bb1"
      },
      "source": [
        "!wget --no-check-certificate \\\n",
        "    https://github.com/sc19gs/data/raw/main/data3.csv \\\n",
        "    -O data3.csv"
      ],
      "execution_count": null,
      "outputs": [
        {
          "output_type": "stream",
          "text": [
            "--2021-04-08 07:16:26--  https://github.com/sc19gs/data/raw/main/data3.csv\n",
            "Resolving github.com (github.com)... 13.114.40.48\n",
            "Connecting to github.com (github.com)|13.114.40.48|:443... connected.\n",
            "HTTP request sent, awaiting response... 302 Found\n",
            "Location: https://raw.githubusercontent.com/sc19gs/data/main/data3.csv [following]\n",
            "--2021-04-08 07:16:27--  https://raw.githubusercontent.com/sc19gs/data/main/data3.csv\n",
            "Resolving raw.githubusercontent.com (raw.githubusercontent.com)... 185.199.110.133, 185.199.108.133, 185.199.109.133, ...\n",
            "Connecting to raw.githubusercontent.com (raw.githubusercontent.com)|185.199.110.133|:443... connected.\n",
            "HTTP request sent, awaiting response... 200 OK\n",
            "Length: 1239683 (1.2M) [text/plain]\n",
            "Saving to: ‘data3.csv’\n",
            "\n",
            "data3.csv           100%[===================>]   1.18M  --.-KB/s    in 0.08s   \n",
            "\n",
            "2021-04-08 07:16:28 (15.0 MB/s) - ‘data3.csv’ saved [1239683/1239683]\n",
            "\n"
          ],
          "name": "stdout"
        }
      ]
    },
    {
      "cell_type": "code",
      "metadata": {
        "id": "XHsSozgbfUZ0"
      },
      "source": [
        "import pandas as pd\n",
        "df = pd.read_csv(\"data3.csv\")"
      ],
      "execution_count": null,
      "outputs": []
    },
    {
      "cell_type": "code",
      "metadata": {
        "colab": {
          "base_uri": "https://localhost:8080/",
          "height": 317
        },
        "id": "RAqL1Rnxww92",
        "outputId": "694e1721-50b8-47f7-8d20-b59864690586"
      },
      "source": [
        "df[df['Tweet'].isnull()]"
      ],
      "execution_count": null,
      "outputs": [
        {
          "output_type": "execute_result",
          "data": {
            "text/html": [
              "<div>\n",
              "<style scoped>\n",
              "    .dataframe tbody tr th:only-of-type {\n",
              "        vertical-align: middle;\n",
              "    }\n",
              "\n",
              "    .dataframe tbody tr th {\n",
              "        vertical-align: top;\n",
              "    }\n",
              "\n",
              "    .dataframe thead th {\n",
              "        text-align: right;\n",
              "    }\n",
              "</style>\n",
              "<table border=\"1\" class=\"dataframe\">\n",
              "  <thead>\n",
              "    <tr style=\"text-align: right;\">\n",
              "      <th></th>\n",
              "      <th>ID</th>\n",
              "      <th>Tweet</th>\n",
              "      <th>Sentiment Polarity</th>\n",
              "    </tr>\n",
              "  </thead>\n",
              "  <tbody>\n",
              "    <tr>\n",
              "      <th>70</th>\n",
              "      <td>15581</td>\n",
              "      <td>NaN</td>\n",
              "      <td>neutral</td>\n",
              "    </tr>\n",
              "    <tr>\n",
              "      <th>635</th>\n",
              "      <td>42081</td>\n",
              "      <td>NaN</td>\n",
              "      <td>neutral</td>\n",
              "    </tr>\n",
              "    <tr>\n",
              "      <th>1199</th>\n",
              "      <td>43574</td>\n",
              "      <td>NaN</td>\n",
              "      <td>neutral</td>\n",
              "    </tr>\n",
              "    <tr>\n",
              "      <th>1912</th>\n",
              "      <td>42731</td>\n",
              "      <td>NaN</td>\n",
              "      <td>neutral</td>\n",
              "    </tr>\n",
              "    <tr>\n",
              "      <th>2634</th>\n",
              "      <td>9127</td>\n",
              "      <td>NaN</td>\n",
              "      <td>neutral</td>\n",
              "    </tr>\n",
              "    <tr>\n",
              "      <th>3034</th>\n",
              "      <td>35448</td>\n",
              "      <td>NaN</td>\n",
              "      <td>neutral</td>\n",
              "    </tr>\n",
              "    <tr>\n",
              "      <th>9116</th>\n",
              "      <td>2600</td>\n",
              "      <td>NaN</td>\n",
              "      <td>neutral</td>\n",
              "    </tr>\n",
              "    <tr>\n",
              "      <th>13193</th>\n",
              "      <td>11567</td>\n",
              "      <td>NaN</td>\n",
              "      <td>neutral</td>\n",
              "    </tr>\n",
              "    <tr>\n",
              "      <th>15978</th>\n",
              "      <td>4692</td>\n",
              "      <td>NaN</td>\n",
              "      <td>neutral</td>\n",
              "    </tr>\n",
              "  </tbody>\n",
              "</table>\n",
              "</div>"
            ],
            "text/plain": [
              "          ID Tweet Sentiment Polarity\n",
              "70     15581   NaN            neutral\n",
              "635    42081   NaN            neutral\n",
              "1199   43574   NaN            neutral\n",
              "1912   42731   NaN            neutral\n",
              "2634    9127   NaN            neutral\n",
              "3034   35448   NaN            neutral\n",
              "9116    2600   NaN            neutral\n",
              "13193  11567   NaN            neutral\n",
              "15978   4692   NaN            neutral"
            ]
          },
          "metadata": {
            "tags": []
          },
          "execution_count": 3
        }
      ]
    },
    {
      "cell_type": "code",
      "metadata": {
        "colab": {
          "base_uri": "https://localhost:8080/"
        },
        "id": "Mo0IhOYxwyzQ",
        "outputId": "452f63d1-403a-4f63-eebb-403f75e96515"
      },
      "source": [
        "for i in range(len(df)):\n",
        "    if(type(df['Tweet'][i]) !=str):\n",
        "        df['Tweet'][i] = df['Sentiment Polarity'][i]"
      ],
      "execution_count": null,
      "outputs": [
        {
          "output_type": "stream",
          "text": [
            "/usr/local/lib/python3.7/dist-packages/ipykernel_launcher.py:3: SettingWithCopyWarning: \n",
            "A value is trying to be set on a copy of a slice from a DataFrame\n",
            "\n",
            "See the caveats in the documentation: https://pandas.pydata.org/pandas-docs/stable/user_guide/indexing.html#returning-a-view-versus-a-copy\n",
            "  This is separate from the ipykernel package so we can avoid doing imports until\n"
          ],
          "name": "stderr"
        }
      ]
    },
    {
      "cell_type": "code",
      "metadata": {
        "colab": {
          "base_uri": "https://localhost:8080/",
          "height": 47
        },
        "id": "yc-izMQkw0Yy",
        "outputId": "c1c5afe1-8bc4-4773-fbcb-dc4b9a1f03c1"
      },
      "source": [
        "df[df['Tweet'].isnull()]"
      ],
      "execution_count": null,
      "outputs": [
        {
          "output_type": "execute_result",
          "data": {
            "text/html": [
              "<div>\n",
              "<style scoped>\n",
              "    .dataframe tbody tr th:only-of-type {\n",
              "        vertical-align: middle;\n",
              "    }\n",
              "\n",
              "    .dataframe tbody tr th {\n",
              "        vertical-align: top;\n",
              "    }\n",
              "\n",
              "    .dataframe thead th {\n",
              "        text-align: right;\n",
              "    }\n",
              "</style>\n",
              "<table border=\"1\" class=\"dataframe\">\n",
              "  <thead>\n",
              "    <tr style=\"text-align: right;\">\n",
              "      <th></th>\n",
              "      <th>ID</th>\n",
              "      <th>Tweet</th>\n",
              "      <th>Sentiment Polarity</th>\n",
              "    </tr>\n",
              "  </thead>\n",
              "  <tbody>\n",
              "  </tbody>\n",
              "</table>\n",
              "</div>"
            ],
            "text/plain": [
              "Empty DataFrame\n",
              "Columns: [ID, Tweet, Sentiment Polarity]\n",
              "Index: []"
            ]
          },
          "metadata": {
            "tags": []
          },
          "execution_count": 5
        }
      ]
    },
    {
      "cell_type": "code",
      "metadata": {
        "id": "JE7fRByzw1mm"
      },
      "source": [
        "from gensim.models import Word2Vec\n",
        "import keras\n",
        "from keras.models import Sequential,Input,Model\n",
        "from keras.layers import Dense, Dropout, Flatten\n",
        "from keras.layers import Conv2D, MaxPooling2D, Conv1D, MaxPooling1D\n",
        "import matplotlib.pyplot as plt\n",
        "from keras.utils import to_categorical\n",
        "from sklearn.metrics import accuracy_score, confusion_matrix, f1_score\n",
        "from keras.callbacks import Callback"
      ],
      "execution_count": null,
      "outputs": []
    },
    {
      "cell_type": "code",
      "metadata": {
        "id": "RNIyRw9lyrOS"
      },
      "source": [
        "def show_results(): # plot performance over the training epochs\n",
        "\n",
        "  epochs       = range(len(f1scores_test))\n",
        "  nb_epochs    = len(epochs)\n",
        "\n",
        "  f2 = plt.figure(2)\n",
        "  plt.figure(figsize = (30,10))\n",
        "\n",
        "\n",
        "  plt.plot(epochs, f1scores_test, label='Test F1 scores')\n",
        "  plt.plot(epochs, f1scores_train, label='Train F1 scores')\n",
        "\n",
        "  plt.title('Training and Test F1 scores')\n",
        "  plt.xlabel('Epochs')\n",
        "  plt.ylabel('F1 scores')\n",
        "  plt.legend()\n",
        " \n",
        "  plt.draw()\n",
        "  plt.pause(0.001)\n"
      ],
      "execution_count": null,
      "outputs": []
    },
    {
      "cell_type": "code",
      "metadata": {
        "id": "f9FA-SnQ6PrI"
      },
      "source": [
        "\n"
      ],
      "execution_count": null,
      "outputs": []
    },
    {
      "cell_type": "code",
      "metadata": {
        "id": "iOktUxd1ysKr"
      },
      "source": [
        "def show_results1(nn_model_train): # plot performance over the training epochs\n",
        "  accuracy     = nn_model_train.history['accuracy']\n",
        "  val_accuracy = nn_model_train.history['val_accuracy']\n",
        "  loss         = nn_model_train.history['loss']\n",
        "  val_loss     = nn_model_train.history['val_loss']\n",
        "  epochs       = range(len(accuracy))\n",
        "  nb_epochs    = len(epochs)\n",
        "\n",
        "  f2 = plt.figure(2)\n",
        "  plt.figure(figsize = (30,10))\n",
        "\n",
        "  plt.subplot(2,1,1)\n",
        "  # plt.axis((0,nb_epochs,0.4,0.8))\n",
        "  plt.plot(epochs, accuracy, 'bo', label='Training accuracy')\n",
        "  plt.plot(epochs, val_accuracy, 'b', label='Validation accuracy')\n",
        "  plt.title('Training and validation accuracy')\n",
        "  plt.legend()\n",
        "  plt.subplot(2,1,2)\n",
        "  # plt.axis((0,nb_epochs,0.8,1.0))\n",
        "  plt.plot(epochs, loss, 'bo', label='Training loss')\n",
        "  plt.plot(epochs, val_loss, 'b', label='Validation loss')\n",
        "  plt.title('Training and validation loss')\n",
        "  plt.legend()\n",
        "  # plt.savefig('/Users/gaurav/Desktop/Hinglish/data/EX-6'+s+'.png',bbox_inches='tight')\n",
        "  plt.draw()\n",
        "  plt.pause(0.001)"
      ],
      "execution_count": null,
      "outputs": []
    },
    {
      "cell_type": "code",
      "metadata": {
        "id": "4rv2Y_lD6yqZ"
      },
      "source": [
        "def f1score_train():\n",
        "  y_pred = model.predict(X_train1)\n",
        "  y_pred = np.argmax(np.round(y_pred),axis=1) # Choose the prediction with the highest probability\n",
        "  y_pred_one_hot = to_categorical(y_pred)\n",
        "  f1 =  f1_score(y_train, y_pred_one_hot, average='macro')\n",
        "  print(\"F1-Score trian = \", f1)\n",
        "  return f1\n",
        "  \n",
        "def f1score_test():\n",
        "  y_pred = model.predict(X_test1)\n",
        "  y_pred = np.argmax(np.round(y_pred),axis=1) # Choose the prediction with the highest probability\n",
        "  y_pred_one_hot = to_categorical(y_pred)\n",
        "  f1 =  f1_score(y_test, y_pred_one_hot, average='macro')\n",
        "  print(\"F1-Score test = \", f1)\n",
        "  return f1"
      ],
      "execution_count": null,
      "outputs": []
    },
    {
      "cell_type": "code",
      "metadata": {
        "id": "t_koY6lM6zKK"
      },
      "source": [
        "# global max_f1_train, max_f1_test\n",
        "\n",
        "f1scores_train = []\n",
        "f1scores_test = []\n",
        "max_f1_train = 0\n",
        "max_f1_test = 0\n",
        "epoch_train = 0\n",
        "epoch_test = 0\n",
        "    \n",
        "class myCallback(Callback):\n",
        "\n",
        "  def on_epoch_end(self, epoch, logs={}):\n",
        "      \n",
        "    global max_f1_train, max_f1_test, epoch_test, epoch_train\n",
        "\n",
        "    f1 = f1score_train()\n",
        "    if(f1>max_f1_train):\n",
        "      max_f1_train = f1\n",
        "      epoch_train = epoch\n",
        "    f1scores_test.append(f1)\n",
        "    f1 = f1score_test()\n",
        "    if(f1>max_f1_test):\n",
        "      max_f1_test = f1\n",
        "      epoch_test = epoch\n",
        "    f1scores_train.append(f1)\n",
        "\n",
        "callbacks = myCallback()"
      ],
      "execution_count": null,
      "outputs": []
    },
    {
      "cell_type": "code",
      "metadata": {
        "colab": {
          "base_uri": "https://localhost:8080/",
          "height": 353
        },
        "id": "B-xrpN-Cw4y2",
        "outputId": "84c25dd3-6849-4eee-f0c8-e471f0ca88da"
      },
      "source": [
        "tokenized_tweet = df['Tweet'].apply(lambda x: x.split()) # tokenizing\n",
        "\n",
        "model_w2v = Word2Vec(tokenized_tweet, size=450,  window=3, min_count=3)\n",
        "model_w2v.train(tokenized_tweet, total_examples= len(df['Tweet']), epochs=300)"
      ],
      "execution_count": null,
      "outputs": [
        {
          "output_type": "error",
          "ename": "KeyboardInterrupt",
          "evalue": "ignored",
          "traceback": [
            "\u001b[0;31m---------------------------------------------------------------------------\u001b[0m",
            "\u001b[0;31mKeyboardInterrupt\u001b[0m                         Traceback (most recent call last)",
            "\u001b[0;32m<ipython-input-12-d9be0b523737>\u001b[0m in \u001b[0;36m<module>\u001b[0;34m()\u001b[0m\n\u001b[1;32m      2\u001b[0m \u001b[0;34m\u001b[0m\u001b[0m\n\u001b[1;32m      3\u001b[0m \u001b[0mmodel_w2v\u001b[0m \u001b[0;34m=\u001b[0m \u001b[0mWord2Vec\u001b[0m\u001b[0;34m(\u001b[0m\u001b[0mtokenized_tweet\u001b[0m\u001b[0;34m,\u001b[0m \u001b[0msize\u001b[0m\u001b[0;34m=\u001b[0m\u001b[0;36m450\u001b[0m\u001b[0;34m,\u001b[0m  \u001b[0mwindow\u001b[0m\u001b[0;34m=\u001b[0m\u001b[0;36m3\u001b[0m\u001b[0;34m,\u001b[0m \u001b[0mmin_count\u001b[0m\u001b[0;34m=\u001b[0m\u001b[0;36m3\u001b[0m\u001b[0;34m)\u001b[0m\u001b[0;34m\u001b[0m\u001b[0;34m\u001b[0m\u001b[0m\n\u001b[0;32m----> 4\u001b[0;31m \u001b[0mmodel_w2v\u001b[0m\u001b[0;34m.\u001b[0m\u001b[0mtrain\u001b[0m\u001b[0;34m(\u001b[0m\u001b[0mtokenized_tweet\u001b[0m\u001b[0;34m,\u001b[0m \u001b[0mtotal_examples\u001b[0m\u001b[0;34m=\u001b[0m \u001b[0mlen\u001b[0m\u001b[0;34m(\u001b[0m\u001b[0mdf\u001b[0m\u001b[0;34m[\u001b[0m\u001b[0;34m'Tweet'\u001b[0m\u001b[0;34m]\u001b[0m\u001b[0;34m)\u001b[0m\u001b[0;34m,\u001b[0m \u001b[0mepochs\u001b[0m\u001b[0;34m=\u001b[0m\u001b[0;36m300\u001b[0m\u001b[0;34m)\u001b[0m\u001b[0;34m\u001b[0m\u001b[0;34m\u001b[0m\u001b[0m\n\u001b[0m",
            "\u001b[0;32m/usr/local/lib/python3.7/dist-packages/gensim/models/word2vec.py\u001b[0m in \u001b[0;36mtrain\u001b[0;34m(self, sentences, corpus_file, total_examples, total_words, epochs, start_alpha, end_alpha, word_count, queue_factor, report_delay, compute_loss, callbacks)\u001b[0m\n\u001b[1;32m    890\u001b[0m             \u001b[0msentences\u001b[0m\u001b[0;34m=\u001b[0m\u001b[0msentences\u001b[0m\u001b[0;34m,\u001b[0m \u001b[0mcorpus_file\u001b[0m\u001b[0;34m=\u001b[0m\u001b[0mcorpus_file\u001b[0m\u001b[0;34m,\u001b[0m \u001b[0mtotal_examples\u001b[0m\u001b[0;34m=\u001b[0m\u001b[0mtotal_examples\u001b[0m\u001b[0;34m,\u001b[0m \u001b[0mtotal_words\u001b[0m\u001b[0;34m=\u001b[0m\u001b[0mtotal_words\u001b[0m\u001b[0;34m,\u001b[0m\u001b[0;34m\u001b[0m\u001b[0;34m\u001b[0m\u001b[0m\n\u001b[1;32m    891\u001b[0m             \u001b[0mepochs\u001b[0m\u001b[0;34m=\u001b[0m\u001b[0mepochs\u001b[0m\u001b[0;34m,\u001b[0m \u001b[0mstart_alpha\u001b[0m\u001b[0;34m=\u001b[0m\u001b[0mstart_alpha\u001b[0m\u001b[0;34m,\u001b[0m \u001b[0mend_alpha\u001b[0m\u001b[0;34m=\u001b[0m\u001b[0mend_alpha\u001b[0m\u001b[0;34m,\u001b[0m \u001b[0mword_count\u001b[0m\u001b[0;34m=\u001b[0m\u001b[0mword_count\u001b[0m\u001b[0;34m,\u001b[0m\u001b[0;34m\u001b[0m\u001b[0;34m\u001b[0m\u001b[0m\n\u001b[0;32m--> 892\u001b[0;31m             queue_factor=queue_factor, report_delay=report_delay, compute_loss=compute_loss, callbacks=callbacks)\n\u001b[0m\u001b[1;32m    893\u001b[0m \u001b[0;34m\u001b[0m\u001b[0m\n\u001b[1;32m    894\u001b[0m     \u001b[0;32mdef\u001b[0m \u001b[0mscore\u001b[0m\u001b[0;34m(\u001b[0m\u001b[0mself\u001b[0m\u001b[0;34m,\u001b[0m \u001b[0msentences\u001b[0m\u001b[0;34m,\u001b[0m \u001b[0mtotal_sentences\u001b[0m\u001b[0;34m=\u001b[0m\u001b[0mint\u001b[0m\u001b[0;34m(\u001b[0m\u001b[0;36m1e6\u001b[0m\u001b[0;34m)\u001b[0m\u001b[0;34m,\u001b[0m \u001b[0mchunksize\u001b[0m\u001b[0;34m=\u001b[0m\u001b[0;36m100\u001b[0m\u001b[0;34m,\u001b[0m \u001b[0mqueue_factor\u001b[0m\u001b[0;34m=\u001b[0m\u001b[0;36m2\u001b[0m\u001b[0;34m,\u001b[0m \u001b[0mreport_delay\u001b[0m\u001b[0;34m=\u001b[0m\u001b[0;36m1\u001b[0m\u001b[0;34m)\u001b[0m\u001b[0;34m:\u001b[0m\u001b[0;34m\u001b[0m\u001b[0;34m\u001b[0m\u001b[0m\n",
            "\u001b[0;32m/usr/local/lib/python3.7/dist-packages/gensim/models/base_any2vec.py\u001b[0m in \u001b[0;36mtrain\u001b[0;34m(self, sentences, corpus_file, total_examples, total_words, epochs, start_alpha, end_alpha, word_count, queue_factor, report_delay, compute_loss, callbacks, **kwargs)\u001b[0m\n\u001b[1;32m   1079\u001b[0m             \u001b[0mtotal_words\u001b[0m\u001b[0;34m=\u001b[0m\u001b[0mtotal_words\u001b[0m\u001b[0;34m,\u001b[0m \u001b[0mepochs\u001b[0m\u001b[0;34m=\u001b[0m\u001b[0mepochs\u001b[0m\u001b[0;34m,\u001b[0m \u001b[0mstart_alpha\u001b[0m\u001b[0;34m=\u001b[0m\u001b[0mstart_alpha\u001b[0m\u001b[0;34m,\u001b[0m \u001b[0mend_alpha\u001b[0m\u001b[0;34m=\u001b[0m\u001b[0mend_alpha\u001b[0m\u001b[0;34m,\u001b[0m \u001b[0mword_count\u001b[0m\u001b[0;34m=\u001b[0m\u001b[0mword_count\u001b[0m\u001b[0;34m,\u001b[0m\u001b[0;34m\u001b[0m\u001b[0;34m\u001b[0m\u001b[0m\n\u001b[1;32m   1080\u001b[0m             \u001b[0mqueue_factor\u001b[0m\u001b[0;34m=\u001b[0m\u001b[0mqueue_factor\u001b[0m\u001b[0;34m,\u001b[0m \u001b[0mreport_delay\u001b[0m\u001b[0;34m=\u001b[0m\u001b[0mreport_delay\u001b[0m\u001b[0;34m,\u001b[0m \u001b[0mcompute_loss\u001b[0m\u001b[0;34m=\u001b[0m\u001b[0mcompute_loss\u001b[0m\u001b[0;34m,\u001b[0m \u001b[0mcallbacks\u001b[0m\u001b[0;34m=\u001b[0m\u001b[0mcallbacks\u001b[0m\u001b[0;34m,\u001b[0m\u001b[0;34m\u001b[0m\u001b[0;34m\u001b[0m\u001b[0m\n\u001b[0;32m-> 1081\u001b[0;31m             **kwargs)\n\u001b[0m\u001b[1;32m   1082\u001b[0m \u001b[0;34m\u001b[0m\u001b[0m\n\u001b[1;32m   1083\u001b[0m     \u001b[0;32mdef\u001b[0m \u001b[0m_get_job_params\u001b[0m\u001b[0;34m(\u001b[0m\u001b[0mself\u001b[0m\u001b[0;34m,\u001b[0m \u001b[0mcur_epoch\u001b[0m\u001b[0;34m)\u001b[0m\u001b[0;34m:\u001b[0m\u001b[0;34m\u001b[0m\u001b[0;34m\u001b[0m\u001b[0m\n",
            "\u001b[0;32m/usr/local/lib/python3.7/dist-packages/gensim/models/base_any2vec.py\u001b[0m in \u001b[0;36mtrain\u001b[0;34m(self, data_iterable, corpus_file, epochs, total_examples, total_words, queue_factor, report_delay, callbacks, **kwargs)\u001b[0m\n\u001b[1;32m    551\u001b[0m                 trained_word_count_epoch, raw_word_count_epoch, job_tally_epoch = self._train_epoch(\n\u001b[1;32m    552\u001b[0m                     \u001b[0mdata_iterable\u001b[0m\u001b[0;34m,\u001b[0m \u001b[0mcur_epoch\u001b[0m\u001b[0;34m=\u001b[0m\u001b[0mcur_epoch\u001b[0m\u001b[0;34m,\u001b[0m \u001b[0mtotal_examples\u001b[0m\u001b[0;34m=\u001b[0m\u001b[0mtotal_examples\u001b[0m\u001b[0;34m,\u001b[0m\u001b[0;34m\u001b[0m\u001b[0;34m\u001b[0m\u001b[0m\n\u001b[0;32m--> 553\u001b[0;31m                     total_words=total_words, queue_factor=queue_factor, report_delay=report_delay)\n\u001b[0m\u001b[1;32m    554\u001b[0m             \u001b[0;32melse\u001b[0m\u001b[0;34m:\u001b[0m\u001b[0;34m\u001b[0m\u001b[0;34m\u001b[0m\u001b[0m\n\u001b[1;32m    555\u001b[0m                 trained_word_count_epoch, raw_word_count_epoch, job_tally_epoch = self._train_epoch_corpusfile(\n",
            "\u001b[0;32m/usr/local/lib/python3.7/dist-packages/gensim/models/base_any2vec.py\u001b[0m in \u001b[0;36m_train_epoch\u001b[0;34m(self, data_iterable, cur_epoch, total_examples, total_words, queue_factor, report_delay)\u001b[0m\n\u001b[1;32m    487\u001b[0m         trained_word_count, raw_word_count, job_tally = self._log_epoch_progress(\n\u001b[1;32m    488\u001b[0m             \u001b[0mprogress_queue\u001b[0m\u001b[0;34m,\u001b[0m \u001b[0mjob_queue\u001b[0m\u001b[0;34m,\u001b[0m \u001b[0mcur_epoch\u001b[0m\u001b[0;34m=\u001b[0m\u001b[0mcur_epoch\u001b[0m\u001b[0;34m,\u001b[0m \u001b[0mtotal_examples\u001b[0m\u001b[0;34m=\u001b[0m\u001b[0mtotal_examples\u001b[0m\u001b[0;34m,\u001b[0m \u001b[0mtotal_words\u001b[0m\u001b[0;34m=\u001b[0m\u001b[0mtotal_words\u001b[0m\u001b[0;34m,\u001b[0m\u001b[0;34m\u001b[0m\u001b[0;34m\u001b[0m\u001b[0m\n\u001b[0;32m--> 489\u001b[0;31m             report_delay=report_delay, is_corpus_file_mode=False)\n\u001b[0m\u001b[1;32m    490\u001b[0m \u001b[0;34m\u001b[0m\u001b[0m\n\u001b[1;32m    491\u001b[0m         \u001b[0;32mreturn\u001b[0m \u001b[0mtrained_word_count\u001b[0m\u001b[0;34m,\u001b[0m \u001b[0mraw_word_count\u001b[0m\u001b[0;34m,\u001b[0m \u001b[0mjob_tally\u001b[0m\u001b[0;34m\u001b[0m\u001b[0;34m\u001b[0m\u001b[0m\n",
            "\u001b[0;32m/usr/local/lib/python3.7/dist-packages/gensim/models/base_any2vec.py\u001b[0m in \u001b[0;36m_log_epoch_progress\u001b[0;34m(self, progress_queue, job_queue, cur_epoch, total_examples, total_words, report_delay, is_corpus_file_mode)\u001b[0m\n\u001b[1;32m    344\u001b[0m \u001b[0;34m\u001b[0m\u001b[0m\n\u001b[1;32m    345\u001b[0m         \u001b[0;32mwhile\u001b[0m \u001b[0munfinished_worker_count\u001b[0m \u001b[0;34m>\u001b[0m \u001b[0;36m0\u001b[0m\u001b[0;34m:\u001b[0m\u001b[0;34m\u001b[0m\u001b[0;34m\u001b[0m\u001b[0m\n\u001b[0;32m--> 346\u001b[0;31m             \u001b[0mreport\u001b[0m \u001b[0;34m=\u001b[0m \u001b[0mprogress_queue\u001b[0m\u001b[0;34m.\u001b[0m\u001b[0mget\u001b[0m\u001b[0;34m(\u001b[0m\u001b[0;34m)\u001b[0m  \u001b[0;31m# blocks if workers too slow\u001b[0m\u001b[0;34m\u001b[0m\u001b[0;34m\u001b[0m\u001b[0m\n\u001b[0m\u001b[1;32m    347\u001b[0m             \u001b[0;32mif\u001b[0m \u001b[0mreport\u001b[0m \u001b[0;32mis\u001b[0m \u001b[0;32mNone\u001b[0m\u001b[0;34m:\u001b[0m  \u001b[0;31m# a thread reporting that it finished\u001b[0m\u001b[0;34m\u001b[0m\u001b[0;34m\u001b[0m\u001b[0m\n\u001b[1;32m    348\u001b[0m                 \u001b[0munfinished_worker_count\u001b[0m \u001b[0;34m-=\u001b[0m \u001b[0;36m1\u001b[0m\u001b[0;34m\u001b[0m\u001b[0;34m\u001b[0m\u001b[0m\n",
            "\u001b[0;32m/usr/lib/python3.7/queue.py\u001b[0m in \u001b[0;36mget\u001b[0;34m(self, block, timeout)\u001b[0m\n\u001b[1;32m    168\u001b[0m             \u001b[0;32melif\u001b[0m \u001b[0mtimeout\u001b[0m \u001b[0;32mis\u001b[0m \u001b[0;32mNone\u001b[0m\u001b[0;34m:\u001b[0m\u001b[0;34m\u001b[0m\u001b[0;34m\u001b[0m\u001b[0m\n\u001b[1;32m    169\u001b[0m                 \u001b[0;32mwhile\u001b[0m \u001b[0;32mnot\u001b[0m \u001b[0mself\u001b[0m\u001b[0;34m.\u001b[0m\u001b[0m_qsize\u001b[0m\u001b[0;34m(\u001b[0m\u001b[0;34m)\u001b[0m\u001b[0;34m:\u001b[0m\u001b[0;34m\u001b[0m\u001b[0;34m\u001b[0m\u001b[0m\n\u001b[0;32m--> 170\u001b[0;31m                     \u001b[0mself\u001b[0m\u001b[0;34m.\u001b[0m\u001b[0mnot_empty\u001b[0m\u001b[0;34m.\u001b[0m\u001b[0mwait\u001b[0m\u001b[0;34m(\u001b[0m\u001b[0;34m)\u001b[0m\u001b[0;34m\u001b[0m\u001b[0;34m\u001b[0m\u001b[0m\n\u001b[0m\u001b[1;32m    171\u001b[0m             \u001b[0;32melif\u001b[0m \u001b[0mtimeout\u001b[0m \u001b[0;34m<\u001b[0m \u001b[0;36m0\u001b[0m\u001b[0;34m:\u001b[0m\u001b[0;34m\u001b[0m\u001b[0;34m\u001b[0m\u001b[0m\n\u001b[1;32m    172\u001b[0m                 \u001b[0;32mraise\u001b[0m \u001b[0mValueError\u001b[0m\u001b[0;34m(\u001b[0m\u001b[0;34m\"'timeout' must be a non-negative number\"\u001b[0m\u001b[0;34m)\u001b[0m\u001b[0;34m\u001b[0m\u001b[0;34m\u001b[0m\u001b[0m\n",
            "\u001b[0;32m/usr/lib/python3.7/threading.py\u001b[0m in \u001b[0;36mwait\u001b[0;34m(self, timeout)\u001b[0m\n\u001b[1;32m    294\u001b[0m         \u001b[0;32mtry\u001b[0m\u001b[0;34m:\u001b[0m    \u001b[0;31m# restore state no matter what (e.g., KeyboardInterrupt)\u001b[0m\u001b[0;34m\u001b[0m\u001b[0;34m\u001b[0m\u001b[0m\n\u001b[1;32m    295\u001b[0m             \u001b[0;32mif\u001b[0m \u001b[0mtimeout\u001b[0m \u001b[0;32mis\u001b[0m \u001b[0;32mNone\u001b[0m\u001b[0;34m:\u001b[0m\u001b[0;34m\u001b[0m\u001b[0;34m\u001b[0m\u001b[0m\n\u001b[0;32m--> 296\u001b[0;31m                 \u001b[0mwaiter\u001b[0m\u001b[0;34m.\u001b[0m\u001b[0macquire\u001b[0m\u001b[0;34m(\u001b[0m\u001b[0;34m)\u001b[0m\u001b[0;34m\u001b[0m\u001b[0;34m\u001b[0m\u001b[0m\n\u001b[0m\u001b[1;32m    297\u001b[0m                 \u001b[0mgotit\u001b[0m \u001b[0;34m=\u001b[0m \u001b[0;32mTrue\u001b[0m\u001b[0;34m\u001b[0m\u001b[0;34m\u001b[0m\u001b[0m\n\u001b[1;32m    298\u001b[0m             \u001b[0;32melse\u001b[0m\u001b[0;34m:\u001b[0m\u001b[0;34m\u001b[0m\u001b[0;34m\u001b[0m\u001b[0m\n",
            "\u001b[0;31mKeyboardInterrupt\u001b[0m: "
          ]
        }
      ]
    },
    {
      "cell_type": "code",
      "metadata": {
        "id": "7Wk6LwPOw-Fv"
      },
      "source": [
        "def word_vector(tokens, size):\n",
        "    vec = np.zeros(size).reshape((1, size))\n",
        "    count = 0.\n",
        "    for word in tokens:\n",
        "        if(word in model_w2v.wv.vocab):\n",
        "            vec += model_w2v[word].reshape((1, size))\n",
        "            count += 1.\n",
        "\n",
        "    if count != 0:\n",
        "        vec /= count\n",
        "    return vec"
      ],
      "execution_count": null,
      "outputs": []
    },
    {
      "cell_type": "code",
      "metadata": {
        "colab": {
          "base_uri": "https://localhost:8080/"
        },
        "id": "a_PKFu_8xZoc",
        "outputId": "665a0247-73a0-4c5b-df58-71f76eb61a7d"
      },
      "source": [
        "import numpy as np\n",
        "wordvec_arrays = np.zeros((len(tokenized_tweet), 450))\n",
        "\n",
        "for i in range(len(tokenized_tweet)):\n",
        "    wordvec_arrays[i,:] = word_vector(tokenized_tweet[i], 450)\n",
        "    \n",
        "wordvec_df = pd.DataFrame(wordvec_arrays)\n",
        "wordvec_df.shape"
      ],
      "execution_count": null,
      "outputs": [
        {
          "output_type": "stream",
          "text": [
            "/usr/local/lib/python3.6/dist-packages/ipykernel_launcher.py:6: DeprecationWarning: Call to deprecated `__getitem__` (Method will be removed in 4.0.0, use self.wv.__getitem__() instead).\n",
            "  \n"
          ],
          "name": "stderr"
        },
        {
          "output_type": "execute_result",
          "data": {
            "text/plain": [
              "(17000, 450)"
            ]
          },
          "metadata": {
            "tags": []
          },
          "execution_count": 13
        }
      ]
    },
    {
      "cell_type": "code",
      "metadata": {
        "colab": {
          "base_uri": "https://localhost:8080/"
        },
        "id": "fmZ7BZiexcmL",
        "outputId": "db00f3e9-a579-4749-e350-652932a8475e"
      },
      "source": [
        "len(model_w2v.wv.vocab)"
      ],
      "execution_count": null,
      "outputs": [
        {
          "output_type": "execute_result",
          "data": {
            "text/plain": [
              "6832"
            ]
          },
          "metadata": {
            "tags": []
          },
          "execution_count": 14
        }
      ]
    },
    {
      "cell_type": "code",
      "metadata": {
        "colab": {
          "base_uri": "https://localhost:8080/"
        },
        "id": "04hZkv1Wyo9_",
        "outputId": "cd14e22e-831b-4bbc-9f65-a05dd6d993d2"
      },
      "source": [
        "model_w2v.wv.most_similar(positive=\"kabil\")"
      ],
      "execution_count": null,
      "outputs": [
        {
          "output_type": "execute_result",
          "data": {
            "text/plain": [
              "[('payegi', 0.383640319108963),\n",
              " ('karten', 0.3051736056804657),\n",
              " ('sayyyysss', 0.3049696683883667),\n",
              " ('jodna', 0.3022528290748596),\n",
              " ('sochna', 0.2946509122848511),\n",
              " ('kangana', 0.2885185480117798),\n",
              " ('khaskar', 0.2805142402648926),\n",
              " ('darwaza', 0.27827316522598267),\n",
              " ('bhejna', 0.27786877751350403),\n",
              " ('nirdosh', 0.27494728565216064)]"
            ]
          },
          "metadata": {
            "tags": []
          },
          "execution_count": 15
        }
      ]
    },
    {
      "cell_type": "code",
      "metadata": {
        "id": "lnmwF2agxkP-"
      },
      "source": [
        "d = {}\n",
        "d['negative'] = [1., 0., 0.]\n",
        "d['neutral'] = [0., 1., 0.]\n",
        "d['positive']  = [0., 0., 1.]\n",
        "\n",
        "import numpy as np\n",
        "out=[]\n",
        "for i in df['Sentiment Polarity']:\n",
        "    out.append(d[i])\n",
        "out = np.array(out)"
      ],
      "execution_count": null,
      "outputs": []
    },
    {
      "cell_type": "code",
      "metadata": {
        "id": "pocPo2Hqxt0e"
      },
      "source": [
        "from sklearn.model_selection import train_test_split\n",
        "sentiment = df['Sentiment Polarity']\n",
        "X_train, X_test, y_train, y_test  = train_test_split(\n",
        "        wordvec_arrays, \n",
        "        out,\n",
        "        train_size=0.82352942, \n",
        "        shuffle = False\n",
        "       )"
      ],
      "execution_count": null,
      "outputs": []
    },
    {
      "cell_type": "code",
      "metadata": {
        "id": "M6LqdmyUxvXo"
      },
      "source": [
        "batch_size  = 32\n",
        "epochs      = 10\n",
        "learning_rate = 0.00005\n",
        "model = Sequential()\n",
        "\n",
        "model.add(Conv1D(128, kernel_size=(8),activation='relu',padding='same'))\n",
        "model.add(MaxPooling1D((4),padding='same'))\n",
        "model.add(Dropout(0.2))\n",
        "# model.add(Conv1D(8, kernel_size=(3),activation='relu',padding='same'))\n",
        "# model.add(MaxPooling1D((2 ),padding='same'))\n",
        "# model.add(Dropout(0.2))\n",
        "model.add(Flatten())\n",
        "\n",
        "model.add(Dense(256, activation='relu'))\n",
        "model.add(Dense(3, activation='softmax'))\n",
        "\n",
        "# model.summary()\n",
        "\n",
        "opt = keras.optimizers.RMSprop(lr=learning_rate)\n",
        "model.compile(loss=keras.losses.categorical_crossentropy, optimizer=opt, metrics=['accuracy'])"
      ],
      "execution_count": null,
      "outputs": []
    },
    {
      "cell_type": "code",
      "metadata": {
        "id": "L8taMlX0x9vO"
      },
      "source": [
        "X_train1 = np.expand_dims(X_train, axis=2)\n",
        "X_test1 = np.expand_dims(X_test, axis=2)"
      ],
      "execution_count": null,
      "outputs": []
    },
    {
      "cell_type": "code",
      "metadata": {
        "colab": {
          "background_save": true,
          "base_uri": "https://localhost:8080/"
        },
        "id": "vcPatXh6yXNp",
        "outputId": "e6f1fdcb-570b-42cd-c05e-706c3bed1092"
      },
      "source": [
        "import time\n",
        "start_time = time.time()\n",
        "analysis = model.fit(X_train1, y_train, batch_size=batch_size,epochs=50,verbose=1,validation_data=(X_test1, y_test), callbacks = [callbacks])\n",
        "trainTime = (time.time() - start_time)"
      ],
      "execution_count": null,
      "outputs": [
        {
          "output_type": "stream",
          "text": [
            "Epoch 1/50\n",
            "438/438 [==============================] - 2s 5ms/step - loss: 0.1868 - accuracy: 0.9470 - val_loss: 1.0986 - val_accuracy: 0.6167\n",
            "F1-Score trian =  0.9815087775948418\n",
            "F1-Score test =  0.6194824938691627\n",
            "Epoch 2/50\n",
            "438/438 [==============================] - 2s 5ms/step - loss: 0.1821 - accuracy: 0.9486 - val_loss: 1.0851 - val_accuracy: 0.6180\n",
            "F1-Score trian =  0.9840734890755005\n",
            "F1-Score test =  0.6255069358606379\n",
            "Epoch 3/50\n",
            "438/438 [==============================] - 2s 5ms/step - loss: 0.1762 - accuracy: 0.9506 - val_loss: 1.1176 - val_accuracy: 0.6173\n",
            "F1-Score trian =  0.9788273138936451\n",
            "F1-Score test =  0.623168933230929\n",
            "Epoch 4/50\n",
            "438/438 [==============================] - 2s 5ms/step - loss: 0.1729 - accuracy: 0.9509 - val_loss: 1.0958 - val_accuracy: 0.6233\n",
            "F1-Score trian =  0.9820184189706413\n",
            "F1-Score test =  0.6251487071538421\n",
            "Epoch 5/50\n",
            "438/438 [==============================] - 2s 5ms/step - loss: 0.1664 - accuracy: 0.9518 - val_loss: 1.1637 - val_accuracy: 0.6147\n",
            "F1-Score trian =  0.9782067635629345\n",
            "F1-Score test =  0.6199457623807799\n",
            "Epoch 6/50\n",
            "438/438 [==============================] - 2s 5ms/step - loss: 0.1637 - accuracy: 0.9536 - val_loss: 1.1481 - val_accuracy: 0.6147\n",
            "F1-Score trian =  0.9788396299859357\n",
            "F1-Score test =  0.6110399596371314\n",
            "Epoch 7/50\n",
            "438/438 [==============================] - 2s 5ms/step - loss: 0.1596 - accuracy: 0.9538 - val_loss: 1.1549 - val_accuracy: 0.6050\n",
            "F1-Score trian =  0.9855129474434645\n",
            "F1-Score test =  0.6145166813684697\n",
            "Epoch 8/50\n",
            "438/438 [==============================] - 2s 5ms/step - loss: 0.1596 - accuracy: 0.9542 - val_loss: 1.1706 - val_accuracy: 0.6087\n",
            "F1-Score trian =  0.9802705072380805\n",
            "F1-Score test =  0.5989504562953863\n",
            "Epoch 9/50\n",
            "438/438 [==============================] - 2s 5ms/step - loss: 0.1531 - accuracy: 0.9561 - val_loss: 1.1329 - val_accuracy: 0.6177\n",
            "F1-Score trian =  0.9862046536140565\n",
            "F1-Score test =  0.6257867511062933\n",
            "Epoch 10/50\n",
            "438/438 [==============================] - 2s 5ms/step - loss: 0.1458 - accuracy: 0.9607 - val_loss: 1.1695 - val_accuracy: 0.6180\n",
            "F1-Score trian =  0.9855231186465027\n",
            "F1-Score test =  0.6173426064587709\n",
            "Epoch 11/50\n",
            "438/438 [==============================] - 2s 5ms/step - loss: 0.1460 - accuracy: 0.9590 - val_loss: 1.2210 - val_accuracy: 0.6143\n",
            "F1-Score trian =  0.9842708150075445\n",
            "F1-Score test =  0.6226105286109859\n",
            "Epoch 12/50\n",
            "438/438 [==============================] - 2s 5ms/step - loss: 0.1392 - accuracy: 0.9640 - val_loss: 1.2039 - val_accuracy: 0.6073\n",
            "F1-Score trian =  0.9867685746577619\n",
            "F1-Score test =  0.6120474405943587\n",
            "Epoch 13/50\n",
            "438/438 [==============================] - 2s 5ms/step - loss: 0.1383 - accuracy: 0.9621 - val_loss: 1.2776 - val_accuracy: 0.6097\n",
            "F1-Score trian =  0.9817605063691829\n",
            "F1-Score test =  0.6121218627037777\n",
            "Epoch 14/50\n",
            "438/438 [==============================] - 2s 5ms/step - loss: 0.1334 - accuracy: 0.9639 - val_loss: 1.2051 - val_accuracy: 0.6133\n",
            "F1-Score trian =  0.9837072284619067\n",
            "F1-Score test =  0.6072722881821622\n",
            "Epoch 15/50\n",
            "438/438 [==============================] - 2s 5ms/step - loss: 0.1295 - accuracy: 0.9660 - val_loss: 1.2128 - val_accuracy: 0.6150\n",
            "F1-Score trian =  0.984842182193452\n",
            "F1-Score test =  0.6158509847292291\n",
            "Epoch 16/50\n",
            "438/438 [==============================] - 2s 5ms/step - loss: 0.1317 - accuracy: 0.9646 - val_loss: 1.2422 - val_accuracy: 0.6163\n",
            "F1-Score trian =  0.9775739902553925\n",
            "F1-Score test =  0.6109431939219173\n",
            "Epoch 17/50\n",
            "438/438 [==============================] - 2s 5ms/step - loss: 0.1247 - accuracy: 0.9648 - val_loss: 1.2662 - val_accuracy: 0.6070\n",
            "F1-Score trian =  0.9869751638265161\n",
            "F1-Score test =  0.6078474860222294\n",
            "Epoch 18/50\n",
            "438/438 [==============================] - 2s 5ms/step - loss: 0.1204 - accuracy: 0.9681 - val_loss: 1.2236 - val_accuracy: 0.6167\n",
            "F1-Score trian =  0.9861018190920484\n",
            "F1-Score test =  0.61203763133337\n",
            "Epoch 19/50\n",
            "438/438 [==============================] - 2s 5ms/step - loss: 0.1217 - accuracy: 0.9676 - val_loss: 1.2230 - val_accuracy: 0.6133\n",
            "F1-Score trian =  0.988104668894989\n",
            "F1-Score test =  0.6128710488177975\n",
            "Epoch 20/50\n",
            "438/438 [==============================] - 2s 5ms/step - loss: 0.1196 - accuracy: 0.9693 - val_loss: 1.2583 - val_accuracy: 0.6100\n",
            "F1-Score trian =  0.9867467519179209\n",
            "F1-Score test =  0.6143740542099333\n",
            "Epoch 21/50\n",
            "438/438 [==============================] - 2s 5ms/step - loss: 0.1152 - accuracy: 0.9710 - val_loss: 1.2225 - val_accuracy: 0.6150\n",
            "F1-Score trian =  0.988383810618313\n",
            "F1-Score test =  0.6233760478597441\n",
            "Epoch 22/50\n",
            "438/438 [==============================] - 2s 5ms/step - loss: 0.1121 - accuracy: 0.9691 - val_loss: 1.2283 - val_accuracy: 0.6163\n",
            "F1-Score trian =  0.9882370855487336\n",
            "F1-Score test =  0.6152144669818352\n",
            "Epoch 23/50\n",
            "438/438 [==============================] - 2s 5ms/step - loss: 0.1108 - accuracy: 0.9712 - val_loss: 1.2533 - val_accuracy: 0.6090\n",
            "F1-Score trian =  0.9882973146641435\n",
            "F1-Score test =  0.6147221243054539\n",
            "Epoch 24/50\n",
            "438/438 [==============================] - 2s 5ms/step - loss: 0.1113 - accuracy: 0.9719 - val_loss: 1.2290 - val_accuracy: 0.6267\n",
            "F1-Score trian =  0.9876505109381261\n",
            "F1-Score test =  0.62665327110695\n",
            "Epoch 25/50\n",
            "438/438 [==============================] - 2s 5ms/step - loss: 0.1061 - accuracy: 0.9717 - val_loss: 1.2418 - val_accuracy: 0.6063\n",
            "F1-Score trian =  0.9883828287643532\n",
            "F1-Score test =  0.6051692495677893\n",
            "Epoch 26/50\n",
            "438/438 [==============================] - 2s 5ms/step - loss: 0.1050 - accuracy: 0.9729 - val_loss: 1.2602 - val_accuracy: 0.6150\n",
            "F1-Score trian =  0.9882518377684817\n",
            "F1-Score test =  0.6201922414242379\n",
            "Epoch 27/50\n",
            "438/438 [==============================] - 2s 5ms/step - loss: 0.1007 - accuracy: 0.9745 - val_loss: 1.3215 - val_accuracy: 0.6023\n",
            "F1-Score trian =  0.9871942444380473\n",
            "F1-Score test =  0.6033808757721889\n",
            "Epoch 28/50\n",
            "438/438 [==============================] - 2s 5ms/step - loss: 0.0991 - accuracy: 0.9737 - val_loss: 1.2718 - val_accuracy: 0.6167\n",
            "F1-Score trian =  0.9887402431060776\n",
            "F1-Score test =  0.6204389030842979\n",
            "Epoch 29/50\n",
            "438/438 [==============================] - 2s 6ms/step - loss: 0.0989 - accuracy: 0.9730 - val_loss: 1.2950 - val_accuracy: 0.6177\n",
            "F1-Score trian =  0.9888931423782843\n",
            "F1-Score test =  0.6237297448216969\n",
            "Epoch 30/50\n",
            "438/438 [==============================] - 2s 5ms/step - loss: 0.0983 - accuracy: 0.9732 - val_loss: 1.3167 - val_accuracy: 0.6090\n",
            "F1-Score trian =  0.9884534633394645\n",
            "F1-Score test =  0.6151044022953825\n",
            "Epoch 31/50\n",
            "438/438 [==============================] - 2s 5ms/step - loss: 0.0973 - accuracy: 0.9748 - val_loss: 1.2871 - val_accuracy: 0.6197\n",
            "F1-Score trian =  0.9885625238376576\n",
            "F1-Score test =  0.6245652190328732\n",
            "Epoch 32/50\n",
            "438/438 [==============================] - 2s 5ms/step - loss: 0.0905 - accuracy: 0.9771 - val_loss: 1.2928 - val_accuracy: 0.6087\n",
            "F1-Score trian =  0.9887726617164363\n",
            "F1-Score test =  0.613219625992724\n",
            "Epoch 33/50\n",
            "438/438 [==============================] - 2s 5ms/step - loss: 0.0926 - accuracy: 0.9742 - val_loss: 1.3036 - val_accuracy: 0.6150\n",
            "F1-Score trian =  0.9891691699557944\n",
            "F1-Score test =  0.6205126731095721\n",
            "Epoch 34/50\n",
            "438/438 [==============================] - 2s 5ms/step - loss: 0.0895 - accuracy: 0.9759 - val_loss: 1.3354 - val_accuracy: 0.6170\n",
            "F1-Score trian =  0.9876664047971527\n",
            "F1-Score test =  0.6128823871414343\n",
            "Epoch 35/50\n",
            "438/438 [==============================] - 2s 5ms/step - loss: 0.0858 - accuracy: 0.9783 - val_loss: 1.3310 - val_accuracy: 0.6107\n",
            "F1-Score trian =  0.9884382124810642\n",
            "F1-Score test =  0.617332907796289\n",
            "Epoch 36/50\n",
            "438/438 [==============================] - 2s 5ms/step - loss: 0.0871 - accuracy: 0.9784 - val_loss: 1.3183 - val_accuracy: 0.6113\n",
            "F1-Score trian =  0.988913183308907\n",
            "F1-Score test =  0.6094717992616322\n",
            "Epoch 37/50\n",
            "438/438 [==============================] - 2s 5ms/step - loss: 0.0884 - accuracy: 0.9765 - val_loss: 1.3299 - val_accuracy: 0.6187\n",
            "F1-Score trian =  0.9887879081093667\n",
            "F1-Score test =  0.6221483942414175\n",
            "Epoch 38/50\n",
            "438/438 [==============================] - 2s 5ms/step - loss: 0.0871 - accuracy: 0.9762 - val_loss: 1.3276 - val_accuracy: 0.6123\n",
            "F1-Score trian =  0.9885320588235124\n",
            "F1-Score test =  0.6153777077300172\n",
            "Epoch 39/50\n",
            "438/438 [==============================] - 2s 5ms/step - loss: 0.0811 - accuracy: 0.9789 - val_loss: 1.3586 - val_accuracy: 0.6137\n",
            "F1-Score trian =  0.9888780539390046\n",
            "F1-Score test =  0.6176305388346085\n",
            "Epoch 40/50\n",
            "438/438 [==============================] - 2s 5ms/step - loss: 0.0791 - accuracy: 0.9794 - val_loss: 1.3412 - val_accuracy: 0.6107\n",
            "F1-Score trian =  0.9887750650222333\n",
            "F1-Score test =  0.6124266081242379\n",
            "Epoch 41/50\n",
            "438/438 [==============================] - 2s 5ms/step - loss: 0.0831 - accuracy: 0.9788 - val_loss: 1.3501 - val_accuracy: 0.6217\n",
            "F1-Score trian =  0.9879679543741808\n",
            "F1-Score test =  0.624897512593539\n",
            "Epoch 42/50\n",
            "438/438 [==============================] - 2s 5ms/step - loss: 0.0762 - accuracy: 0.9808 - val_loss: 1.4167 - val_accuracy: 0.6093\n",
            "F1-Score trian =  0.9886579851386855\n",
            "F1-Score test =  0.6138031821855363\n",
            "Epoch 43/50\n",
            "438/438 [==============================] - 2s 5ms/step - loss: 0.0794 - accuracy: 0.9772 - val_loss: 1.4471 - val_accuracy: 0.6013\n",
            "F1-Score trian =  0.988091368979731\n",
            "F1-Score test =  0.6090040464650867\n",
            "Epoch 44/50\n",
            "438/438 [==============================] - 2s 5ms/step - loss: 0.0755 - accuracy: 0.9796 - val_loss: 1.3661 - val_accuracy: 0.6163\n",
            "F1-Score trian =  0.9891697652166989\n",
            "F1-Score test =  0.6177731876142977\n",
            "Epoch 45/50\n",
            "438/438 [==============================] - 2s 5ms/step - loss: 0.0748 - accuracy: 0.9780 - val_loss: 1.3794 - val_accuracy: 0.6147\n",
            "F1-Score trian =  0.9893849413968966\n",
            "F1-Score test =  0.6195947564498141\n",
            "Epoch 46/50\n",
            "438/438 [==============================] - 2s 5ms/step - loss: 0.0724 - accuracy: 0.9809 - val_loss: 1.5468 - val_accuracy: 0.5977\n",
            "F1-Score trian =  0.9864645210372182\n",
            "F1-Score test =  0.6013179021471617\n",
            "Epoch 47/50\n",
            "438/438 [==============================] - 2s 5ms/step - loss: 0.0712 - accuracy: 0.9811 - val_loss: 1.4018 - val_accuracy: 0.6200\n",
            "F1-Score trian =  0.9886219631098228\n",
            "F1-Score test =  0.6147797797382077\n",
            "Epoch 48/50\n",
            "438/438 [==============================] - 2s 5ms/step - loss: 0.0695 - accuracy: 0.9804 - val_loss: 1.4043 - val_accuracy: 0.6170\n",
            "F1-Score trian =  0.9894664569267944\n",
            "F1-Score test =  0.6237603063953675\n",
            "Epoch 49/50\n",
            "438/438 [==============================] - 2s 5ms/step - loss: 0.0705 - accuracy: 0.9801 - val_loss: 1.4167 - val_accuracy: 0.6167\n",
            "F1-Score trian =  0.9888690227949675\n",
            "F1-Score test =  0.6194997768768001\n",
            "Epoch 50/50\n",
            "438/438 [==============================] - 2s 5ms/step - loss: 0.0700 - accuracy: 0.9796 - val_loss: 1.4024 - val_accuracy: 0.6170\n",
            "F1-Score trian =  0.9889317402407528\n",
            "F1-Score test =  0.6199564302262163\n"
          ],
          "name": "stdout"
        }
      ]
    },
    {
      "cell_type": "code",
      "metadata": {
        "colab": {
          "background_save": true
        },
        "id": "_kWCH6QJyi7F",
        "outputId": "9c62d9c1-b136-49c1-be48-1c6e72f5022a"
      },
      "source": [
        "print(trainTime/60,\"min\")\n",
        "y_pred = model.predict(X_test1)\n",
        "y_pred = np.argmax(np.round(y_pred),axis=1) # Choose the prediction with the highest probability\n",
        "y_pred_one_hot = to_categorical(y_pred)\n",
        "print(\"F1-Score = \", f1_score(y_test, y_pred_one_hot, average='macro'))"
      ],
      "execution_count": null,
      "outputs": [
        {
          "output_type": "stream",
          "text": [
            "2.3698151191075643 min\n",
            "F1-Score =  0.6199564302262163\n"
          ],
          "name": "stdout"
        }
      ]
    },
    {
      "cell_type": "code",
      "metadata": {
        "colab": {
          "background_save": true
        },
        "id": "GViKpRioC0Pt",
        "outputId": "bdba53bc-0741-4a35-fcb1-def4b7a022aa"
      },
      "source": [
        "show_results()\n",
        "show_results1(analysis)"
      ],
      "execution_count": null,
      "outputs": [
        {
          "output_type": "display_data",
          "data": {
            "text/plain": [
              "<Figure size 432x288 with 0 Axes>"
            ]
          },
          "metadata": {
            "tags": []
          }
        },
        {
          "output_type": "display_data",
          "data": {
            "image/png": "[encoded data removed]",
            "text/plain": [
              "<Figure size 2160x720 with 1 Axes>"
            ]
          },
          "metadata": {
            "tags": []
          }
        },
        {
          "output_type": "display_data",
          "data": {
            "text/plain": [
              "<Figure size 432x288 with 0 Axes>"
            ]
          },
          "metadata": {
            "tags": []
          }
        },
        {
          "output_type": "display_data",
          "data": {
            "image/png": "[encoded data removed]",
            "text/plain": [
              "<Figure size 2160x720 with 2 Axes>"
            ]
          },
          "metadata": {
            "tags": []
          }
        }
      ]
    },
    {
      "cell_type": "code",
      "metadata": {
        "colab": {
          "background_save": true
        },
        "id": "vD4Se4_qy0C4",
        "outputId": "4b28aeba-ac45-4eca-c1b7-0e4b98eeb0af"
      },
      "source": [
        "print(max_f1_test, epoch_test)\n",
        "print(max_f1_train, epoch_train)"
      ],
      "execution_count": null,
      "outputs": [
        {
          "output_type": "stream",
          "text": [
            "0.62665327110695 23\n",
            "0.9894664569267944 47\n"
          ],
          "name": "stdout"
        }
      ]
    },
    {
      "cell_type": "code",
      "metadata": {
        "colab": {
          "background_save": true
        },
        "id": "NiqRFsHbDKG-"
      },
      "source": [
        "f1scores_train = []\n",
        "f1scores_test = []\n",
        "max_f1_train = 0\n",
        "max_f1_test = 0\n",
        "epoch_train = 0\n",
        "epoch_test = 0"
      ],
      "execution_count": null,
      "outputs": []
    },
    {
      "cell_type": "code",
      "metadata": {
        "colab": {
          "background_save": true
        },
        "id": "CMvnIiQywn0O"
      },
      "source": [
        ""
      ],
      "execution_count": null,
      "outputs": []
    },
    {
      "cell_type": "markdown",
      "metadata": {
        "id": "RCMT30iwGz0n"
      },
      "source": [
        "LSTM"
      ]
    },
    {
      "cell_type": "code",
      "metadata": {
        "id": "SI-ZB1QeG1t_"
      },
      "source": [
        "import tensorflow as tf\n",
        "from tensorflow.keras.preprocessing.text import Tokenizer\n",
        "from tensorflow.keras.preprocessing.sequence import pad_sequences"
      ],
      "execution_count": null,
      "outputs": []
    },
    {
      "cell_type": "code",
      "metadata": {
        "id": "yKES1pxTHSzO"
      },
      "source": [
        "vocab_size = 10000\n",
        "embedding_dim = 16\n",
        "trunc_type = 'post'\n",
        "padding_type = 'post'\n",
        "oov_tok = \"<OOV>\"\n",
        "training_size = 20000"
      ],
      "execution_count": null,
      "outputs": []
    },
    {
      "cell_type": "code",
      "metadata": {
        "id": "zqDCqq49UQFA"
      },
      "source": [
        ""
      ],
      "execution_count": null,
      "outputs": []
    },
    {
      "cell_type": "code",
      "metadata": {
        "id": "R857CkUxUFjn"
      },
      "source": [
        "max_len = max([len(i.split()) for i in df.Tweet])"
      ],
      "execution_count": null,
      "outputs": []
    },
    {
      "cell_type": "code",
      "metadata": {
        "colab": {
          "base_uri": "https://localhost:8080/"
        },
        "id": "2sF9kJJvUaSK",
        "outputId": "a3a524bb-35b3-4d2f-d7e7-ba93ea111c93"
      },
      "source": [
        "max_len"
      ],
      "execution_count": null,
      "outputs": [
        {
          "output_type": "execute_result",
          "data": {
            "text/plain": [
              "24"
            ]
          },
          "metadata": {
            "tags": []
          },
          "execution_count": 15
        }
      ]
    },
    {
      "cell_type": "code",
      "metadata": {
        "id": "Hlf-5YKzIbPq"
      },
      "source": [
        "tokenizer = Tokenizer(oov_token = oov_tok)"
      ],
      "execution_count": null,
      "outputs": []
    },
    {
      "cell_type": "code",
      "metadata": {
        "id": "psAYLxuJIzwo"
      },
      "source": [
        ""
      ],
      "execution_count": null,
      "outputs": []
    },
    {
      "cell_type": "code",
      "metadata": {
        "id": "kGDsvijBIpll"
      },
      "source": [
        ""
      ],
      "execution_count": null,
      "outputs": []
    },
    {
      "cell_type": "code",
      "metadata": {
        "id": "-Nqc1geRIu5S"
      },
      "source": [
        "# len(word_index)"
      ],
      "execution_count": null,
      "outputs": []
    },
    {
      "cell_type": "code",
      "metadata": {
        "id": "WMzmdGO7TSEt"
      },
      "source": [
        "training_sentences = df['Tweet'][:14000]\n",
        "testing_sentences = df['Tweet'][14000:]\n",
        "training_labels = df['Sentiment Polarity'][0:14000]\n",
        "testing_labels = df['Sentiment Polarity'][14000:]"
      ],
      "execution_count": null,
      "outputs": []
    },
    {
      "cell_type": "code",
      "metadata": {
        "colab": {
          "base_uri": "https://localhost:8080/"
        },
        "id": "gMgFaQV-OJp2",
        "outputId": "716ae498-3961-4c2b-cfc7-1cc665de2ed6"
      },
      "source": [
        "tokenizer.fit_on_texts(df['Tweet'])\n",
        "word_index = tokenizer.word_index\n",
        "print(len(word_index))\n",
        "\n",
        "training_sequences = tokenizer.texts_to_sequences(training_sentences)\n",
        "training_padded = pad_sequences(training_sequences, maxlen = max_len, padding = padding_type, truncating = trunc_type)\n",
        "\n",
        "testing_sequences = tokenizer.texts_to_sequences(testing_sentences)\n",
        "testing_padded = pad_sequences(testing_sequences, maxlen = max_len, padding = padding_type, truncating = trunc_type)"
      ],
      "execution_count": null,
      "outputs": [
        {
          "output_type": "stream",
          "text": [
            "21612\n"
          ],
          "name": "stdout"
        }
      ]
    },
    {
      "cell_type": "code",
      "metadata": {
        "colab": {
          "base_uri": "https://localhost:8080/"
        },
        "id": "jFnzt8O3OWyB",
        "outputId": "a68cdb51-040a-425b-a292-4c3e8324faef"
      },
      "source": [
        "print(len(training_sequences))\n",
        "max_list = max(training_sequences, key = lambda i: len(i) )\n",
        "print(max_list)\n",
        "print(len(max_list))"
      ],
      "execution_count": null,
      "outputs": [
        {
          "output_type": "stream",
          "text": [
            "14000\n",
            "[18091, 5347, 115, 1489, 115, 5, 115, 1148, 115, 362, 115, 6768, 115, 1063, 115, 1394, 115, 41, 115, 1618, 115, 208, 115, 4073]\n",
            "24\n"
          ],
          "name": "stdout"
        }
      ]
    },
    {
      "cell_type": "code",
      "metadata": {
        "colab": {
          "base_uri": "https://localhost:8080/"
        },
        "id": "hA6p6U5fEjWv",
        "outputId": "30a45e43-ab91-4a24-bfdf-dde0fad72ee9"
      },
      "source": [
        "label_tokenizer = Tokenizer()\n",
        "label_tokenizer.fit_on_texts(training_labels)\n",
        "label_word_index = label_tokenizer.word_index\n",
        "label_seq = label_tokenizer.texts_to_sequences(training_labels)\n",
        "testing_label_seq = np.array(label_tokenizer.texts_to_sequences(testing_labels))\n",
        "\n",
        "print(label_seq)\n",
        "print(label_word_index)"
      ],
      "execution_count": null,
      "outputs": [
        {
          "output_type": "stream",
          "text": [
            "[[1], [1], [3], [2], [1], [2], [3], [1], [3], [1], [1], [1], [1], [2], [2], [2], [2], [3], [2], [3], [3], [2], [2], [1], [1], [3], [1], [1], [3], [2], [2], [2], [3], [2], [3], [1], [1], [1], [1], [1], [2], [3], [2], [1], [2], [1], [3], [2], [2], [2], [2], [3], [3], [3], [1], [2], [3], [1], [1], [1], [1], [3], [1], [1], [2], [2], [3], [2], [2], [1], [1], [1], [1], [1], [2], [2], [1], [2], [2], [1], [3], [2], [1], [1], [2], [1], [3], [1], [2], [3], [1], [2], [2], [3], [1], [2], [2], [2], [3], [2], [2], [3], [2], [2], [2], [1], [3], [2], [3], [1], [3], [2], [2], [1], [3], [1], [2], [3], [1], [1], [1], [2], [1], [1], [1], [1], [2], [3], [2], [1], [3], [1], [1], [1], [3], [2], [3], [1], [1], [1], [2], [1], [3], [3], [2], [1], [3], [3], [3], [3], [2], [1], [1], [2], [3], [1], [2], [3], [3], [1], [2], [3], [1], [3], [1], [2], [3], [3], [3], [2], [1], [3], [1], [3], [3], [1], [1], [1], [2], [2], [2], [3], [1], [1], [2], [1], [3], [2], [1], [3], [3], [3], [1], [1], [2], [1], [2], [2], [2], [2], [3], [1], [2], [1], [1], [2], [3], [3], [2], [3], [1], [1], [1], [1], [1], [2], [3], [1], [1], [2], [1], [1], [3], [3], [2], [3], [2], [1], [1], [1], [3], [3], [1], [2], [2], [2], [3], [1], [2], [3], [3], [3], [1], [1], [2], [1], [1], [1], [1], [1], [2], [2], [1], [2], [3], [3], [2], [1], [2], [2], [1], [1], [3], [2], [3], [1], [3], [2], [1], [1], [1], [3], [3], [1], [1], [3], [3], [1], [1], [3], [2], [1], [3], [1], [2], [3], [1], [2], [1], [2], [2], [2], [3], [3], [3], [3], [3], [3], [2], [1], [3], [3], [2], [1], [2], [3], [2], [3], [1], [2], [1], [3], [3], [1], [3], [3], [2], [3], [3], [1], [1], [2], [1], [1], [2], [2], [1], [1], [3], [1], [3], [1], [2], [2], [1], [1], [3], [2], [3], [2], [2], [3], [2], [2], [2], [3], [1], [2], [3], [1], [1], [1], [2], [1], [2], [2], [2], [2], [1], [2], [2], [3], [3], [3], [1], [3], [2], [1], [1], [3], [1], [3], [3], [3], [3], [1], [2], [2], [3], [3], [2], [3], [2], [3], [1], [2], [2], [1], [1], [1], [1], [1], [2], [1], [2], [2], [3], [1], [1], [1], [3], [1], [1], [3], [1], [2], [2], [1], [2], [1], [3], [3], [2], [1], [3], [2], [2], [1], [1], [1], [3], [2], [1], [1], [3], [2], [2], [1], [1], [1], [2], [2], [2], [1], [1], [1], [1], [3], [1], [1], [3], [2], [3], [3], [3], [2], [1], [1], [3], [3], [2], [3], [3], [1], [3], [3], [2], [2], [1], [3], [3], [2], [3], [2], [1], [3], [2], [3], [3], [3], [1], [1], [2], [1], [2], [2], [2], [1], [2], [2], [2], [1], [2], [3], [2], [1], [1], [3], [3], [3], [1], [1], [2], [2], [3], [1], [1], [1], [1], [3], [1], [1], [1], [3], [2], [3], [1], [2], [1], [1], [2], [3], [2], [3], [3], [1], [3], [1], [2], [1], [1], [3], [2], [1], [3], [2], [1], [2], [2], [1], [1], [2], [3], [2], [3], [2], [1], [2], [2], [3], [1], [2], [3], [2], [3], [3], [2], [2], [1], [3], [2], [2], [1], [1], [3], [1], [3], [2], [3], [1], [1], [1], [3], [3], [2], [2], [1], [3], [2], [2], [2], [3], [3], [2], [1], [1], [3], [1], [2], [1], [1], [3], [2], [1], [1], [1], [1], [2], [3], [1], [1], [2], [2], [3], [3], [3], [1], [3], [3], [1], [3], [1], [3], [1], [2], [1], [1], [2], [2], [1], [3], [2], [1], [3], [1], [1], [2], [1], [3], [3], [1], [1], [1], [3], [2], [1], [2], [3], [1], [2], [3], [2], [3], [3], [1], [1], [1], [1], [3], [2], [3], [1], [1], [1], [1], [1], [1], [3], [2], [1], [1], [3], [1], [1], [1], [1], [3], [1], [2], [1], [2], [2], [1], [2], [1], [3], [2], [3], [1], [2], [1], [1], [2], [1], [3], [2], [3], [1], [1], [1], [2], [1], [2], [3], [1], [3], [3], [2], [1], [1], [1], [1], [1], [2], [1], [2], [3], [3], [1], [2], [2], [2], [2], [2], [1], [2], [2], [1], [3], [1], [1], [1], [3], [1], [3], [3], [2], [3], [1], [1], [1], [3], [1], [3], [1], [3], [2], [1], [1], [3], [1], [3], [2], [1], [1], [3], [3], [3], [3], [1], [2], [1], [2], [3], [3], [1], [2], [2], [1], [1], [1], [3], [2], [1], [2], [1], [2], [2], [2], [1], [2], [2], [2], [2], [1], [3], [3], [3], [1], [2], [1], [3], [3], [2], [1], [1], [2], [2], [2], [1], [3], [2], [3], [1], [1], [3], [2], [1], [1], [3], [1], [3], [2], [3], [3], [2], [1], [1], [2], [2], [3], [1], [1], [3], [1], [3], [1], [2], [1], [1], [2], [1], [3], [3], [3], [1], [3], [2], [2], [2], [2], [3], [1], [1], [2], [3], [1], [1], [3], [3], [3], [3], [2], [1], [3], [2], [1], [1], [1], [2], [3], [2], [3], [3], [1], [2], [3], [1], [2], [2], [1], [1], [1], [2], [1], [1], [3], [2], [3], [2], [1], [3], [1], [1], [3], [2], [1], [1], [1], [3], [2], [3], [1], [3], [3], [1], [2], [2], [1], [2], [1], [1], [2], [2], [3], [1], [1], [3], [2], [2], [1], [3], [1], [1], [3], [1], [2], [1], [1], [3], [1], [3], [2], [2], [1], [2], [1], [3], [1], [2], [1], [1], [3], [1], [3], [2], [3], [1], [1], [3], [2], [3], [3], [2], [1], [2], [2], [2], [2], [1], [2], [2], [2], [1], [3], [2], [1], [1], [2], [3], [1], [2], [3], [2], [1], [3], [1], [1], [2], [1], [3], [2], [2], [3], [2], [2], [1], [3], [3], [2], [1], [1], [2], [1], [3], [3], [1], [1], [3], [2], [2], [3], [3], [2], [2], [1], [1], [3], [3], [2], [1], [3], [3], [3], [2], [2], [2], [3], [2], [1], [3], [1], [2], [2], [3], [1], [1], [1], [1], [1], [2], [3], [1], [3], [1], [1], [1], [1], [2], [1], [2], [2], [2], [3], [1], [1], [3], [1], [3], [3], [2], [1], [2], [3], [1], [1], [2], [3], [3], [1], [3], [1], [3], [1], [1], [1], [1], [3], [3], [1], [1], [2], [2], [2], [2], [1], [1], [2], [2], [2], [2], [2], [3], [3], [3], [3], [2], [1], [3], [1], [2], [1], [2], [3], [2], [1], [1], [3], [1], [1], [2], [2], [1], [1], [1], [2], [1], [3], [1], [3], [2], [1], [3], [3], [3], [3], [1], [1], [1], [2], [3], [1], [3], [1], [1], [3], [1], [2], [3], [1], [2], [3], [2], [2], [2], [2], [2], [1], [1], [2], [3], [1], [3], [3], [2], [3], [2], [3], [1], [3], [2], [3], [3], [3], [3], [1], [2], [1], [2], [2], [1], [1], [1], [1], [1], [3], [2], [2], [1], [1], [1], [3], [1], [3], [3], [3], [1], [2], [2], [1], [2], [1], [2], [1], [2], [3], [1], [2], [1], [3], [2], [1], [3], [2], [3], [1], [2], [1], [3], [3], [1], [1], [1], [3], [1], [3], [3], [2], [3], [1], [2], [3], [2], [2], [1], [2], [2], [1], [1], [1], [2], [3], [3], [3], [1], [3], [3], [1], [2], [1], [2], [2], [3], [3], [3], [1], [1], [2], [2], [2], [3], [1], [3], [2], [1], [3], [1], [1], [3], [1], [3], [1], [1], [1], [1], [2], [2], [3], [2], [3], [2], [1], [3], [2], [2], [1], [1], [2], [1], [1], [1], [2], [1], [2], [2], [2], [3], [2], [1], [1], [1], [1], [1], [1], [1], [1], [1], [2], [3], [3], [1], [1], [2], [2], [2], [3], [2], [3], [1], [2], [1], [1], [1], [2], [3], [2], [2], [1], [2], [2], [1], [1], [1], [2], [3], [1], [1], [1], [2], [3], [2], [3], [3], [1], [3], [1], [1], [1], [3], [3], [3], [1], [1], [2], [1], [2], [3], [3], [3], [2], [1], [2], [3], [2], [2], [1], [1], [2], [3], [2], [2], [1], [1], [1], [1], [3], [1], [1], [1], [3], [2], [3], [3], [2], [1], [3], [1], [2], [2], [3], [1], [2], [3], [1], [2], [1], [2], [1], [1], [2], [1], [2], [2], [1], [2], [3], [1], [3], [2], [3], [1], [3], [1], [1], [3], [2], [3], [3], [2], [2], [2], [3], [1], [3], [3], [3], [1], [1], [1], [1], [1], [3], [1], [2], [1], [3], [2], [1], [2], [2], [3], [2], [3], [2], [2], [3], [1], [1], [3], [2], [1], [1], [2], [1], [2], [2], [2], [2], [2], [2], [3], [2], [3], [2], [1], [3], [1], [2], [3], [3], [1], [3], [2], [1], [3], [1], [1], [3], [2], [3], [3], [1], [1], [1], [2], [2], [1], [1], [3], [1], [2], [3], [3], [1], [1], [3], [2], [2], [1], [1], [2], [3], [1], [2], [1], [3], [2], [1], [3], [1], [2], [3], [2], [2], [1], [2], [2], [1], [2], [1], [1], [2], [1], [2], [1], [2], [2], [2], [1], [1], [3], [2], [1], [2], [2], [3], [3], [1], [1], [1], [1], [1], [3], [1], [1], [2], [3], [1], [3], [1], [1], [1], [2], [1], [2], [2], [3], [2], [2], [2], [2], [1], [3], [3], [1], [2], [2], [1], [2], [3], [3], [1], [2], [2], [1], [2], [2], [1], [1], [2], [3], [3], [1], [1], [1], [2], [1], [2], [3], [1], [3], [1], [2], [1], [3], [1], [3], [1], [2], [1], [1], [3], [1], [2], [2], [3], [2], [2], [2], [3], [2], [1], [1], [2], [3], [1], [1], [3], [2], [1], [1], [1], [1], [2], [2], [2], [2], [2], [3], [3], [3], [3], [2], [1], [1], [3], [2], [1], [1], [3], [3], [2], [2], [1], [1], [2], [1], [3], [3], [1], [3], [1], [1], [1], [1], [2], [2], [3], [1], [1], [3], [1], [3], [3], [3], [3], [2], [3], [3], [3], [1], [3], [1], [1], [3], [3], [2], [3], [2], [2], [1], [1], [3], [1], [3], [3], [3], [2], [2], [2], [1], [2], [1], [1], [2], [1], [3], [2], [2], [3], [3], [3], [2], [2], [3], [3], [1], [2], [1], [2], [1], [3], [3], [3], [1], [2], [3], [3], [1], [1], [1], [2], [1], [3], [2], [3], [2], [1], [2], [1], [3], [2], [2], [1], [3], [2], [2], [2], [2], [3], [1], [2], [2], [1], [3], [1], [1], [2], [2], [3], [3], [2], [2], [1], [3], [1], [3], [1], [3], [1], [2], [1], [1], [3], [2], [2], [3], [3], [3], [1], [2], [3], [3], [3], [3], [1], [3], [2], [1], [1], [1], [3], [1], [2], [1], [2], [2], [2], [3], [1], [2], [1], [2], [1], [3], [1], [3], [1], [2], [1], [3], [1], [1], [3], [2], [1], [2], [2], [1], [3], [1], [2], [1], [1], [1], [3], [1], [1], [3], [1], [1], [3], [2], [2], [3], [3], [1], [2], [3], [3], [2], [2], [2], [2], [1], [3], [1], [2], [2], [2], [1], [1], [1], [2], [1], [1], [2], [1], [2], [3], [1], [3], [1], [1], [3], [1], [2], [3], [1], [1], [1], [2], [3], [1], [2], [2], [1], [1], [3], [2], [2], [1], [1], [1], [3], [2], [2], [3], [1], [1], [3], [1], [2], [1], [2], [2], [1], [1], [3], [1], [2], [3], [2], [1], [2], [1], [2], [2], [1], [3], [2], [1], [1], [2], [1], [3], [1], [1], [1], [1], [3], [2], [1], [2], [1], [2], [2], [2], [2], [2], [1], [2], [1], [2], [2], [1], [3], [2], [2], [1], [1], [3], [2], [1], [3], [3], [2], [3], [2], [3], [2], [1], [2], [3], [1], [2], [2], [1], [1], [2], [2], [2], [1], [3], [2], [2], [2], [2], [1], [1], [1], [2], [1], [1], [3], [2], [1], [3], [3], [1], [2], [1], [2], [3], [2], [2], [2], [3], [3], [3], [1], [2], [3], [1], [2], [3], [2], [1], [3], [1], [2], [1], [1], [1], [2], [1], [1], [2], [3], [2], [2], [3], [1], [1], [1], [1], [2], [2], [2], [1], [3], [1], [1], [1], [1], [1], [1], [1], [3], [2], [3], [1], [1], [3], [2], [2], [1], [2], [1], [2], [1], [2], [1], [3], [1], [3], [2], [3], [2], [3], [1], [1], [1], [1], [2], [3], [2], [3], [1], [3], [3], [1], [3], [2], [2], [3], [3], [2], [1], [3], [1], [2], [1], [3], [3], [2], [1], [3], [2], [3], [1], [1], [2], [1], [2], [2], [1], [1], [2], [1], [1], [3], [2], [2], [3], [1], [3], [2], [2], [1], [1], [3], [3], [2], [3], [1], [2], [1], [2], [1], [1], [1], [1], [2], [1], [2], [3], [2], [3], [3], [2], [2], [2], [1], [2], [1], [2], [2], [2], [3], [1], [2], [2], [1], [3], [3], [2], [3], [1], [1], [1], [3], [1], [2], [1], [1], [2], [1], [2], [3], [1], [2], [2], [1], [3], [1], [2], [3], [2], [3], [2], [3], [1], [2], [2], [3], [1], [1], [1], [3], [2], [2], [1], [1], [1], [2], [3], [2], [3], [1], [1], [2], [1], [2], [1], [1], [3], [3], [2], [3], [3], [1], [1], [2], [3], [3], [2], [3], [3], [3], [1], [2], [3], [2], [2], [3], [1], [1], [1], [3], [2], [2], [1], [1], [1], [2], [2], [2], [1], [3], [1], [2], [2], [2], [1], [1], [1], [1], [1], [3], [3], [3], [1], [3], [3], [3], [1], [1], [3], [3], [1], [1], [2], [1], [1], [3], [2], [3], [3], [1], [2], [2], [1], [1], [2], [2], [3], [3], [1], [1], [2], [2], [1], [3], [3], [3], [3], [3], [3], [2], [3], [2], [2], [2], [3], [3], [2], [3], [1], [3], [1], [1], [2], [3], [1], [1], [2], [3], [1], [1], [2], [1], [1], [2], [3], [3], [3], [2], [2], [1], [2], [2], [1], [3], [1], [2], [1], [1], [2], [2], [1], [2], [2], [3], [2], [1], [2], [2], [2], [2], [2], [1], [1], [3], [2], [2], [1], [1], [2], [1], [1], [3], [3], [3], [3], [1], [1], [2], [3], [1], [3], [2], [1], [2], [2], [1], [2], [1], [1], [2], [1], [3], [1], [2], [1], [1], [1], [3], [1], [3], [3], [3], [3], [3], [2], [1], [1], [3], [2], [3], [1], [2], [2], [1], [2], [3], [2], [3], [1], [1], [2], [2], [2], [3], [1], [2], [2], [3], [1], [2], [2], [2], [3], [1], [2], [2], [2], [1], [1], [3], [1], [2], [1], [3], [2], [1], [3], [1], [1], [1], [1], [3], [3], [1], [1], [2], [3], [1], [1], [3], [1], [2], [2], [3], [1], [3], [3], [3], [1], [2], [2], [3], [2], [2], [2], [2], [1], [3], [3], [3], [3], [3], [1], [3], [3], [2], [3], [3], [2], [3], [1], [2], [3], [3], [1], [2], [2], [1], [2], [2], [1], [1], [3], [3], [2], [3], [1], [3], [2], [3], [3], [1], [3], [1], [3], [2], [2], [2], [2], [1], [1], [3], [1], [1], [2], [2], [3], [2], [3], [1], [1], [1], [2], [3], [2], [2], [2], [2], [3], [1], [2], [1], [2], [1], [1], [1], [1], [3], [3], [1], [3], [1], [3], [1], [1], [1], [1], [2], [2], [1], [2], [1], [2], [3], [3], [3], [1], [3], [1], [2], [3], [2], [2], [1], [3], [3], [2], [1], [2], [1], [2], [1], [2], [1], [1], [2], [2], [2], [2], [2], [1], [2], [3], [2], [2], [1], [2], [1], [2], [2], [1], [3], [2], [2], [1], [1], [3], [1], [1], [1], [1], [1], [2], [2], [2], [2], [2], [3], [3], [1], [3], [2], [3], [2], [2], [1], [1], [1], [2], [3], [3], [3], [2], [2], [3], [2], [3], [3], [2], [2], [1], [1], [1], [1], [1], [3], [1], [1], [3], [2], [1], [1], [2], [3], [3], [3], [2], [1], [1], [2], [1], [2], [2], [2], [2], [1], [1], [1], [3], [3], [1], [3], [3], [2], [3], [2], [3], [1], [3], [2], [2], [2], [2], [2], [1], [3], [2], [3], [1], [3], [3], [3], [2], [1], [1], [3], [3], [3], [3], [3], [2], [2], [1], [3], [1], [1], [1], [2], [3], [1], [1], [3], [1], [1], [1], [1], [2], [3], [1], [1], [2], [1], [3], [2], [3], [1], [1], [2], [2], [2], [3], [3], [2], [1], [1], [2], [1], [3], [3], [1], [1], [3], [2], [1], [1], [1], [1], [2], [1], [3], [1], [3], [3], [1], [1], [1], [1], [3], [2], [3], [2], [2], [3], [1], [2], [1], [3], [1], [3], [2], [1], [1], [3], [2], [2], [1], [3], [3], [1], [3], [1], [2], [3], [1], [3], [1], [3], [3], [1], [3], [2], [2], [1], [1], [2], [3], [3], [1], [1], [1], [3], [2], [3], [1], [1], [2], [3], [1], [2], [1], [2], [1], [2], [1], [1], [3], [2], [3], [1], [2], [3], [1], [3], [2], [2], [1], [2], [3], [2], [2], [3], [2], [3], [1], [2], [2], [1], [2], [2], [1], [1], [1], [1], [1], [1], [2], [3], [1], [1], [1], [3], [3], [3], [2], [1], [2], [1], [3], [2], [1], [2], [2], [2], [1], [2], [1], [3], [2], [1], [1], [3], [3], [1], [1], [1], [1], [1], [2], [1], [1], [2], [2], [1], [2], [2], [3], [3], [1], [1], [2], [2], [3], [3], [2], [2], [3], [3], [3], [1], [1], [3], [1], [3], [1], [3], [1], [2], [2], [3], [3], [2], [3], [3], [3], [1], [2], [2], [3], [3], [1], [3], [1], [2], [3], [3], [1], [2], [1], [1], [1], [2], [3], [3], [3], [2], [3], [2], [1], [2], [2], [2], [3], [3], [1], [1], [1], [1], [1], [3], [2], [1], [1], [2], [1], [2], [2], [3], [3], [1], [1], [2], [1], [3], [2], [3], [1], [3], [1], [1], [2], [2], [3], [1], [2], [3], [3], [1], [2], [2], [1], [2], [1], [1], [2], [3], [1], [1], [2], [1], [2], [2], [1], [3], [2], [3], [2], [1], [1], [3], [2], [1], [2], [3], [3], [3], [1], [2], [3], [2], [3], [2], [2], [2], [2], [1], [1], [1], [1], [3], [2], [3], [2], [2], [2], [1], [1], [3], [2], [3], [1], [3], [2], [3], [3], [1], [1], [1], [1], [1], [2], [2], [3], [2], [3], [2], [1], [1], [2], [3], [1], [3], [3], [3], [2], [3], [1], [3], [1], [1], [2], [3], [2], [3], [1], [1], [1], [1], [1], [2], [1], [2], [1], [3], [2], [2], [2], [2], [3], [2], [3], [1], [3], [1], [2], [1], [1], [3], [2], [2], [2], [2], [1], [1], [2], [2], [3], [1], [2], [3], [1], [3], [2], [1], [1], [1], [3], [2], [3], [2], [3], [1], [1], [1], [1], [1], [1], [2], [3], [1], [1], [1], [1], [1], [1], [3], [3], [2], [1], [1], [1], [2], [1], [3], [3], [1], [1], [2], [2], [2], [1], [3], [2], [3], [1], [1], [2], [2], [1], [3], [1], [3], [1], [3], [2], [1], [1], [2], [1], [1], [2], [3], [2], [3], [2], [3], [1], [3], [2], [1], [1], [3], [3], [3], [3], [3], [3], [2], [2], [3], [2], [1], [3], [2], [2], [1], [1], [2], [2], [1], [1], [3], [3], [3], [3], [1], [1], [2], [3], [3], [2], [1], [1], [2], [2], [3], [3], [3], [1], [3], [1], [3], [2], [1], [1], [1], [2], [2], [2], [3], [1], [1], [3], [1], [1], [2], [2], [3], [3], [2], [1], [3], [3], [1], [3], [1], [3], [3], [3], [1], [1], [1], [3], [1], [3], [1], [3], [2], [3], [1], [3], [2], [2], [3], [2], [1], [2], [1], [3], [2], [1], [2], [2], [2], [1], [3], [3], [3], [2], [3], [1], [2], [1], [3], [3], [2], [1], [1], [1], [1], [2], [2], [1], [1], [3], [3], [3], [1], [1], [3], [2], [3], [3], [1], [2], [1], [2], [2], [3], [1], [3], [3], [2], [1], [2], [2], [1], [1], [1], [3], [2], [2], [2], [2], [3], [3], [1], [1], [2], [1], [1], [2], [2], [1], [1], [1], [1], [2], [2], [1], [3], [1], [2], [3], [3], [2], [3], [1], [3], [1], [3], [1], [2], [1], [3], [1], [1], [2], [3], [1], [2], [2], [2], [1], [1], [3], [3], [2], [2], [1], [2], [3], [1], [1], [1], [3], [2], [1], [1], [1], [2], [1], [3], [2], [1], [1], [2], [2], [2], [3], [1], [2], [3], [3], [3], [2], [3], [1], [1], [2], [2], [2], [1], [1], [2], [3], [2], [2], [2], [3], [1], [3], [2], [2], [1], [1], [1], [3], [2], [1], [2], [1], [1], [1], [2], [1], [2], [1], [3], [1], [1], [3], [1], [2], [2], [1], [2], [3], [2], [1], [2], [1], [2], [2], [3], [2], [2], [2], [1], [1], [2], [1], [1], [1], [2], [3], [2], [1], [2], [2], [3], [3], [3], [1], [3], [2], [1], [3], [1], [3], [3], [1], [3], [2], [1], [1], [2], [3], [1], [1], [1], [3], [1], [3], [1], [3], [3], [1], [3], [3], [3], [2], [1], [3], [2], [3], [1], [2], [2], [3], [2], [2], [3], [1], [1], [3], [3], [1], [2], [3], [2], [3], [1], [1], [1], [3], [1], [2], [2], [3], [1], [2], [2], [3], [1], [1], [3], [1], [1], [1], [1], [3], [3], [3], [3], [3], [3], [1], [3], [2], [1], [3], [2], [2], [1], [2], [2], [1], [1], [1], [1], [1], [3], [2], [1], [2], [3], [1], [1], [1], [3], [1], [2], [1], [2], [2], [3], [2], [2], [2], [2], [1], [1], [3], [1], [2], [1], [1], [2], [2], [3], [1], [3], [2], [1], [3], [3], [2], [1], [1], [3], [3], [3], [2], [1], [1], [1], [1], [3], [1], [2], [2], [3], [3], [2], [1], [2], [2], [1], [1], [3], [1], [1], [1], [1], [1], [2], [2], [3], [3], [3], [2], [3], [1], [2], [2], [1], [2], [1], [2], [1], [3], [3], [1], [1], [1], [2], [2], [1], [2], [2], [3], [1], [1], [3], [2], [3], [3], [1], [2], [2], [1], [2], [1], [1], [3], [2], [3], [1], [1], [1], [1], [2], [1], [2], [2], [1], [2], [1], [1], [1], [1], [2], [3], [1], [2], [2], [2], [2], [3], [2], [3], [1], [1], [3], [1], [3], [2], [2], [3], [3], [2], [1], [3], [1], [1], [3], [2], [1], [1], [1], [1], [1], [1], [3], [1], [1], [2], [1], [3], [1], [1], [1], [3], [3], [3], [1], [1], [1], [2], [1], [3], [1], [3], [1], [2], [1], [2], [3], [3], [1], [1], [3], [3], [3], [2], [3], [2], [3], [2], [2], [2], [3], [3], [2], [1], [2], [3], [3], [1], [1], [1], [2], [2], [2], [2], [2], [1], [3], [1], [1], [2], [2], [2], [3], [3], [3], [2], [3], [2], [3], [1], [2], [2], [3], [1], [3], [3], [1], [3], [1], [2], [2], [1], [1], [2], [1], [1], [1], [3], [2], [2], [3], [2], [3], [1], [1], [2], [1], [2], [2], [3], [3], [1], [2], [2], [3], [1], [3], [2], [2], [1], [1], [1], [1], [2], [2], [1], [2], [2], [2], [3], [1], [3], [2], [2], [2], [1], [1], [2], [1], [3], [3], [2], [2], [3], [1], [2], [2], [3], [2], [2], [2], [2], [3], [2], [2], [3], [1], [1], [1], [3], [1], [1], [1], [3], [1], [1], [1], [1], [1], [1], [1], [1], [1], [1], [3], [1], [1], [1], [3], [1], [3], [1], [1], [1], [1], [3], [1], [1], [3], [1], [1], [1], [3], [1], [3], [3], [3], [3], [2], [1], [1], [1], [1], [1], [2], [1], [2], [2], [2], [2], [2], [1], [1], [2], [3], [2], [2], [3], [2], [1], [2], [1], [1], [1], [1], [1], [1], [2], [1], [1], [1], [3], [3], [1], [1], [2], [2], [3], [3], [1], [2], [3], [2], [1], [1], [3], [1], [3], [2], [2], [1], [2], [3], [1], [3], [1], [3], [2], [2], [3], [1], [2], [1], [2], [1], [2], [1], [2], [3], [1], [3], [1], [1], [3], [1], [3], [3], [3], [3], [3], [1], [1], [3], [1], [2], [2], [1], [1], [3], [1], [2], [1], [2], [1], [1], [2], [2], [1], [1], [1], [2], [3], [2], [1], [2], [3], [2], [1], [1], [2], [3], [1], [2], [1], [2], [2], [1], [1], [2], [2], [1], [1], [1], [1], [1], [3], [3], [2], [1], [3], [1], [2], [2], [2], [3], [3], [3], [1], [3], [1], [2], [2], [2], [3], [2], [1], [2], [1], [2], [1], [3], [2], [3], [1], [3], [3], [2], [1], [3], [1], [1], [1], [3], [1], [1], [3], [2], [2], [3], [1], [2], [3], [2], [2], [2], [1], [3], [2], [3], [3], [1], [1], [1], [1], [3], [3], [2], [1], [3], [2], [1], [1], [1], [2], [1], [2], [2], [3], [1], [1], [2], [1], [3], [1], [1], [2], [1], [3], [3], [1], [3], [3], [1], [3], [2], [2], [2], [1], [1], [1], [2], [3], [1], [2], [2], [2], [3], [2], [3], [1], [1], [1], [3], [2], [2], [3], [3], [3], [1], [1], [3], [1], [3], [2], [3], [1], [1], [2], [2], [2], [2], [3], [2], [1], [2], [1], [3], [1], [2], [2], [2], [1], [3], [1], [1], [2], [2], [1], [3], [2], [1], [3], [3], [1], [2], [1], [2], [2], [3], [2], [2], [2], [3], [1], [1], [3], [2], [3], [1], [3], [3], [2], [1], [2], [2], [3], [2], [3], [2], [2], [1], [3], [2], [1], [1], [3], [2], [1], [1], [2], [1], [1], [2], [2], [3], [2], [3], [3], [2], [2], [1], [1], [2], [2], [2], [1], [1], [2], [3], [3], [3], [2], [3], [1], [3], [2], [2], [1], [3], [2], [1], [1], [3], [2], [3], [3], [2], [3], [3], [2], [1], [3], [1], [1], [2], [3], [3], [2], [3], [1], [3], [3], [1], [1], [1], [3], [3], [1], [1], [3], [1], [2], [2], [1], [1], [2], [3], [3], [2], [3], [3], [1], [3], [3], [1], [2], [2], [2], [2], [3], [3], [3], [2], [2], [3], [1], [1], [1], [1], [1], [3], [3], [3], [3], [1], [1], [2], [1], [1], [3], [2], [2], [2], [3], [2], [1], [1], [2], [3], [1], [1], [2], [2], [1], [2], [3], [1], [2], [1], [2], [3], [3], [2], [1], [3], [1], [2], [1], [1], [2], [2], [1], [1], [1], [2], [1], [1], [3], [2], [3], [2], [3], [2], [1], [2], [1], [2], [2], [1], [1], [2], [1], [2], [3], [1], [1], [2], [1], [1], [3], [1], [1], [1], [2], [1], [2], [2], [3], [2], [2], [1], [1], [1], [2], [1], [2], [1], [3], [3], [3], [3], [3], [3], [3], [2], [2], [1], [1], [3], [1], [3], [1], [1], [2], [3], [3], [3], [2], [3], [1], [3], [1], [3], [3], [2], [1], [2], [2], [2], [2], [3], [3], [3], [3], [1], [1], [1], [3], [3], [2], [3], [1], [3], [3], [2], [3], [2], [1], [3], [1], [1], [1], [2], [3], [2], [2], [3], [2], [3], [2], [3], [2], [2], [3], [1], [3], [1], [2], [3], [2], [2], [1], [2], [2], [1], [1], [3], [2], [1], [3], [2], [2], [1], [1], [3], [3], [1], [3], [1], [2], [1], [3], [2], [2], [1], [1], [1], [3], [3], [1], [3], [2], [3], [3], [3], [1], [3], [2], [3], [3], [2], [1], [3], [2], [1], [1], [1], [1], [2], [1], [2], [3], [2], [2], [1], [1], [3], [3], [1], [1], [2], [1], [2], [2], [1], [1], [3], [2], [2], [1], [1], [3], [1], [3], [2], [3], [2], [1], [1], [1], [1], [3], [1], [1], [3], [1], [2], [2], [3], [1], [2], [3], [3], [2], [1], [1], [2], [3], [1], [3], [1], [3], [1], [1], [1], [1], [3], [1], [1], [3], [3], [1], [1], [1], [3], [2], [3], [3], [2], [3], [2], [3], [2], [3], [1], [2], [2], [1], [2], [1], [2], [3], [2], [3], [1], [3], [2], [1], [2], [2], [3], [2], [1], [2], [3], [3], [3], [2], [3], [3], [1], [2], [1], [2], [3], [1], [2], [2], [1], [3], [3], [1], [1], [1], [1], [1], [2], [1], [1], [3], [3], [1], [3], [1], [3], [2], [1], [2], [1], [3], [2], [3], [1], [1], [1], [3], [1], [3], [1], [3], [2], [2], [1], [2], [1], [1], [1], [2], [1], [3], [3], [3], [2], [1], [2], [2], [3], [3], [3], [1], [2], [3], [1], [3], [2], [1], [1], [2], [1], [1], [1], [1], [2], [1], [1], [2], [1], [3], [3], [3], [1], [3], [1], [3], [1], [3], [2], [2], [2], [2], [2], [3], [3], [2], [3], [2], [1], [3], [2], [1], [3], [3], [2], [1], [1], [3], [2], [1], [1], [2], [2], [3], [1], [3], [1], [2], [3], [3], [2], [3], [1], [3], [1], [2], [1], [1], [2], [1], [1], [1], [2], [2], [3], [2], [3], [1], [2], [2], [1], [2], [2], [3], [2], [3], [3], [1], [3], [3], [2], [2], [1], [1], [2], [1], [3], [3], [1], [3], [2], [2], [1], [1], [1], [2], [1], [1], [2], [2], [1], [3], [3], [1], [1], [1], [1], [2], [1], [3], [1], [1], [2], [2], [2], [1], [1], [1], [1], [1], [2], [2], [2], [1], [2], [1], [2], [2], [2], [3], [1], [1], [2], [2], [3], [3], [3], [2], [3], [3], [1], [2], [2], [2], [1], [1], [1], [3], [2], [2], [3], [2], [3], [1], [2], [1], [2], [2], [1], [3], [2], [1], [1], [2], [1], [3], [3], [2], [2], [2], [2], [2], [2], [2], [2], [2], [1], [3], [2], [3], [1], [1], [1], [1], [1], [1], [1], [3], [1], [3], [1], [3], [1], [1], [2], [2], [1], [3], [3], [2], [1], [1], [2], [2], [3], [1], [3], [1], [2], [3], [2], [1], [2], [1], [1], [2], [3], [1], [3], [1], [2], [1], [3], [2], [1], [3], [3], [3], [2], [1], [1], [1], [3], [2], [1], [1], [3], [3], [1], [2], [1], [3], [1], [3], [1], [2], [1], [3], [1], [2], [2], [1], [2], [2], [1], [2], [1], [3], [3], [1], [3], [1], [3], [3], [1], [1], [1], [1], [3], [2], [1], [1], [1], [3], [3], [3], [2], [2], [2], [2], [2], [1], [1], [2], [1], [2], [3], [3], [1], [1], [1], [3], [1], [3], [2], [1], [3], [1], [3], [1], [3], [1], [3], [3], [3], [3], [3], [3], [2], [1], [1], [1], [2], [1], [1], [1], [1], [3], [1], [3], [1], [2], [1], [2], [2], [1], [1], [3], [3], [3], [1], [1], [1], [2], [3], [3], [1], [1], [2], [1], [3], [1], [2], [2], [1], [1], [1], [1], [2], [2], [2], [2], [3], [1], [3], [2], [3], [1], [3], [1], [2], [1], [3], [3], [2], [2], [1], [2], [1], [3], [3], [2], [3], [1], [3], [3], [1], [2], [2], [1], [3], [3], [2], [3], [1], [3], [1], [1], [2], [3], [2], [2], [3], [1], [1], [1], [3], [1], [2], [2], [2], [2], [2], [1], [2], [1], [1], [3], [3], [2], [2], [1], [1], [1], [2], [1], [3], [2], [2], [1], [3], [1], [3], [3], [3], [2], [2], [2], [1], [1], [2], [1], [2], [1], [2], [1], [2], [1], [2], [3], [2], [1], [3], [2], [3], [3], [1], [2], [3], [2], [2], [3], [1], [3], [3], [3], [1], [3], [1], [1], [1], [1], [2], [2], [2], [3], [3], [1], [3], [2], [2], [1], [2], [2], [1], [2], [2], [3], [1], [1], [3], [3], [2], [1], [1], [1], [1], [2], [1], [1], [3], [1], [1], [1], [1], [2], [1], [3], [3], [3], [3], [2], [1], [2], [3], [2], [3], [2], [3], [2], [1], [3], [3], [2], [3], [2], [1], [3], [3], [1], [2], [1], [1], [1], [3], [2], [3], [3], [1], [1], [3], [1], [2], [3], [3], [3], [1], [2], [3], [2], [1], [1], [2], [2], [1], [1], [3], [3], [3], [3], [1], [1], [1], [2], [3], [2], [3], [3], [3], [3], [2], [3], [3], [2], [1], [1], [1], [3], [2], [1], [1], [1], [3], [1], [2], [2], [1], [1], [3], [3], [2], [2], [2], [3], [1], [2], [2], [1], [1], [3], [1], [1], [1], [2], [1], [3], [1], [1], [3], [1], [1], [3], [3], [3], [2], [1], [2], [1], [1], [2], [3], [3], [3], [1], [3], [1], [2], [2], [3], [3], [3], [2], [1], [1], [1], [1], [1], [3], [1], [2], [3], [2], [1], [1], [1], [2], [2], [3], [1], [2], [2], [3], [3], [1], [1], [2], [3], [1], [2], [1], [1], [2], [2], [2], [2], [1], [1], [1], [1], [1], [3], [1], [3], [3], [1], [3], [2], [1], [3], [1], [1], [3], [1], [3], [3], [2], [2], [2], [2], [1], [3], [1], [1], [2], [3], [2], [3], [1], [1], [2], [3], [1], [1], [3], [1], [2], [2], [2], [3], [2], [1], [2], [2], [2], [2], [2], [1], [1], [1], [2], [1], [2], [1], [1], [2], [1], [2], [3], [3], [1], [3], [2], [2], [1], [3], [1], [1], [2], [1], [2], [1], [2], [1], [2], [2], [3], [1], [1], [1], [2], [3], [2], [1], [1], [3], [1], [2], [1], [2], [2], [1], [1], [3], [2], [2], [1], [2], [1], [2], [2], [1], [2], [3], [3], [2], [2], [2], [2], [2], [1], [2], [1], [2], [3], [3], [1], [2], [1], [2], [1], [3], [2], [3], [2], [3], [2], [2], [1], [1], [1], [1], [3], [1], [1], [3], [3], [3], [2], [1], [2], [3], [1], [3], [2], [1], [1], [3], [1], [3], [3], [2], [2], [2], [2], [1], [3], [2], [3], [3], [1], [3], [2], [1], [3], [1], [3], [1], [2], [1], [1], [3], [2], [1], [3], [1], [3], [2], [2], [3], [3], [3], [1], [3], [3], [2], [3], [1], [2], [1], [3], [1], [3], [3], [1], [2], [3], [2], [3], [2], [3], [2], [2], [3], [3], [3], [2], [2], [3], [1], [1], [2], [1], [2], [3], [2], [3], [2], [2], [3], [1], [3], [1], [1], [3], [3], [3], [2], [2], [1], [3], [2], [1], [1], [2], [2], [1], [1], [2], [2], [3], [2], [1], [3], [3], [2], [1], [1], [3], [3], [1], [1], [2], [1], [1], [2], [2], [1], [3], [1], [2], [2], [3], [2], [1], [1], [3], [3], [2], [2], [2], [1], [2], [1], [2], [1], [2], [1], [1], [3], [3], [2], [1], [2], [3], [2], [2], [3], [2], [1], [1], [1], [2], [3], [3], [3], [1], [2], [2], [1], [1], [3], [3], [3], [3], [2], [3], [3], [2], [3], [2], [3], [2], [1], [1], [2], [2], [1], [3], [2], [2], [3], [2], [3], [2], [2], [2], [1], [1], [2], [1], [1], [3], [1], [3], [1], [3], [1], [3], [1], [2], [3], [3], [1], [2], [1], [1], [1], [3], [2], [3], [3], [1], [1], [1], [2], [3], [1], [1], [2], [1], [2], [2], [3], [3], [2], [2], [3], [2], [2], [2], [3], [2], [2], [2], [3], [3], [3], [1], [1], [3], [3], [3], [1], [3], [1], [2], [2], [1], [1], [2], [2], [1], [3], [3], [3], [2], [3], [1], [1], [1], [1], [3], [1], [1], [2], [3], [2], [3], [2], [1], [3], [3], [2], [2], [3], [2], [2], [3], [3], [2], [2], [1], [2], [3], [3], [3], [3], [2], [1], [2], [3], [1], [1], [2], [1], [1], [3], [2], [3], [1], [1], [3], [2], [1], [3], [2], [1], [3], [3], [3], [1], [3], [3], [2], [2], [2], [2], [3], [2], [2], [2], [1], [1], [2], [1], [1], [1], [1], [1], [3], [2], [3], [1], [1], [1], [3], [1], [3], [2], [3], [1], [1], [1], [2], [3], [3], [1], [1], [2], [1], [2], [1], [1], [2], [2], [3], [3], [2], [3], [1], [2], [3], [1], [2], [3], [1], [2], [1], [3], [2], [1], [3], [1], [2], [1], [3], [3], [3], [3], [1], [1], [3], [2], [2], [3], [1], [1], [2], [2], [3], [1], [2], [3], [2], [1], [2], [3], [3], [3], [2], [2], [2], [3], [2], [1], [1], [1], [1], [1], [1], [1], [3], [1], [2], [3], [1], [1], [1], [2], [1], [3], [2], [1], [2], [3], [2], [2], [2], [3], [1], [3], [1], [1], [1], [3], [1], [3], [1], [3], [3], [3], [1], [3], [2], [2], [1], [2], [2], [2], [2], [3], [1], [2], [3], [2], [3], [3], [2], [1], [1], [1], [1], [2], [1], [2], [1], [1], [3], [1], [1], [3], [3], [2], [2], [3], [2], [2], [1], [2], [2], [3], [2], [3], [2], [2], [3], [3], [2], [2], [1], [2], [3], [3], [1], [2], [3], [3], [1], [1], [2], [3], [3], [1], [3], [2], [1], [3], [3], [2], [2], [1], [1], [3], [1], [1], [3], [2], [1], [3], [2], [1], [2], [1], [3], [1], [3], [2], [1], [2], [3], [2], [1], [2], [3], [2], [1], [2], [3], [2], [2], [1], [1], [3], [2], [3], [2], [2], [3], [2], [3], [3], [3], [3], [2], [1], [3], [3], [3], [2], [2], [1], [2], [3], [3], [2], [1], [2], [2], [1], [2], [3], [2], [1], [3], [1], [3], [1], [1], [2], [1], [1], [3], [2], [3], [3], [1], [1], [1], [3], [2], [1], [1], [2], [2], [1], [1], [1], [1], [3], [1], [1], [2], [1], [1], [1], [3], [2], [2], [3], [3], [1], [1], [1], [3], [1], [1], [2], [2], [2], [3], [2], [1], [2], [3], [1], [1], [3], [1], [3], [3], [3], [2], [2], [1], [3], [1], [1], [3], [2], [1], [2], [2], [3], [3], [2], [1], [3], [1], [1], [3], [1], [3], [1], [1], [1], [2], [3], [2], [1], [2], [1], [1], [2], [1], [1], [2], [1], [3], [2], [1], [3], [1], [2], [3], [2], [2], [2], [3], [1], [1], [1], [2], [1], [1], [2], [3], [3], [2], [1], [1], [2], [3], [2], [2], [3], [2], [1], [2], [1], [1], [3], [1], [3], [2], [2], [2], [3], [2], [3], [2], [2], [1], [2], [3], [3], [3], [2], [2], [1], [3], [3], [2], [1], [1], [1], [3], [3], [3], [1], [2], [3], [3], [1], [1], [3], [2], [1], [3], [3], [3], [3], [1], [2], [1], [3], [2], [1], [1], [2], [2], [1], [2], [3], [2], [2], [2], [1], [3], [3], [3], [1], [1], [2], [1], [2], [3], [2], [3], [3], [3], [3], [2], [1], [2], [2], [1], [1], [1], [3], [3], [1], [3], [2], [1], [3], [3], [2], [3], [3], [2], [1], [2], [3], [1], [1], [3], [1], [3], [2], [3], [3], [1], [1], [3], [1], [1], [1], [2], [2], [3], [3], [2], [1], [2], [1], [1], [2], [1], [3], [1], [1], [3], [2], [2], [3], [1], [3], [1], [1], [3], [3], [3], [2], [1], [2], [1], [2], [3], [3], [1], [2], [2], [3], [2], [1], [3], [2], [1], [1], [3], [2], [2], [2], [3], [1], [3], [3], [2], [3], [1], [2], [3], [2], [2], [1], [2], [1], [3], [1], [1], [1], [2], [2], [1], [3], [3], [2], [1], [1], [1], [1], [1], [2], [1], [1], [1], [1], [2], [3], [1], [2], [3], [3], [2], [2], [3], [3], [1], [1], [3], [1], [1], [1], [3], [1], [3], [1], [3], [1], [3], [2], [3], [2], [2], [2], [1], [2], [3], [2], [1], [3], [1], [2], [1], [1], [1], [1], [1], [3], [1], [1], [2], [2], [2], [1], [3], [1], [1], [1], [2], [2], [3], [1], [3], [1], [3], [3], [2], [1], [1], [1], [3], [2], [1], [3], [1], [2], [1], [1], [1], [2], [2], [1], [3], [2], [2], [2], [1], [1], [2], [3], [3], [2], [1], [3], [2], [3], [1], [1], [3], [2], [2], [1], [2], [3], [1], [3], [1], [3], [3], [1], [1], [1], [1], [2], [3], [3], [2], [3], [2], [3], [2], [2], [1], [2], [2], [2], [3], [1], [3], [1], [1], [2], [1], [3], [3], [3], [1], [1], [1], [3], [3], [2], [3], [2], [3], [2], [3], [3], [2], [3], [2], [1], [1], [1], [2], [1], [3], [2], [1], [3], [3], [2], [1], [1], [1], [2], [1], [2], [1], [3], [1], [2], [2], [1], [1], [3], [2], [2], [2], [1], [1], [1], [2], [2], [3], [3], [2], [2], [3], [2], [3], [3], [3], [1], [2], [2], [2], [3], [2], [3], [1], [1], [1], [1], [2], [3], [2], [1], [2], [1], [3], [2], [2], [1], [2], [2], [2], [1], [2], [1], [2], [1], [2], [1], [1], [1], [3], [1], [3], [3], [2], [1], [2], [3], [3], [2], [3], [1], [3], [1], [2], [2], [2], [2], [3], [3], [1], [2], [2], [3], [3], [2], [2], [2], [3], [2], [1], [1], [3], [1], [3], [3], [1], [1], [3], [3], [3], [2], [3], [1], [1], [1], [3], [2], [1], [1], [1], [1], [2], [3], [1], [1], [1], [1], [3], [3], [1], [2], [1], [1], [3], [2], [3], [3], [2], [1], [2], [1], [2], [1], [1], [3], [1], [2], [3], [3], [1], [3], [2], [2], [3], [1], [1], [3], [1], [3], [2], [2], [1], [2], [1], [3], [1], [2], [2], [3], [1], [3], [3], [3], [1], [3], [2], [1], [3], [1], [1], [2], [2], [1], [3], [1], [2], [2], [1], [3], [1], [2], [1], [3], [1], [3], [1], [2], [3], [3], [2], [1], [3], [2], [1], [1], [2], [3], [1], [1], [1], [1], [1], [2], [1], [3], [2], [3], [1], [3], [3], [1], [1], [3], [3], [2], [1], [2], [3], [3], [1], [3], [1], [3], [3], [1], [3], [2], [2], [2], [2], [1], [3], [3], [2], [2], [3], [3], [1], [2], [1], [1], [1], [3], [3], [1], [1], [3], [3], [3], [1], [1], [1], [2], [2], [1], [1], [2], [1], [1], [2], [2], [2], [2], [2], [3], [3], [1], [1], [3], [1], [2], [1], [3], [2], [2], [3], [1], [2], [1], [1], [3], [2], [1], [3], [3], [3], [3], [1], [1], [2], [2], [2], [1], [1], [2], [2], [2], [3], [3], [3], [2], [2], [1], [2], [3], [2], [2], [2], [1], [3], [1], [1], [2], [3], [3], [3], [1], [3], [1], [3], [2], [3], [1], [1], [2], [2], [3], [2], [1], [3], [1], [3], [2], [1], [2], [3], [1], [1], [3], [2], [3], [1], [2], [2], [1], [2], [3], [1], [1], [3], [2], [3], [1], [3], [2], [3], [2], [1], [3], [1], [3], [3], [2], [2], [2], [3], [1], [2], [1], [3], [1], [3], [2], [2], [3], [1], [1], [2], [2], [1], [2], [1], [2], [1], [2], [2], [1], [2], [1], [3], [3], [3], [2], [1], [2], [2], [1], [1], [1], [1], [1], [2], [3], [3], [1], [1], [1], [2], [2], [3], [3], [1], [1], [3], [1], [2], [3], [1], [1], [3], [2], [2], [2], [3], [2], [2], [1], [2], [3], [2], [3], [2], [2], [3], [1], [1], [1], [1], [2], [1], [1], [3], [1], [2], [2], [2], [1], [3], [1], [3], [2], [1], [1], [1], [2], [1], [2], [3], [3], [2], [3], [3], [2], [1], [1], [1], [3], [3], [3], [2], [2], [2], [2], [1], [1], [1], [1], [3], [3], [1], [2], [2], [1], [3], [3], [3], [2], [2], [2], [1], [2], [1], [2], [3], [3], [3], [2], [1], [1], [2], [3], [1], [3], [1], [2], [2], [2], [2], [1], [1], [3], [1], [3], [3], [2], [3], [2], [1], [1], [3], [1], [2], [2], [1], [3], [2], [1], [1], [1], [2], [2], [2], [1], [2], [2], [2], [3], [1], [3], [2], [2], [1], [3], [1], [3], [2], [2], [1], [1], [3], [1], [1], [2], [3], [3], [1], [3], [3], [3], [1], [2], [2], [1], [3], [2], [2], [3], [3], [1], [3], [2], [3], [1], [1], [3], [1], [2], [1], [3], [2], [3], [1], [1], [2], [2], [1], [3], [1], [2], [3], [1], [2], [3], [3], [2], [2], [3], [2], [2], [1], [3], [1], [2], [2], [3], [3], [3], [3], [2], [1], [2], [1], [3], [1], [3], [2], [1], [1], [1], [1], [3], [3], [1], [3], [2], [2], [1], [1], [2], [3], [1], [3], [1], [3], [2], [2], [2], [2], [3], [3], [2], [3], [2], [1], [2], [1], [3], [3], [3], [1], [1], [3], [2], [1], [3], [1], [2], [2], [2], [1], [3], [1], [1], [2], [3], [1], [1], [2], [3], [3], [1], [1], [3], [3], [2], [1], [2], [3], [2], [3], [3], [2], [2], [1], [2], [1], [2], [2], [3], [1], [2], [3], [3], [1], [3], [1], [2], [1], [1], [3], [1], [2], [3], [3], [2], [1], [2], [1], [3], [1], [1], [3], [3], [1], [1], [2], [1], [1], [1], [2], [1], [1], [1], [3], [2], [1], [2], [2], [3], [2], [1], [3], [1], [3], [2], [3], [1], [3], [1], [3], [3], [1], [3], [3], [2], [1], [2], [3], [1], [1], [3], [1], [3], [2], [1], [2], [3], [3], [2], [2], [1], [3], [1], [3], [2], [1], [1], [2], [1], [1], [1], [2], [2], [1], [2], [3], [1], [3], [1], [3], [2], [1], [1], [1], [1], [2], [1], [3], [2], [1], [2], [2], [1], [2], [1], [1], [2], [1], [2], [2], [3], [3], [3], [1], [3], [3], [2], [2], [2], [1], [2], [3], [2], [1], [1], [1], [2], [3], [3], [1], [2], [2], [2], [2], [3], [3], [3], [3], [1], [1], [1], [3], [3], [3], [1], [1], [1], [3], [3], [2], [2], [1], [1], [1], [1], [1], [2], [2], [1], [3], [1], [2], [3], [1], [2], [3], [2], [3], [2], [3], [2], [3], [1], [3], [1], [3], [2], [2], [3], [3], [3], [1], [2], [2], [1], [3], [2], [2], [1], [2], [1], [2], [3], [1], [2], [2], [3], [2], [1], [2], [2], [3], [1], [1], [2], [1], [1], [3], [3], [2], [1], [3], [2], [3], [3], [2], [1], [3], [1], [2], [2], [1], [2], [2], [1], [1], [2], [2], [3], [3], [2], [2], [2], [3], [2], [2], [3], [3], [2], [2], [2], [1], [1], [3], [3], [3], [1], [1], [3], [1], [3], [2], [2], [2], [3], [2], [3], [3], [2], [1], [1], [2], [1], [1], [1], [1], [3], [3], [3], [2], [2], [3], [1], [3], [1], [1], [3], [3], [1], [1], [3], [2], [3], [3], [2], [3], [2], [2], [3], [3], [2], [3], [2], [3], [2], [1], [2], [1], [1], [1], [3], [2], [1], [3], [1], [1], [2], [3], [1], [3], [1], [2], [2], [1], [2], [1], [3], [3], [1], [1], [2], [3], [2], [2], [3], [1], [1], [2], [1], [1], [1], [1], [2], [2], [2], [1], [3], [1], [1], [3], [1], [2], [3], [3], [3], [1], [3], [2], [3], [1], [1], [2], [1], [2], [2], [3], [1], [1], [3], [2], [1], [3], [1], [3], [1], [2], [1], [1], [2], [2], [1], [1], [2], [3], [2], [3], [3], [2], [1], [1], [3], [3], [2], [1], [1], [3], [3], [3], [1], [3], [2], [1], [1], [2], [3], [3], [1], [1], [1], [3], [2], [2], [3], [3], [1], [2], [2], [2], [3], [3], [1], [2], [1], [1], [1], [2], [2], [3], [1], [1], [1], [3], [1], [1], [3], [3], [2], [1], [2], [2], [1], [3], [2], [2], [1], [1], [2], [1], [1], [1], [2], [1], [3], [3], [2], [2], [2], [2], [3], [1], [1], [1], [3], [3], [3], [3], [2], [3], [3], [1], [2], [2], [2], [2], [3], [2], [3], [1], [1], [3], [1], [1], [1], [1], [2], [1], [3], [1], [3], [2], [1], [2], [1], [3], [1], [1], [2], [2], [1], [2], [1], [1], [2], [1], [2], [1], [3], [3], [1], [1], [1], [3], [1], [1], [1], [2], [3], [2], [3], [2], [3], [1], [2], [3], [1], [2], [2], [3], [2], [3], [1], [2], [2], [2], [3], [1], [1], [2], [1], [2], [2], [3], [1], [2], [2], [3], [2], [2], [2], [3], [1], [1], [3], [2], [1], [1], [2], [1], [3], [2], [2], [1], [2], [2], [1], [2], [1], [2], [1], [2], [2], [2], [1], [3], [3], [1], [3], [2], [1], [2], [3], [2], [3], [3], [3], [3], [2], [1], [2], [1], [2], [2], [1], [2], [1], [1], [3], [2], [1], [1], [2], [1], [3], [3], [1], [2], [1], [3], [2], [3], [2], [2], [1], [1], [3], [2], [3], [2], [1], [2], [1], [2], [3], [3], [1], [2], [2], [3], [1], [2], [1], [1], [1], [3], [2], [1], [3], [1], [3], [1], [1], [3], [3], [1], [2], [2], [1], [1], [3], [1], [1], [1], [2], [2], [2], [2], [3], [3], [2], [1], [2], [1], [1], [2], [1], [1], [1], [3], [1], [2], [2], [1], [1], [3], [1], [1], [1], [2], [1], [2], [3], [2], [1], [2], [2], [2], [1], [3], [2], [1], [3], [1], [1], [3], [1], [3], [2], [2], [2], [2], [1], [2], [1], [2], [1], [2], [1], [3], [2], [3], [3], [1], [1], [2], [1], [1], [3], [1], [3], [3], [2], [3], [1], [2], [1], [2], [1], [3], [2], [3], [3], [1], [3], [2], [3], [3], [1], [2], [1], [1], [1], [2], [3], [2], [2], [3], [1], [3], [3], [1], [2], [1], [3], [1], [3], [1], [2], [1], [2], [1], [1], [2], [3], [1], [1], [3], [3], [2], [2], [3], [1], [1], [2], [3], [2], [3], [2], [3], [3], [3], [1], [3], [1], [1], [2], [2], [1], [3], [2], [2], [3], [2], [1], [1], [1], [1], [1], [2], [1], [3], [1], [1], [2], [3], [1], [2], [3], [2], [1], [1], [2], [2], [1], [2], [2], [2], [3], [3], [2], [3], [2], [1], [2], [1], [1], [1], [2], [2], [2], [1], [3], [1], [3], [1], [2], [1], [3], [1], [1], [3], [2], [2], [1], [1], [3], [3], [2], [2], [1], [2], [1], [3], [1], [1], [2], [3], [1], [1], [2], [1], [2], [3], [1], [1], [3], [2], [3], [2], [3], [1], [3], [2], [1], [1], [1], [2], [2], [1], [2], [2], [2], [1], [1], [2], [2], [3], [1], [2], [1], [1], [3], [1], [1], [1], [3], [2], [3], [3], [2], [1], [3], [1], [1], [1], [2], [1], [3], [1], [1], [1], [2], [2], [2], [2], [1], [2], [2], [1], [2], [2], [3], [3], [1], [3], [2], [3], [3], [1], [3], [1], [1], [1], [1], [1], [3], [2], [2], [2], [1], [3], [1], [2], [3], [1], [3], [2], [3], [3], [1], [2], [3], [3], [1], [2], [1], [3], [3], [1], [2], [1], [2], [2], [3], [3], [3], [1], [1], [3], [1], [2], [1], [2], [1], [3], [1], [1], [1], [1], [1], [1], [2], [3], [3], [3], [1], [1], [1], [3], [3], [3], [2], [1], [1], [1], [1], [1], [2], [1], [3], [1], [2], [1], [2], [2], [2], [2], [1], [1], [2], [1], [1], [2], [1], [1], [2], [1], [1], [2], [3], [2], [2], [2], [2], [2], [3], [3], [3], [1], [1], [3], [1], [1], [2], [2], [3], [1], [2], [2], [2], [3], [1], [3], [3], [3], [2], [1], [1], [3], [2], [2], [3], [1], [2], [3], [3], [2], [1], [3], [3], [2], [2], [2], [2], [2], [3], [2], [1], [1], [3], [2], [1], [2], [2], [3], [1], [2], [2], [1], [1], [3], [1], [1], [2], [2], [2], [2], [1], [2], [1], [1], [2], [1], [3], [2], [2], [3], [2], [1], [2], [1], [1], [2], [3], [1], [1], [3], [1], [1], [3], [3], [2], [3], [2], [1], [2], [1], [3], [1], [3], [3], [1], [2], [2], [1], [1], [3], [2], [3], [1], [3], [2], [3], [3], [1], [2], [3], [2], [2], [1], [2], [1], [2], [1], [2], [3], [2], [2], [2], [2], [2], [2], [1], [2], [3], [1], [1], [2], [3], [3], [2], [3], [2], [3], [3], [2], [2], [2], [1], [3], [1], [1], [1], [1], [1], [1], [3], [1], [2], [1], [2], [3], [3], [3], [2], [1], [3], [3], [2], [1], [3], [1], [3], [2], [2], [3], [2], [2], [2], [2], [1], [2], [2], [1], [1], [1], [1], [3], [1], [3], [2], [2], [2], [1], [1], [1], [3], [2], [2], [2], [1], [2], [2], [1], [1], [2], [2], [1], [1], [1], [1], [2], [2], [1], [3], [3], [3], [1], [1], [2], [1], [1], [1], [1], [3], [1], [1], [3], [1], [2], [3], [1], [1], [3], [1], [2], [2], [3], [2], [2], [2], [3], [2], [2], [2], [2], [3], [2], [1], [1], [3], [3], [3], [1], [1], [2], [2], [3], [1], [2], [1], [2], [2], [3], [3], [3], [2], [1], [2], [3], [3], [1], [2], [2], [1], [2], [1], [1], [2], [2], [3], [1], [2], [2], [1], [2], [1], [2], [3], [2], [2], [1], [3], [3], [1], [3], [2], [2], [1], [1], [1], [1], [2], [2], [1], [2], [1], [1], [3], [1], [3], [2], [3], [2], [2], [2], [3], [1], [2], [2], [1], [3], [1], [3], [1], [2], [3], [3], [2], [2], [2], [1], [3], [1], [1], [3], [2], [3], [1], [1], [1], [3], [1], [3], [3], [2], [2], [3], [2], [2], [3], [2], [3], [2], [1], [2], [1], [2], [1], [1], [3], [3], [3], [3], [1], [3], [3], [3], [1], [1], [3], [1], [2], [3], [2], [3], [1], [2], [3], [2], [3], [2], [1], [2], [1], [2], [3], [2], [1], [1], [3], [3], [3], [3], [1], [2], [2], [3], [1], [1], [1], [1], [1], [2], [1], [2], [2], [1], [3], [2], [1], [3], [2], [1], [1], [2], [3], [3], [1], [1], [1], [3], [2], [3], [2], [2], [1], [3], [2], [1], [1], [3], [3], [2], [3], [3], [1], [1], [2], [3], [3], [1], [3], [1], [2], [1], [1], [1], [1], [2], [3], [3], [3], [1], [3], [1], [2], [1], [1], [3], [1], [3], [2], [3], [2], [3], [1], [1], [3], [1], [1], [2], [2], [2], [2], [2], [1], [1], [1], [1], [2], [2], [3], [1], [2], [2], [3], [3], [2], [2], [1], [1], [2], [2], [1], [3], [3], [3], [3], [1], [2], [1], [1], [2], [2], [2], [2], [1], [3], [2], [2], [1], [2], [2], [3], [3], [3], [3], [3], [2], [2], [3], [3], [1], [3], [3], [1], [1], [1], [1], [2], [2], [2], [2], [3], [2], [3], [1], [3], [1], [1], [1], [2], [1], [3], [3], [2], [1], [1], [2], [2], [3], [2], [1], [2], [1], [2], [2], [3], [3], [2], [3], [1], [2], [1], [1], [3], [3], [1], [2], [3], [2], [3], [2], [1], [1], [1], [2], [3], [3], [3], [3], [3], [3], [3], [3], [1], [2], [3], [2], [3], [1], [1], [2], [1], [2], [3], [3], [1], [1], [3], [2], [3], [1], [2], [1], [3], [2], [3], [1], [3], [3], [2], [3], [3], [3], [3], [1], [1], [3], [2], [2], [3], [3], [2], [2], [3], [1], [1], [3], [3], [2], [2], [1], [2], [1], [3], [2], [1], [1], [1], [2], [1], [1], [2], [1], [1], [1], [2], [1], [2], [1], [1], [3], [3], [3], [3], [1], [2], [1], [2], [2], [2], [2], [2], [1], [1], [3], [3], [1], [3], [1], [1], [1], [1], [1], [2], [2], [3], [2], [1], [1], [1], [2], [3], [1], [3], [1], [2], [3], [2], [3], [1], [1], [1], [1], [2], [3], [2], [2], [2], [2], [2], [2], [3], [1], [2], [2], [1], [3], [1], [1], [3], [1], [2], [3], [3], [3], [3], [1], [2], [1], [2], [2], [2], [1], [3], [3], [3], [2], [1], [1], [2], [3], [2], [2], [3], [3], [2], [2], [3], [1], [2], [1], [2], [1], [3], [3], [3], [2], [3], [2], [3], [1], [1], [2], [2], [3], [3], [1], [1], [1], [2], [3], [2], [1], [3], [2], [1], [2], [1], [3], [2], [1], [3], [2], [3], [1], [2], [2], [3], [3], [3], [2], [2], [2], [1], [3], [1], [1], [2], [2], [2], [3], [1], [2], [3], [3], [3], [1], [1], [1], [3], [2], [3], [1], [3], [3], [2], [3], [3], [1], [1], [3], [3], [1], [2], [3], [2], [2], [2], [3], [3], [2], [1], [2], [3], [1], [2], [1], [2], [3], [1], [1], [1], [1], [1], [1], [1], [1], [2], [3], [2], [1], [2], [3], [3], [1], [1], [1], [1], [3], [2], [1], [1], [3], [2], [2], [1], [2], [2], [3], [3], [3], [2], [1], [3], [2], [1], [3], [1], [2], [2], [2], [1], [2], [1], [3], [2], [1], [2], [3], [2], [2], [3], [2], [2], [2], [3], [2], [2], [3], [3], [3], [1], [1], [1], [2], [1], [3], [3], [3], [1], [2], [2], [1], [1], [1], [1], [3], [1], [3], [1], [2], [3], [3], [1], [2], [1], [2], [1], [2], [2], [2], [1], [1], [2], [3], [3], [2], [3], [2], [3], [2], [1], [1], [3], [2], [2], [2], [2], [1], [1], [2], [2], [1], [1], [3], [2], [2], [3], [1], [3], [1], [2], [3], [2], [3], [2], [3], [3], [1], [3], [3], [1], [2], [1], [1], [1], [1], [2], [1], [3], [1], [2], [3], [1], [3], [2], [1], [3], [1], [1], [1], [2], [1], [1], [1], [2], [2], [2], [3], [2], [3], [1], [1], [3], [3], [3], [1], [2], [1], [2], [3], [2], [2], [2], [1], [3], [1], [1], [2], [1], [1], [1], [2], [1], [1], [1], [1], [1], [1], [1], [2], [1], [2], [3], [3], [2], [3], [3], [3], [1], [1], [3], [1], [1], [2], [3], [3], [2], [2], [2], [1], [3], [1], [1], [2], [3], [3], [3], [2], [1], [3], [3], [1], [3], [3], [1], [2], [1], [3], [1], [2], [3], [1], [1], [3], [1], [2], [2], [3], [3], [2], [1], [1], [1], [3], [1], [2], [1], [1], [1], [3], [2], [1], [1], [2], [2], [2], [2], [2], [1], [3], [1], [3], [1], [1], [1], [2], [1], [1], [1], [1], [2], [1], [2], [2], [2], [1], [1], [2], [3], [3], [1], [1], [1], [3], [1], [1], [1], [2], [1], [3], [2], [1], [2], [1], [1], [3], [3], [1], [2], [2], [1], [3], [3], [3], [3], [1], [1], [3], [2], [3], [1], [2], [2], [2], [1], [3], [1], [3], [1], [2], [3], [1], [3], [3], [3], [2], [2], [3], [1], [1], [3], [3], [1], [1], [3], [1], [3], [2], [1], [3], [2], [3], [2], [1], [1], [1], [1], [3], [1], [1], [2], [3], [3], [3], [3], [1], [3], [3], [1], [1], [1], [2], [2], [1], [2], [2], [2], [3], [3], [1], [1], [2], [3], [3], [2], [2], [3], [2], [2], [1], [1], [2], [1], [1], [1], [2], [2], [1], [2], [1], [2], [3], [3], [1], [2], [2], [3], [1], [1], [2], [2], [2], [1], [2], [3], [1], [1], [1], [1], [3], [2], [3], [2], [3], [3], [3], [1], [1], [1], [2], [1], [1], [1], [3], [2], [2], [1], [1], [2], [3], [1], [3], [2], [1], [3], [1], [3], [3], [1], [3], [3], [2], [1], [3], [1], [3], [2], [2], [3], [1], [1], [3], [3], [3], [2], [3], [2], [1], [1], [3], [2], [3], [1], [1], [1], [3], [1], [3], [1], [1], [2], [2], [3], [2], [3], [1], [3], [2], [2], [2], [3], [2], [2], [3], [3], [1], [3], [1], [1], [3], [2], [1], [1], [2], [2], [1], [1], [2], [2], [2], [2], [3], [1], [2], [2], [2], [1], [2], [3], [2], [1], [3], [3], [2], [2], [1], [3], [3], [2], [2], [1], [1], [1], [3], [2], [3], [2], [1], [2], [2], [2], [3], [1], [2], [2], [1], [3], [2], [3], [2], [2], [1], [1], [3], [1], [2], [3], [1], [2], [1], [2], [1], [2], [3], [2], [2], [2], [1], [1], [3], [3], [2], [1], [3], [1], [2], [1], [3], [1], [2], [1], [3], [1], [3], [1], [2], [1], [3], [2], [3], [3], [2], [3], [1], [3], [1], [1], [2], [3], [3], [3], [1], [2], [3], [1], [1], [3], [3], [3], [3], [2], [1], [1], [1], [2], [3], [1], [1], [2], [1], [3], [3], [1], [1], [2], [2], [2], [1], [3], [2], [1], [2], [2], [2], [1], [1], [2], [2], [2], [3], [3], [1], [3], [3], [1], [1], [3], [1], [2], [3], [2], [2], [1], [2], [2], [1], [3], [1], [3], [3], [2], [1], [2], [3], [3], [1], [3], [1], [1], [2], [2], [2], [1], [2], [2], [1], [2], [1], [1], [1], [2], [1], [2], [3], [2], [2], [1], [3], [3], [1], [2], [1], [1], [2], [3], [1], [3], [2], [3], [1], [1], [1], [1], [1], [1], [2], [3], [2], [3], [1], [2], [3], [2], [2], [2], [3], [2], [2], [1], [2], [2], [2], [2], [1], [1], [3], [1], [1], [1], [3], [1], [1], [1], [2], [1], [3], [1], [3], [2], [2], [2], [1], [3], [1], [3], [1], [1], [3], [3], [2], [2], [2], [3], [3], [1], [1], [1], [1], [1], [3], [2], [3], [1], [3], [1], [1], [3], [1], [1], [2], [1], [2], [2], [2], [3], [1], [2], [3], [2], [1], [2], [2], [3], [3], [1], [2], [1], [3], [2], [2], [2], [1], [1], [1], [3], [2], [1], [2], [1], [3], [2], [3], [3], [2], [3], [1], [2], [2], [3], [3], [3], [1], [1], [2], [1], [1], [2], [2], [1], [3], [3], [3], [1], [2], [1], [2], [2], [2], [1], [2], [3], [1], [3], [2], [2], [1], [1], [2], [2], [1], [1], [3], [3], [1], [1], [1], [3], [1], [1], [2], [2], [3], [1], [2], [2], [1], [3], [2], [3], [1], [1], [1], [2], [3], [1], [1], [3], [3], [2], [1], [1], [2], [2], [1], [1], [3], [2], [1], [3], [1], [2], [1], [2], [2], [3], [3], [3], [3], [3], [1], [2], [2], [3], [3], [3], [3], [2], [3], [1], [2], [3], [2], [3], [3], [1], [3], [1], [1], [1], [2], [1], [3], [2], [2], [2], [2], [2], [1], [1], [3], [3], [2], [3], [3], [1], [1], [2], [3], [2], [1], [1], [1], [2], [3], [2], [3], [2], [3], [1], [2], [3], [2], [2], [1], [1], [1], [3], [1], [1], [3], [3], [3], [3], [1], [3], [1], [1], [3], [2], [3], [2], [1], [2], [2], [1], [3], [1], [1], [1], [2], [2], [1], [3], [3], [3], [3], [1], [2], [2], [3], [1], [1], [2], [3], [2], [2], [1], [2], [2], [3], [1], [1], [2], [3], [3], [1], [3], [3], [1], [2], [1], [1], [2], [3], [2], [3], [1], [2], [1], [3], [2], [2], [3], [1], [1], [1], [2], [1], [2], [3], [3], [1], [2], [2], [2], [3], [3], [3], [1], [2], [1], [2], [2], [1], [1], [3], [2], [2], [3], [1], [1], [2], [3], [2], [1], [2], [1], [1], [1], [3], [3], [3], [3], [1], [3], [2], [2], [2], [3], [2], [2], [3], [3], [2], [1], [1], [2], [3], [1], [1], [1], [1], [3], [3], [2], [1], [3], [1], [1], [2], [3], [2], [2], [2], [2], [3], [3], [3], [1], [2], [3], [2], [1], [3], [2], [1], [3], [3], [3], [2], [2], [1], [2], [3], [2], [2], [1], [1], [3], [3], [2], [2], [3], [3], [3], [2], [2], [1], [2], [3], [2], [3], [1], [1], [2], [3], [3], [3], [1], [3], [2], [2], [2], [2], [3], [3], [1], [1], [1], [1], [1], [3], [2], [2], [1], [1], [2], [2], [1], [3], [1], [2], [3], [2], [2], [1], [3], [2], [3], [3], [2], [3], [3], [2], [2], [1], [1], [2], [1], [2], [1], [3], [2], [1], [3], [2], [1], [1], [1], [2], [1], [1], [1], [2], [3], [3], [2], [3], [2], [2], [3], [2], [1], [2], [1], [3], [2], [2], [2], [2], [1], [2], [3], [2], [2], [3], [2], [1], [2], [3], [1], [1], [2], [3], [1], [3], [1], [1], [3], [3], [1], [1], [3], [1], [1], [3], [3], [3], [1], [3], [3], [2], [1], [3], [2], [3], [1], [2], [2], [1], [1], [3], [1], [1], [1], [3], [2], [1], [2], [2], [2], [1], [2], [3], [3], [3], [1], [3], [2], [3], [2], [1], [1], [1], [2], [1], [1], [1], [2], [2], [1], [1], [3], [2], [3], [1], [2], [3], [3], [1], [1], [1], [3], [3], [2], [1], [1], [2], [3], [1], [2], [1], [2], [2], [1], [3], [3], [1], [2], [1], [1], [3], [3], [2], [3], [2], [2], [2], [1], [1], [2], [1], [1], [3], [1], [3], [1], [1], [3], [1], [3], [1], [3], [3], [2], [1], [3], [3], [1], [1], [3], [1], [1], [1], [3], [2], [3], [1], [1], [1], [1], [2], [1], [3], [3], [2], [1], [2], [3], [1], [1], [1], [1], [2], [2], [3], [3], [2], [3], [1], [1], [2], [2], [1], [3], [1], [3], [3], [1], [1], [2], [1], [2], [1], [1], [1], [3], [2], [2], [1], [2], [3], [1], [2], [2], [3], [3], [3], [2], [2], [2], [1], [3], [3], [3], [2], [1], [3], [2], [3], [3], [2], [1], [1], [3], [2], [1], [3], [1], [2], [3], [1], [3], [1], [2], [2], [1], [3], [2], [3], [2], [2], [3], [2], [2], [2], [2], [2], [1], [1], [3], [1], [1], [1], [2], [2], [2], [3], [3], [1], [3], [1], [2], [1], [2], [2], [2], [3], [2], [2], [3], [1], [2], [1], [2], [1], [3], [2], [1], [2], [1], [3], [1], [1], [1], [1], [2], [3], [2], [2], [3], [2], [2], [3], [2], [2], [1], [2], [2], [1], [1], [1], [3], [2], [1], [3], [3], [3], [1], [1], [3], [2], [3], [2], [1], [2], [1], [2], [1], [3], [2], [1], [2], [2], [2], [1], [2], [2], [2], [3], [2], [3], [3], [1], [1], [3], [3], [3], [2], [1], [2], [2], [3], [3], [2], [3], [2], [2], [3], [1], [1], [1], [3], [1], [1], [3], [2], [3], [1], [1], [3], [3], [3], [3], [1], [1], [2], [3], [2], [1], [3], [2], [2], [3], [2], [1], [1], [2], [3], [3], [1], [1], [1], [3], [1], [3], [1], [1], [3], [2], [2], [3], [2], [2], [3], [2], [2], [2], [3], [3], [1], [2], [1], [3], [2], [3], [1], [1], [1], [2], [2], [1], [3], [1], [1], [1], [2], [1], [2], [1], [2], [1], [2], [3], [1], [1], [1], [3], [3], [1], [1], [1], [1], [2], [3], [1], [1], [2], [3], [1], [2], [3], [2], [2], [2], [1], [1], [2], [2], [3], [3], [1], [1], [2], [2], [3], [3], [1], [1], [2], [3], [3], [2], [1], [1], [1], [1], [3], [1], [1], [3], [2], [3], [2], [3], [2], [2], [2], [1], [3], [3], [3], [2], [2], [2], [3], [3], [3], [1], [1], [1], [3], [1], [2], [2], [3], [2], [3], [3], [1], [3], [1], [1], [2], [3], [1], [2], [2], [2], [3], [3], [2], [2], [3], [1], [2], [3], [3], [2], [3], [1], [1], [2], [3], [2], [3], [1], [1], [3], [2], [2], [3], [3], [1], [2], [1], [1], [3], [1], [1], [1], [2], [1], [2], [1], [2], [3], [3], [1], [1], [2], [1], [2], [2], [1], [1], [1], [1], [1], [3], [1], [2], [2], [1], [3], [1], [2], [3], [3], [2], [1], [1], [1], [2], [2], [2], [2], [1], [1], [1], [3], [3], [1], [1], [2], [2], [2], [3], [3], [2], [3], [2], [1], [2], [3], [2], [1], [1], [1], [3], [2], [2], [1], [1], [3], [2], [3], [3], [3], [2], [1], [2], [2], [1], [1], [1], [2], [3], [1], [1], [3], [3], [2], [3], [2], [2], [2], [3], [1], [2], [2], [3], [2], [1], [3], [2], [3], [1], [2], [1], [3], [1], [3], [1], [2], [2], [1], [3], [3], [2], [1], [2], [2], [3], [1], [3], [1], [2], [1], [1], [2], [2], [2], [2], [2], [1], [2], [1], [3], [3], [1], [2], [3], [1], [1], [3], [3], [1], [1], [1], [2], [2], [2], [3], [3], [2], [1], [1], [1], [3], [1], [1], [3], [2], [2], [1], [3], [2], [1], [2], [3], [1], [2], [3], [1], [3], [1], [1], [1], [2], [2], [1], [3], [2], [3], [1], [3], [3], [2], [2], [3], [3], [1], [2], [2], [1], [1], [2], [2], [1], [1], [1], [2], [1], [2], [1], [1], [2], [1], [3], [1], [1], [1], [1], [3], [1], [3], [2], [2], [2], [1], [3], [3], [3], [2], [1], [3], [1], [1], [1], [2], [2], [3], [1], [1], [2], [1], [1], [3], [3], [3], [2], [1], [3], [1], [2], [2], [2], [3], [3], [1], [2], [2], [3], [3], [2], [1], [3], [1], [2], [2], [3], [2], [2], [2], [2], [2], [1], [3], [3], [1], [1], [3], [2], [2], [3], [2], [1], [1], [3], [3], [2], [2], [1], [1], [1], [2], [2], [1], [1], [1], [1], [3], [3], [2], [3], [1], [2], [1], [2], [1], [1], [3], [2], [2], [2], [2], [2], [3], [1], [2], [1], [3], [1], [3], [2], [1], [2], [2], [3], [3], [2], [2], [2], [1], [3], [3], [2], [1], [3], [1], [1], [1], [1], [1], [1], [3], [2], [3], [2], [3], [3], [1], [3], [3], [3], [2], [3], [3], [3], [3], [1], [3], [2], [2], [3], [1], [2], [1], [1], [2], [1], [3], [1], [3], [2], [2], [2], [1], [1], [3], [3], [1], [3], [1], [1], [2], [1], [3], [1], [2], [2], [3], [3], [1], [3], [1], [2], [1], [2], [1], [2], [1], [2], [1], [3], [3], [3], [3], [2], [2], [3], [2], [3], [2], [3], [3], [3], [1], [1], [3], [3], [2], [3], [3], [2], [1], [2], [3], [1], [1], [3], [1], [2], [1], [2], [1], [2], [1], [2], [1], [1], [3], [1], [2], [1], [1], [3], [3], [2], [1], [2], [3], [2], [1], [2], [3], [3], [1], [2], [3], [2], [2], [2], [2], [2], [2], [3], [3], [2], [3], [1], [2], [3], [3], [1], [2], [3], [1], [1], [2], [2], [3], [3], [3], [3], [3], [1], [1], [2], [3], [1], [2], [1], [3], [3], [1], [2], [1], [3], [2], [1], [2], [1], [3], [2], [1], [2], [1], [2], [1], [2], [1], [1], [1], [1], [1], [1], [2], [1], [3], [2], [1], [2], [3], [3], [2], [1], [3], [3], [2], [3], [1], [3], [1], [3], [1], [1], [3], [1], [2], [2], [2], [3], [1], [2], [2], [3], [1], [1], [3], [2], [2], [1], [2], [3], [1], [3], [2], [1], [3], [1], [2], [1], [3], [1], [2], [1], [3], [2], [1], [2], [1], [3], [2], [3], [3], [1], [1], [2], [1], [1], [2], [3], [1], [2], [2], [2], [1], [3], [2], [2], [3], [2], [1], [1], [2], [1], [1], [1], [3], [2], [3], [1], [2], [1], [2], [3], [1], [2], [3], [1], [3], [2], [3], [2], [2], [3], [1], [3], [3], [3], [2], [3], [3], [3], [3], [3], [3], [3], [3], [2], [2], [3], [2], [3], [1], [3], [2], [2], [2], [1], [2], [1], [2], [2], [1], [3], [2], [2], [2], [1], [1], [2], [3], [3], [3], [2], [1], [3], [2], [2], [2], [1], [3], [1], [2], [1], [2], [1], [3], [2], [3], [1], [2], [2], [3], [2], [2], [1], [3], [1], [1], [2], [2], [3], [2], [2], [2], [1], [1], [1], [2], [1], [1], [1], [2], [3], [2], [3], [2], [3], [1], [2], [1], [1], [2], [3], [1], [3], [1], [1], [2], [3], [1], [1], [1], [1], [1], [2], [2], [3], [2], [3], [1], [2], [3], [3], [3], [1], [1], [3], [2], [2], [2], [2], [3], [1], [3], [1], [1], [1], [2], [1], [2], [1], [2], [2], [2], [1], [1], [3], [2], [3], [2], [3], [3], [1], [2], [3], [1], [2], [2], [2], [3], [1], [3], [2], [1], [2], [2], [2], [1], [3], [1], [3], [2], [2], [1], [3], [1], [2], [3], [1], [2], [2], [1], [1], [2], [1], [1], [1], [1], [2], [3], [3], [1], [2], [2], [1], [2], [2], [1], [2], [3], [2], [2], [1], [2], [2], [3], [2], [3], [1], [1], [1], [3], [3], [3], [1], [3], [1], [3], [1], [1], [2], [3], [1], [1], [3], [2], [1], [2], [2], [1], [3], [1], [2], [2], [1], [1], [2], [2], [3], [1], [1], [3], [2], [2], [1], [1], [1], [1], [1], [2], [3], [2], [1], [1], [3], [1], [1], [1], [3], [1], [2], [2], [2], [2], [2], [2], [2], [1], [1], [3], [3], [2], [3], [3], [2], [2], [1], [2], [3], [2], [2], [3], [1], [1], [3], [3], [3], [2], [2], [1], [1], [2], [2], [2], [1], [1], [3], [2], [3], [3], [3], [2], [3], [2], [2], [2], [3], [3], [1], [1], [1], [2], [2], [2], [2], [2], [3], [3], [3], [2], [3], [2], [3], [2], [1], [2], [1], [3], [2], [3], [2], [2], [2], [2], [3], [1], [2], [2], [2], [1], [1], [1], [2], [1], [2], [3], [2], [1], [1], [1], [1], [1], [2], [3], [1], [1], [2], [1], [2], [2], [1], [2], [1], [1], [1], [2], [1], [3], [2], [3], [2], [1], [3], [2], [3], [1], [1], [3], [1], [2], [3], [2], [1], [3], [2], [2], [3], [2], [1], [1], [1], [2], [3], [2], [3], [2], [3], [2], [3], [1], [3], [1], [3], [1], [1], [2], [1], [2], [3], [1], [1], [2], [1], [1], [1], [1], [2], [1], [1], [1], [2], [1], [2], [2], [1], [3], [1], [2], [1], [3], [2], [1], [2], [3], [2], [3], [3], [1], [2], [2], [2], [2], [2], [1], [2], [2], [1], [1], [1], [1], [2], [3], [1], [3], [2], [2], [3], [1], [1], [1], [1], [2], [3], [2], [2], [3], [1], [3], [3], [2], [2], [3], [1], [2], [2], [1], [2], [1], [2], [2], [1], [2], [2], [3], [1], [3], [3], [1], [1], [1], [1], [2], [3], [2], [1], [2], [1], [3], [3], [2], [1], [1], [1], [3], [1], [1], [1], [3], [2], [2], [3], [2], [2], [3], [2], [1], [2], [1], [2], [2], [2], [1], [3], [2], [1], [2], [1], [2], [2], [3], [1], [2], [1], [3], [2], [3], [3], [2], [1], [2], [1], [3], [1], [1], [1], [3], [3], [2], [1], [2], [2], [3], [1], [2], [2], [3], [2], [3], [2], [1], [3], [3], [1], [2], [1], [1], [1], [2], [2], [2], [1], [3], [2], [1], [2], [2], [3], [3], [1], [1], [3], [1], [3], [2], [2], [3], [2], [2], [2], [2], [1], [3], [2], [1], [3], [2], [1], [1], [2], [2], [1], [2], [2], [1], [2], [2], [1], [3], [3], [3], [3], [2], [1], [3], [2], [2], [3], [2], [2], [1], [3], [3], [3], [1], [3], [2], [3], [1], [3], [3], [1], [1], [2], [1], [3], [2], [2], [3], [3], [2], [1], [1], [1], [1], [3], [3], [2], [3], [2], [1], [1], [1], [3], [1], [3], [3], [3], [3], [1], [3], [3], [2], [3], [3], [2], [2], [1], [3], [2], [3], [1], [2], [1], [3], [3], [2], [3], [1], [1], [2], [2], [1], [2], [3], [2], [1], [3], [2], [1], [1], [2], [3], [2], [1], [3], [2], [1], [1], [3], [1], [2], [2], [3], [1], [1], [2], [3], [3], [3], [3], [1], [3], [1], [2], [1], [3], [2], [3], [1], [2], [2], [3], [3], [1], [1], [1], [1], [3], [3], [3], [1], [2], [2], [3], [2], [1], [3], [3], [3], [1], [3], [2], [1], [2], [2], [1], [3], [1], [1], [1], [3], [1], [2], [2], [1], [1], [3], [3], [2], [1], [1], [2], [3], [3], [1], [1], [3], [3], [2], [1], [1], [2], [1], [1], [1], [3], [3], [1], [1], [3], [1], [3], [1], [2], [1], [2], [1], [2], [2], [1], [1], [1], [1], [1], [3], [3], [2], [2], [3], [3], [3], [2], [3], [2], [1], [1], [2], [1], [3], [1], [2], [3], [2], [3], [1], [1], [2], [2], [1], [2], [1], [1], [1], [2], [1], [1], [2], [3], [1], [2], [1], [2], [1], [1], [2], [2], [2], [2], [1], [2], [3], [3], [3], [1], [3], [1], [2], [3], [3], [2], [3], [1], [2], [2], [1], [2], [2], [2], [3], [2], [3], [2], [3], [2], [2], [3], [2], [1], [1], [2], [2], [3], [3], [1], [1], [1], [1], [1], [1], [2], [3], [1], [2], [1], [2], [1], [1], [3], [1], [2], [3], [2], [1], [1], [1], [2], [2], [3], [2], [3], [3], [1], [1], [1], [1], [2], [2], [3], [2], [3], [2], [1], [1], [3], [2], [3], [1], [2], [2], [3], [3], [1], [2], [1], [2], [2], [1], [2], [2], [2], [2], [3], [2], [3], [3], [1], [1], [1], [3], [1], [2], [3], [2], [3], [3], [3], [2], [3], [3], [3], [1], [1], [1], [3], [1], [1], [1], [1], [3], [2], [2], [1], [1], [1], [1], [1], [2], [1], [1], [3], [3], [1], [2], [1], [1], [3], [1], [1], [3], [1], [3], [2], [2], [2], [3], [3], [2], [1], [1], [3], [2], [2], [3], [2], [3], [1], [1], [3], [3], [2], [3], [2], [3], [3], [2], [2], [3], [1], [2], [1], [1], [1], [2], [2], [3], [1], [3], [1], [2], [1], [3], [1], [1], [1], [2], [3], [1], [3], [1], [1], [1], [1], [3], [1], [3], [3], [3], [3], [2], [1], [2], [3], [1], [3], [1], [3], [2], [3], [1], [1], [2], [1], [1], [3], [3], [2], [3], [1], [3], [3], [2], [1], [1], [3], [1], [3], [3], [1], [1], [1], [1], [2], [3], [1], [1], [1], [3], [2], [3], [2], [2], [2], [1], [2], [3], [3], [1], [3], [1], [2], [3], [2], [1], [3], [1], [1], [1], [1], [1], [1], [2], [3], [2], [2], [3], [2], [1], [2], [2], [3], [2], [2], [2], [1], [1], [3], [2], [2], [2], [1], [1], [2], [1], [3], [3], [2], [2], [1], [3], [1], [2], [1], [2], [3], [3], [1], [1], [2], [1], [2], [2], [1], [2], [1], [2], [2], [2], [2], [3], [2], [3], [3], [2], [2], [3], [2], [3], [1], [1], [1], [1], [2], [3], [3], [3], [1], [1], [3], [3], [1], [3], [1], [3], [1], [2], [1], [2], [2], [3], [2], [3], [1], [2], [2], [3], [3], [2], [3], [1], [1], [2], [3], [1], [2], [3], [1], [2], [1], [3], [2], [1], [1], [1], [1], [2], [1], [3], [1], [2], [3], [2], [1], [2], [2], [3], [2], [3], [1], [3], [3], [1], [1], [1], [1], [3], [3], [1], [2], [1], [2], [1], [2], [1], [2], [2], [2], [2], [2], [2], [2], [3], [3], [1], [1], [2], [2], [2], [3], [2], [1], [1], [2], [3], [2], [1], [1], [3], [1], [1], [3], [2], [1], [2], [3], [2], [2], [2], [2], [3], [3], [3], [2], [3], [2], [1], [2], [2], [2], [1], [1], [1], [2], [1], [1], [3], [1], [2], [3], [2], [1], [1], [3], [3], [2], [2], [3], [1], [3], [2], [3], [1], [2], [1], [1], [1], [3], [1], [1], [1], [2], [3], [1], [2], [2], [1], [2], [3], [1], [2], [1], [2], [3], [1], [1], [2], [1], [2], [3], [1], [2], [2], [1], [3], [3], [2], [1], [1], [1], [1], [1], [1], [2], [1], [1], [2], [2], [1], [3], [2], [1], [2], [1], [1], [3], [3], [2], [1], [1], [1], [2], [3], [2], [2], [3], [2], [2], [3], [1], [3], [3], [3], [1], [1], [3], [1], [3], [2], [2], [3], [1], [1], [3], [2], [1], [1], [1], [1], [1], [1], [1], [3], [2], [1], [1], [1], [3], [3], [3], [2], [3], [1], [2], [1], [3], [1], [1], [3], [2], [1], [2], [1], [2], [1], [3], [1], [1], [1], [1], [2], [2], [2], [3], [2], [1], [3], [2], [3], [1], [2], [1], [1], [1], [2], [2], [3], [1], [1], [1], [1], [3], [1], [1], [2], [2], [1], [1], [2], [1], [1], [3], [2], [3], [3], [1], [2], [3], [3], [3], [1], [2], [2], [2], [2], [2], [1], [3], [3], [1], [1], [3], [1], [2], [2], [2], [3], [1], [3], [1], [3], [3], [3], [1], [1], [3], [1], [1], [1], [2], [3], [1], [3], [2], [2], [2], [2], [1], [1], [2], [2], [1], [3], [1], [2], [3], [2], [1], [2], [3], [1], [2], [2], [2], [1], [1], [2], [1], [2], [3], [1], [3], [1], [1], [2], [1], [2], [1], [3], [3], [2], [3], [1], [3], [1], [1], [2], [3], [1], [2], [1], [1], [1], [2], [2], [1], [1], [3], [1], [3], [1], [3], [2], [3], [3], [1], [3], [1], [2], [2], [3], [2], [2], [2], [2], [2], [1], [3], [2], [2], [3], [1], [1], [2], [1], [2], [1], [2], [3], [3], [1], [1], [3], [3], [2], [3], [1], [3], [3], [1], [2], [2], [1], [3], [1], [3], [1], [2], [3], [2], [3], [1], [3], [1], [3], [3], [1], [1], [2], [2], [2], [2], [3], [1], [1], [3], [2], [1], [1], [2], [3], [2], [2], [1], [3], [1], [1], [1], [1], [2], [1], [1], [1], [2], [2], [2], [3], [1], [1], [3], [2], [1], [2], [2], [3], [3], [1], [1], [2], [3], [1], [1], [2], [2], [2], [1], [1], [3], [2], [1], [1], [3], [2], [1], [2], [3], [1], [3], [1], [1], [1], [2], [3], [3], [1], [1], [3], [1], [2], [2], [3], [3], [2], [3], [2], [2], [1], [3], [3], [1], [1], [2], [2], [2], [1], [1], [2], [2], [2], [1], [1], [2], [1], [1], [2], [3], [1], [2], [1], [1], [1], [1], [3], [2], [1], [1], [3], [2], [1], [2], [2], [3], [2], [2], [1], [3], [3], [2], [1], [1], [1], [2], [2], [2], [2], [1], [2], [1], [3], [1], [3], [2], [3], [3], [3], [3], [3], [3], [3], [3], [2], [1], [1], [1], [2], [1], [1], [3], [1], [3], [2], [1], [3], [2], [3], [2], [1], [1], [3], [2], [3], [2], [1], [1], [2], [3], [3], [3], [1], [2], [1], [1], [1], [2], [1], [1], [1], [2], [1], [2], [3], [3], [3], [3], [2], [1], [1], [3], [2], [2], [3], [2], [1], [3], [2], [1], [3], [3], [1], [1], [2], [1], [2], [3], [1], [2], [2], [2], [3], [3], [1], [1], [3], [1], [3], [1], [2], [1], [3], [1], [2], [1], [1], [2], [3], [2], [2], [3], [2], [2], [1], [2], [1], [1], [2], [3], [1], [1], [1], [3], [2], [2], [1], [2], [2], [2], [1], [2], [1], [3], [1], [1], [3], [1], [2], [1], [3], [1], [2], [3], [1], [3], [1], [2], [2], [3], [1], [2], [2], [2], [3], [2], [1], [2], [2], [1], [1], [2], [3], [3], [1], [2], [3], [1], [1], [3], [1], [3], [3], [1], [3], [1], [2], [1], [2], [1], [1], [2], [3], [2], [2], [1], [2], [1], [2], [1], [1], [2], [1], [1], [3], [1], [1], [3], [3], [1], [2], [2], [1], [1], [2], [3], [1], [3], [3], [2], [2], [3], [2], [3], [2], [3], [1], [2], [2], [1], [2], [3], [1], [3], [1], [1], [2], [2], [2], [1], [3], [3], [3], [1], [1], [3], [1], [1], [1], [3], [2], [1], [1], [2], [1], [2], [3], [3], [2], [2], [1], [2], [3], [2], [1], [1], [3], [3], [1], [2], [3], [3], [1], [3], [2], [3], [2], [1], [3], [2], [2], [2], [1], [3], [1], [2], [3], [1], [1], [2], [3], [1], [3], [2], [1], [3], [2], [1], [1], [2], [3], [1], [1], [1], [2], [1], [3], [3], [3], [1], [2], [1], [2], [2], [3], [2], [3], [3], [2], [1], [2], [3], [1], [2], [1], [2], [1], [1], [2], [2], [2], [2], [2], [1], [1], [3], [1], [2], [1], [1], [2], [2], [1], [1], [1], [3], [2], [2], [2], [1], [1], [1], [2], [2], [2], [1], [3], [1], [1], [1], [2], [1], [3], [1], [2], [1], [3], [1], [2], [3], [3], [3], [2], [3], [1], [1], [3], [1], [2], [3], [2], [2], [3], [3], [1], [2], [3], [3], [1], [3], [1], [1], [1], [3], [1], [2], [1], [3], [2], [2], [2], [3], [3], [2], [1], [2], [1], [3], [3], [1], [2], [1], [1], [1], [1], [2], [2], [1], [2], [1], [2], [2], [2], [2], [1], [2], [3], [3], [1], [2], [2], [3], [1], [3], [2], [1], [3], [1], [3], [2], [1], [2], [2], [1], [2], [2], [3], [1], [3], [1], [3], [3], [1], [3], [2], [1], [2], [1], [3], [2], [1], [2], [3], [2], [1], [1], [2], [2], [2], [2], [2], [2], [1], [2], [3], [2], [2], [1], [2], [1], [1], [2], [2], [3], [2], [2], [2], [2], [2], [3], [1], [1], [3], [2], [3], [1], [2], [3], [2], [2], [3], [1], [1], [1], [1], [2], [2], [2], [3], [1], [2], [2], [1], [3], [2], [1], [1], [1], [3], [3], [3], [3], [1], [1], [1], [1], [3], [2], [2], [2], [1], [1], [2], [3], [3], [1], [3], [1], [2], [1], [2], [2], [1], [1], [3], [1], [2], [3], [2], [3], [1], [1], [2], [2], [2], [2], [2], [3], [1], [1], [2], [2], [1], [2], [1], [2], [1], [1], [2], [1], [1], [3], [3], [2], [3], [2], [2], [3], [2], [3], [3], [1], [2], [3], [2], [3], [2], [3], [2], [1], [2], [2], [1], [2], [1], [2], [1], [2], [3], [1], [2], [3], [1], [1], [2], [1], [1], [2], [1], [1], [1], [3], [2], [2], [2], [3], [1], [1], [3], [1], [3], [2], [3], [2], [2], [1], [1], [2], [2], [2], [1], [1], [1], [3], [1], [1], [1], [1], [1], [3], [3], [2], [2], [2], [1], [3], [3], [1], [3], [1], [1], [3], [2], [1], [3], [1], [2], [3], [2], [3], [2], [3], [3], [1], [1], [2], [3], [1], [2], [1], [2], [2], [2], [3], [1], [3], [1], [2], [1], [3], [1], [2], [2], [2], [2], [2], [1], [1], [3], [3], [2], [1], [3], [1], [2], [3], [2], [1], [1], [2], [2], [2], [1], [1], [1], [2], [3], [1], [1], [2], [1], [1], [1], [2], [3], [1], [1], [2], [2], [2], [1], [3], [1], [1], [1], [3], [1], [1], [1], [3], [3], [1], [2], [1], [1], [1], [2], [3], [3], [1], [3], [1], [2], [1], [1], [3], [3], [3], [2], [1], [2], [3], [3], [1], [1], [1], [3], [2], [1], [1], [1], [2], [3], [1], [2], [1], [1], [3], [1], [2], [3], [2], [3], [1], [3], [3], [3], [1], [1], [2], [3], [1], [1], [3], [1], [2], [1], [1], [3], [1], [2], [2], [3], [2], [2], [3], [2], [2], [3], [2], [2], [3], [3], [1], [2], [1], [3], [3], [1], [3], [2], [3], [3], [1], [1], [2], [1], [2], [1], [1], [2], [3], [1], [2], [1], [2], [2], [2], [3], [1], [1], [3], [2], [2], [1], [3], [1], [2], [1], [3], [1], [3], [2], [3], [2], [1], [2], [3], [1], [3], [3], [1], [1], [1], [1], [1], [3], [1], [2], [1], [2], [1], [3], [2], [2], [3], [2], [1], [2], [3], [2], [2], [3], [2], [2], [2], [1], [3], [1], [3], [2], [1], [2], [2], [2], [3], [1], [2], [2], [2], [3], [3], [1], [1], [2], [3], [1], [2], [2], [2], [2], [1], [1], [1], [2], [3], [1], [1], [2], [1], [2], [3], [3], [2], [2], [1], [1], [2], [1], [2], [2], [3], [2], [3], [2], [1], [1], [2], [3], [3], [2], [1], [1], [1], [1], [1], [2], [3], [1], [3], [3], [3], [1], [1], [2], [2], [1], [2], [1], [3], [1], [2], [2], [2], [3], [1], [2], [1], [2], [3], [3], [3], [1], [3], [1], [2], [1], [1], [3], [1], [2], [2], [1], [3], [2], [3], [1], [2], [1], [1], [3], [1], [3], [2], [2], [1], [1], [3], [3], [2], [1], [3], [3], [1], [1], [2], [1], [1], [3], [1], [3], [2], [2], [3], [1], [1], [2], [2], [3], [2], [1], [1], [2], [3], [1], [2], [1], [1], [2], [1], [2], [2], [2], [3], [2], [1], [1], [1], [3], [3], [3], [2], [1], [1], [3], [3], [2], [3], [2], [1], [3], [2], [1], [3], [3], [2], [3], [2], [2], [2], [1]]\n",
            "{'neutral': 1, 'positive': 2, 'negative': 3}\n"
          ],
          "name": "stdout"
        }
      ]
    },
    {
      "cell_type": "code",
      "metadata": {
        "id": "n9l2H6LLDV-F"
      },
      "source": [
        "# training_labels_onehot = tf.keras.utils.to_categorical(label_seq, num_classes = 3)"
      ],
      "execution_count": null,
      "outputs": []
    },
    {
      "cell_type": "code",
      "metadata": {
        "id": "WhfItMFXVA06"
      },
      "source": [
        "import numpy as np\n",
        "# training_padded = np.array(training_padded)\n",
        "# training_labels = np.array(training_labels)\n",
        "# testing_padded = np.array(testing_padded)\n",
        "# testing_labels = np.array(testing_labels)\n",
        "label_seq = np.array(label_seq)\n",
        "testing_label_seq = np.array(testing_label_seq)"
      ],
      "execution_count": null,
      "outputs": []
    },
    {
      "cell_type": "code",
      "metadata": {
        "colab": {
          "base_uri": "https://localhost:8080/"
        },
        "id": "_OuMfuVLSwLu",
        "outputId": "4cd9ed67-6a51-4e1f-a267-c7d7729a3c70"
      },
      "source": [
        "len(label_seq)"
      ],
      "execution_count": null,
      "outputs": [
        {
          "output_type": "execute_result",
          "data": {
            "text/plain": [
              "14000"
            ]
          },
          "metadata": {
            "tags": []
          },
          "execution_count": 34
        }
      ]
    },
    {
      "cell_type": "code",
      "metadata": {
        "colab": {
          "base_uri": "https://localhost:8080/"
        },
        "id": "6BVPHYn-Qawg",
        "outputId": "eef91d0a-5a31-4e81-e22e-7b902e564d50"
      },
      "source": [
        "model = tf.keras.Sequential([\n",
        "    tf.keras.layers.Embedding(21613, embedding_dim, input_length=max_len),\n",
        "    tf.keras.layers.GlobalAveragePooling1D(),\n",
        "    # tf.keras.layers.LSTM(64),\n",
        "    tf.keras.layers.Dense(24, activation='relu'),\n",
        "    tf.keras.layers.Dense(3, activation='softmax')\n",
        "])\n",
        "model.compile(loss='categorical_crossentropy',optimizer='adam',metrics=['accuracy'])\n",
        "model.summary()"
      ],
      "execution_count": null,
      "outputs": [
        {
          "output_type": "stream",
          "text": [
            "Model: \"sequential_3\"\n",
            "_________________________________________________________________\n",
            "Layer (type)                 Output Shape              Param #   \n",
            "=================================================================\n",
            "embedding_3 (Embedding)      (None, 24, 16)            345808    \n",
            "_________________________________________________________________\n",
            "global_average_pooling1d_3 ( (None, 16)                0         \n",
            "_________________________________________________________________\n",
            "dense_6 (Dense)              (None, 24)                408       \n",
            "_________________________________________________________________\n",
            "dense_7 (Dense)              (None, 3)                 75        \n",
            "=================================================================\n",
            "Total params: 346,291\n",
            "Trainable params: 346,291\n",
            "Non-trainable params: 0\n",
            "_________________________________________________________________\n"
          ],
          "name": "stdout"
        }
      ]
    },
    {
      "cell_type": "code",
      "metadata": {
        "colab": {
          "base_uri": "https://localhost:8080/",
          "height": 922
        },
        "id": "BpgjtpNVRCzy",
        "outputId": "9ded8974-43d0-437b-dc3b-84c3c2204038"
      },
      "source": [
        "num_epochs = 30\n",
        "history = model.fit(training_padded, label_seq, epochs=1, validation_data=(testing_padded, testing_label_seq), verbose=2)"
      ],
      "execution_count": null,
      "outputs": [
        {
          "output_type": "error",
          "ename": "ValueError",
          "evalue": "ignored",
          "traceback": [
            "\u001b[0;31m---------------------------------------------------------------------------\u001b[0m",
            "\u001b[0;31mValueError\u001b[0m                                Traceback (most recent call last)",
            "\u001b[0;32m<ipython-input-40-8f489fb31d0e>\u001b[0m in \u001b[0;36m<module>\u001b[0;34m()\u001b[0m\n\u001b[1;32m      1\u001b[0m \u001b[0mnum_epochs\u001b[0m \u001b[0;34m=\u001b[0m \u001b[0;36m30\u001b[0m\u001b[0;34m\u001b[0m\u001b[0;34m\u001b[0m\u001b[0m\n\u001b[0;32m----> 2\u001b[0;31m \u001b[0mhistory\u001b[0m \u001b[0;34m=\u001b[0m \u001b[0mmodel\u001b[0m\u001b[0;34m.\u001b[0m\u001b[0mfit\u001b[0m\u001b[0;34m(\u001b[0m\u001b[0mtraining_padded\u001b[0m\u001b[0;34m,\u001b[0m \u001b[0mlabel_seq\u001b[0m\u001b[0;34m,\u001b[0m \u001b[0mepochs\u001b[0m\u001b[0;34m=\u001b[0m\u001b[0;36m1\u001b[0m\u001b[0;34m,\u001b[0m \u001b[0mvalidation_data\u001b[0m\u001b[0;34m=\u001b[0m\u001b[0;34m(\u001b[0m\u001b[0mtesting_padded\u001b[0m\u001b[0;34m,\u001b[0m \u001b[0mtesting_label_seq\u001b[0m\u001b[0;34m)\u001b[0m\u001b[0;34m,\u001b[0m \u001b[0mverbose\u001b[0m\u001b[0;34m=\u001b[0m\u001b[0;36m2\u001b[0m\u001b[0;34m)\u001b[0m\u001b[0;34m\u001b[0m\u001b[0;34m\u001b[0m\u001b[0m\n\u001b[0m",
            "\u001b[0;32m/usr/local/lib/python3.7/dist-packages/tensorflow/python/keras/engine/training.py\u001b[0m in \u001b[0;36mfit\u001b[0;34m(self, x, y, batch_size, epochs, verbose, callbacks, validation_split, validation_data, shuffle, class_weight, sample_weight, initial_epoch, steps_per_epoch, validation_steps, validation_batch_size, validation_freq, max_queue_size, workers, use_multiprocessing)\u001b[0m\n\u001b[1;32m   1098\u001b[0m                 _r=1):\n\u001b[1;32m   1099\u001b[0m               \u001b[0mcallbacks\u001b[0m\u001b[0;34m.\u001b[0m\u001b[0mon_train_batch_begin\u001b[0m\u001b[0;34m(\u001b[0m\u001b[0mstep\u001b[0m\u001b[0;34m)\u001b[0m\u001b[0;34m\u001b[0m\u001b[0;34m\u001b[0m\u001b[0m\n\u001b[0;32m-> 1100\u001b[0;31m               \u001b[0mtmp_logs\u001b[0m \u001b[0;34m=\u001b[0m \u001b[0mself\u001b[0m\u001b[0;34m.\u001b[0m\u001b[0mtrain_function\u001b[0m\u001b[0;34m(\u001b[0m\u001b[0miterator\u001b[0m\u001b[0;34m)\u001b[0m\u001b[0;34m\u001b[0m\u001b[0;34m\u001b[0m\u001b[0m\n\u001b[0m\u001b[1;32m   1101\u001b[0m               \u001b[0;32mif\u001b[0m \u001b[0mdata_handler\u001b[0m\u001b[0;34m.\u001b[0m\u001b[0mshould_sync\u001b[0m\u001b[0;34m:\u001b[0m\u001b[0;34m\u001b[0m\u001b[0;34m\u001b[0m\u001b[0m\n\u001b[1;32m   1102\u001b[0m                 \u001b[0mcontext\u001b[0m\u001b[0;34m.\u001b[0m\u001b[0masync_wait\u001b[0m\u001b[0;34m(\u001b[0m\u001b[0;34m)\u001b[0m\u001b[0;34m\u001b[0m\u001b[0;34m\u001b[0m\u001b[0m\n",
            "\u001b[0;32m/usr/local/lib/python3.7/dist-packages/tensorflow/python/eager/def_function.py\u001b[0m in \u001b[0;36m__call__\u001b[0;34m(self, *args, **kwds)\u001b[0m\n\u001b[1;32m    826\u001b[0m     \u001b[0mtracing_count\u001b[0m \u001b[0;34m=\u001b[0m \u001b[0mself\u001b[0m\u001b[0;34m.\u001b[0m\u001b[0mexperimental_get_tracing_count\u001b[0m\u001b[0;34m(\u001b[0m\u001b[0;34m)\u001b[0m\u001b[0;34m\u001b[0m\u001b[0;34m\u001b[0m\u001b[0m\n\u001b[1;32m    827\u001b[0m     \u001b[0;32mwith\u001b[0m \u001b[0mtrace\u001b[0m\u001b[0;34m.\u001b[0m\u001b[0mTrace\u001b[0m\u001b[0;34m(\u001b[0m\u001b[0mself\u001b[0m\u001b[0;34m.\u001b[0m\u001b[0m_name\u001b[0m\u001b[0;34m)\u001b[0m \u001b[0;32mas\u001b[0m \u001b[0mtm\u001b[0m\u001b[0;34m:\u001b[0m\u001b[0;34m\u001b[0m\u001b[0;34m\u001b[0m\u001b[0m\n\u001b[0;32m--> 828\u001b[0;31m       \u001b[0mresult\u001b[0m \u001b[0;34m=\u001b[0m \u001b[0mself\u001b[0m\u001b[0;34m.\u001b[0m\u001b[0m_call\u001b[0m\u001b[0;34m(\u001b[0m\u001b[0;34m*\u001b[0m\u001b[0margs\u001b[0m\u001b[0;34m,\u001b[0m \u001b[0;34m**\u001b[0m\u001b[0mkwds\u001b[0m\u001b[0;34m)\u001b[0m\u001b[0;34m\u001b[0m\u001b[0;34m\u001b[0m\u001b[0m\n\u001b[0m\u001b[1;32m    829\u001b[0m       \u001b[0mcompiler\u001b[0m \u001b[0;34m=\u001b[0m \u001b[0;34m\"xla\"\u001b[0m \u001b[0;32mif\u001b[0m \u001b[0mself\u001b[0m\u001b[0;34m.\u001b[0m\u001b[0m_experimental_compile\u001b[0m \u001b[0;32melse\u001b[0m \u001b[0;34m\"nonXla\"\u001b[0m\u001b[0;34m\u001b[0m\u001b[0;34m\u001b[0m\u001b[0m\n\u001b[1;32m    830\u001b[0m       \u001b[0mnew_tracing_count\u001b[0m \u001b[0;34m=\u001b[0m \u001b[0mself\u001b[0m\u001b[0;34m.\u001b[0m\u001b[0mexperimental_get_tracing_count\u001b[0m\u001b[0;34m(\u001b[0m\u001b[0;34m)\u001b[0m\u001b[0;34m\u001b[0m\u001b[0;34m\u001b[0m\u001b[0m\n",
            "\u001b[0;32m/usr/local/lib/python3.7/dist-packages/tensorflow/python/eager/def_function.py\u001b[0m in \u001b[0;36m_call\u001b[0;34m(self, *args, **kwds)\u001b[0m\n\u001b[1;32m    869\u001b[0m       \u001b[0;31m# This is the first call of __call__, so we have to initialize.\u001b[0m\u001b[0;34m\u001b[0m\u001b[0;34m\u001b[0m\u001b[0;34m\u001b[0m\u001b[0m\n\u001b[1;32m    870\u001b[0m       \u001b[0minitializers\u001b[0m \u001b[0;34m=\u001b[0m \u001b[0;34m[\u001b[0m\u001b[0;34m]\u001b[0m\u001b[0;34m\u001b[0m\u001b[0;34m\u001b[0m\u001b[0m\n\u001b[0;32m--> 871\u001b[0;31m       \u001b[0mself\u001b[0m\u001b[0;34m.\u001b[0m\u001b[0m_initialize\u001b[0m\u001b[0;34m(\u001b[0m\u001b[0margs\u001b[0m\u001b[0;34m,\u001b[0m \u001b[0mkwds\u001b[0m\u001b[0;34m,\u001b[0m \u001b[0madd_initializers_to\u001b[0m\u001b[0;34m=\u001b[0m\u001b[0minitializers\u001b[0m\u001b[0;34m)\u001b[0m\u001b[0;34m\u001b[0m\u001b[0;34m\u001b[0m\u001b[0m\n\u001b[0m\u001b[1;32m    872\u001b[0m     \u001b[0;32mfinally\u001b[0m\u001b[0;34m:\u001b[0m\u001b[0;34m\u001b[0m\u001b[0;34m\u001b[0m\u001b[0m\n\u001b[1;32m    873\u001b[0m       \u001b[0;31m# At this point we know that the initialization is complete (or less\u001b[0m\u001b[0;34m\u001b[0m\u001b[0;34m\u001b[0m\u001b[0;34m\u001b[0m\u001b[0m\n",
            "\u001b[0;32m/usr/local/lib/python3.7/dist-packages/tensorflow/python/eager/def_function.py\u001b[0m in \u001b[0;36m_initialize\u001b[0;34m(self, args, kwds, add_initializers_to)\u001b[0m\n\u001b[1;32m    724\u001b[0m     self._concrete_stateful_fn = (\n\u001b[1;32m    725\u001b[0m         self._stateful_fn._get_concrete_function_internal_garbage_collected(  # pylint: disable=protected-access\n\u001b[0;32m--> 726\u001b[0;31m             *args, **kwds))\n\u001b[0m\u001b[1;32m    727\u001b[0m \u001b[0;34m\u001b[0m\u001b[0m\n\u001b[1;32m    728\u001b[0m     \u001b[0;32mdef\u001b[0m \u001b[0minvalid_creator_scope\u001b[0m\u001b[0;34m(\u001b[0m\u001b[0;34m*\u001b[0m\u001b[0munused_args\u001b[0m\u001b[0;34m,\u001b[0m \u001b[0;34m**\u001b[0m\u001b[0munused_kwds\u001b[0m\u001b[0;34m)\u001b[0m\u001b[0;34m:\u001b[0m\u001b[0;34m\u001b[0m\u001b[0;34m\u001b[0m\u001b[0m\n",
            "\u001b[0;32m/usr/local/lib/python3.7/dist-packages/tensorflow/python/eager/function.py\u001b[0m in \u001b[0;36m_get_concrete_function_internal_garbage_collected\u001b[0;34m(self, *args, **kwargs)\u001b[0m\n\u001b[1;32m   2967\u001b[0m       \u001b[0margs\u001b[0m\u001b[0;34m,\u001b[0m \u001b[0mkwargs\u001b[0m \u001b[0;34m=\u001b[0m \u001b[0;32mNone\u001b[0m\u001b[0;34m,\u001b[0m \u001b[0;32mNone\u001b[0m\u001b[0;34m\u001b[0m\u001b[0;34m\u001b[0m\u001b[0m\n\u001b[1;32m   2968\u001b[0m     \u001b[0;32mwith\u001b[0m \u001b[0mself\u001b[0m\u001b[0;34m.\u001b[0m\u001b[0m_lock\u001b[0m\u001b[0;34m:\u001b[0m\u001b[0;34m\u001b[0m\u001b[0;34m\u001b[0m\u001b[0m\n\u001b[0;32m-> 2969\u001b[0;31m       \u001b[0mgraph_function\u001b[0m\u001b[0;34m,\u001b[0m \u001b[0m_\u001b[0m \u001b[0;34m=\u001b[0m \u001b[0mself\u001b[0m\u001b[0;34m.\u001b[0m\u001b[0m_maybe_define_function\u001b[0m\u001b[0;34m(\u001b[0m\u001b[0margs\u001b[0m\u001b[0;34m,\u001b[0m \u001b[0mkwargs\u001b[0m\u001b[0;34m)\u001b[0m\u001b[0;34m\u001b[0m\u001b[0;34m\u001b[0m\u001b[0m\n\u001b[0m\u001b[1;32m   2970\u001b[0m     \u001b[0;32mreturn\u001b[0m \u001b[0mgraph_function\u001b[0m\u001b[0;34m\u001b[0m\u001b[0;34m\u001b[0m\u001b[0m\n\u001b[1;32m   2971\u001b[0m \u001b[0;34m\u001b[0m\u001b[0m\n",
            "\u001b[0;32m/usr/local/lib/python3.7/dist-packages/tensorflow/python/eager/function.py\u001b[0m in \u001b[0;36m_maybe_define_function\u001b[0;34m(self, args, kwargs)\u001b[0m\n\u001b[1;32m   3359\u001b[0m \u001b[0;34m\u001b[0m\u001b[0m\n\u001b[1;32m   3360\u001b[0m           \u001b[0mself\u001b[0m\u001b[0;34m.\u001b[0m\u001b[0m_function_cache\u001b[0m\u001b[0;34m.\u001b[0m\u001b[0mmissed\u001b[0m\u001b[0;34m.\u001b[0m\u001b[0madd\u001b[0m\u001b[0;34m(\u001b[0m\u001b[0mcall_context_key\u001b[0m\u001b[0;34m)\u001b[0m\u001b[0;34m\u001b[0m\u001b[0;34m\u001b[0m\u001b[0m\n\u001b[0;32m-> 3361\u001b[0;31m           \u001b[0mgraph_function\u001b[0m \u001b[0;34m=\u001b[0m \u001b[0mself\u001b[0m\u001b[0;34m.\u001b[0m\u001b[0m_create_graph_function\u001b[0m\u001b[0;34m(\u001b[0m\u001b[0margs\u001b[0m\u001b[0;34m,\u001b[0m \u001b[0mkwargs\u001b[0m\u001b[0;34m)\u001b[0m\u001b[0;34m\u001b[0m\u001b[0;34m\u001b[0m\u001b[0m\n\u001b[0m\u001b[1;32m   3362\u001b[0m           \u001b[0mself\u001b[0m\u001b[0;34m.\u001b[0m\u001b[0m_function_cache\u001b[0m\u001b[0;34m.\u001b[0m\u001b[0mprimary\u001b[0m\u001b[0;34m[\u001b[0m\u001b[0mcache_key\u001b[0m\u001b[0;34m]\u001b[0m \u001b[0;34m=\u001b[0m \u001b[0mgraph_function\u001b[0m\u001b[0;34m\u001b[0m\u001b[0;34m\u001b[0m\u001b[0m\n\u001b[1;32m   3363\u001b[0m \u001b[0;34m\u001b[0m\u001b[0m\n",
            "\u001b[0;32m/usr/local/lib/python3.7/dist-packages/tensorflow/python/eager/function.py\u001b[0m in \u001b[0;36m_create_graph_function\u001b[0;34m(self, args, kwargs, override_flat_arg_shapes)\u001b[0m\n\u001b[1;32m   3204\u001b[0m             \u001b[0marg_names\u001b[0m\u001b[0;34m=\u001b[0m\u001b[0marg_names\u001b[0m\u001b[0;34m,\u001b[0m\u001b[0;34m\u001b[0m\u001b[0;34m\u001b[0m\u001b[0m\n\u001b[1;32m   3205\u001b[0m             \u001b[0moverride_flat_arg_shapes\u001b[0m\u001b[0;34m=\u001b[0m\u001b[0moverride_flat_arg_shapes\u001b[0m\u001b[0;34m,\u001b[0m\u001b[0;34m\u001b[0m\u001b[0;34m\u001b[0m\u001b[0m\n\u001b[0;32m-> 3206\u001b[0;31m             capture_by_value=self._capture_by_value),\n\u001b[0m\u001b[1;32m   3207\u001b[0m         \u001b[0mself\u001b[0m\u001b[0;34m.\u001b[0m\u001b[0m_function_attributes\u001b[0m\u001b[0;34m,\u001b[0m\u001b[0;34m\u001b[0m\u001b[0;34m\u001b[0m\u001b[0m\n\u001b[1;32m   3208\u001b[0m         \u001b[0mfunction_spec\u001b[0m\u001b[0;34m=\u001b[0m\u001b[0mself\u001b[0m\u001b[0;34m.\u001b[0m\u001b[0mfunction_spec\u001b[0m\u001b[0;34m,\u001b[0m\u001b[0;34m\u001b[0m\u001b[0;34m\u001b[0m\u001b[0m\n",
            "\u001b[0;32m/usr/local/lib/python3.7/dist-packages/tensorflow/python/framework/func_graph.py\u001b[0m in \u001b[0;36mfunc_graph_from_py_func\u001b[0;34m(name, python_func, args, kwargs, signature, func_graph, autograph, autograph_options, add_control_dependencies, arg_names, op_return_value, collections, capture_by_value, override_flat_arg_shapes)\u001b[0m\n\u001b[1;32m    988\u001b[0m         \u001b[0m_\u001b[0m\u001b[0;34m,\u001b[0m \u001b[0moriginal_func\u001b[0m \u001b[0;34m=\u001b[0m \u001b[0mtf_decorator\u001b[0m\u001b[0;34m.\u001b[0m\u001b[0munwrap\u001b[0m\u001b[0;34m(\u001b[0m\u001b[0mpython_func\u001b[0m\u001b[0;34m)\u001b[0m\u001b[0;34m\u001b[0m\u001b[0;34m\u001b[0m\u001b[0m\n\u001b[1;32m    989\u001b[0m \u001b[0;34m\u001b[0m\u001b[0m\n\u001b[0;32m--> 990\u001b[0;31m       \u001b[0mfunc_outputs\u001b[0m \u001b[0;34m=\u001b[0m \u001b[0mpython_func\u001b[0m\u001b[0;34m(\u001b[0m\u001b[0;34m*\u001b[0m\u001b[0mfunc_args\u001b[0m\u001b[0;34m,\u001b[0m \u001b[0;34m**\u001b[0m\u001b[0mfunc_kwargs\u001b[0m\u001b[0;34m)\u001b[0m\u001b[0;34m\u001b[0m\u001b[0;34m\u001b[0m\u001b[0m\n\u001b[0m\u001b[1;32m    991\u001b[0m \u001b[0;34m\u001b[0m\u001b[0m\n\u001b[1;32m    992\u001b[0m       \u001b[0;31m# invariant: `func_outputs` contains only Tensors, CompositeTensors,\u001b[0m\u001b[0;34m\u001b[0m\u001b[0;34m\u001b[0m\u001b[0;34m\u001b[0m\u001b[0m\n",
            "\u001b[0;32m/usr/local/lib/python3.7/dist-packages/tensorflow/python/eager/def_function.py\u001b[0m in \u001b[0;36mwrapped_fn\u001b[0;34m(*args, **kwds)\u001b[0m\n\u001b[1;32m    632\u001b[0m             \u001b[0mxla_context\u001b[0m\u001b[0;34m.\u001b[0m\u001b[0mExit\u001b[0m\u001b[0;34m(\u001b[0m\u001b[0;34m)\u001b[0m\u001b[0;34m\u001b[0m\u001b[0;34m\u001b[0m\u001b[0m\n\u001b[1;32m    633\u001b[0m         \u001b[0;32melse\u001b[0m\u001b[0;34m:\u001b[0m\u001b[0;34m\u001b[0m\u001b[0;34m\u001b[0m\u001b[0m\n\u001b[0;32m--> 634\u001b[0;31m           \u001b[0mout\u001b[0m \u001b[0;34m=\u001b[0m \u001b[0mweak_wrapped_fn\u001b[0m\u001b[0;34m(\u001b[0m\u001b[0;34m)\u001b[0m\u001b[0;34m.\u001b[0m\u001b[0m__wrapped__\u001b[0m\u001b[0;34m(\u001b[0m\u001b[0;34m*\u001b[0m\u001b[0margs\u001b[0m\u001b[0;34m,\u001b[0m \u001b[0;34m**\u001b[0m\u001b[0mkwds\u001b[0m\u001b[0;34m)\u001b[0m\u001b[0;34m\u001b[0m\u001b[0;34m\u001b[0m\u001b[0m\n\u001b[0m\u001b[1;32m    635\u001b[0m         \u001b[0;32mreturn\u001b[0m \u001b[0mout\u001b[0m\u001b[0;34m\u001b[0m\u001b[0;34m\u001b[0m\u001b[0m\n\u001b[1;32m    636\u001b[0m \u001b[0;34m\u001b[0m\u001b[0m\n",
            "\u001b[0;32m/usr/local/lib/python3.7/dist-packages/tensorflow/python/framework/func_graph.py\u001b[0m in \u001b[0;36mwrapper\u001b[0;34m(*args, **kwargs)\u001b[0m\n\u001b[1;32m    975\u001b[0m           \u001b[0;32mexcept\u001b[0m \u001b[0mException\u001b[0m \u001b[0;32mas\u001b[0m \u001b[0me\u001b[0m\u001b[0;34m:\u001b[0m  \u001b[0;31m# pylint:disable=broad-except\u001b[0m\u001b[0;34m\u001b[0m\u001b[0;34m\u001b[0m\u001b[0m\n\u001b[1;32m    976\u001b[0m             \u001b[0;32mif\u001b[0m \u001b[0mhasattr\u001b[0m\u001b[0;34m(\u001b[0m\u001b[0me\u001b[0m\u001b[0;34m,\u001b[0m \u001b[0;34m\"ag_error_metadata\"\u001b[0m\u001b[0;34m)\u001b[0m\u001b[0;34m:\u001b[0m\u001b[0;34m\u001b[0m\u001b[0;34m\u001b[0m\u001b[0m\n\u001b[0;32m--> 977\u001b[0;31m               \u001b[0;32mraise\u001b[0m \u001b[0me\u001b[0m\u001b[0;34m.\u001b[0m\u001b[0mag_error_metadata\u001b[0m\u001b[0;34m.\u001b[0m\u001b[0mto_exception\u001b[0m\u001b[0;34m(\u001b[0m\u001b[0me\u001b[0m\u001b[0;34m)\u001b[0m\u001b[0;34m\u001b[0m\u001b[0;34m\u001b[0m\u001b[0m\n\u001b[0m\u001b[1;32m    978\u001b[0m             \u001b[0;32melse\u001b[0m\u001b[0;34m:\u001b[0m\u001b[0;34m\u001b[0m\u001b[0;34m\u001b[0m\u001b[0m\n\u001b[1;32m    979\u001b[0m               \u001b[0;32mraise\u001b[0m\u001b[0;34m\u001b[0m\u001b[0;34m\u001b[0m\u001b[0m\n",
            "\u001b[0;31mValueError\u001b[0m: in user code:\n\n    /usr/local/lib/python3.7/dist-packages/tensorflow/python/keras/engine/training.py:805 train_function  *\n        return step_function(self, iterator)\n    /usr/local/lib/python3.7/dist-packages/tensorflow/python/keras/engine/training.py:795 step_function  **\n        outputs = model.distribute_strategy.run(run_step, args=(data,))\n    /usr/local/lib/python3.7/dist-packages/tensorflow/python/distribute/distribute_lib.py:1259 run\n        return self._extended.call_for_each_replica(fn, args=args, kwargs=kwargs)\n    /usr/local/lib/python3.7/dist-packages/tensorflow/python/distribute/distribute_lib.py:2730 call_for_each_replica\n        return self._call_for_each_replica(fn, args, kwargs)\n    /usr/local/lib/python3.7/dist-packages/tensorflow/python/distribute/distribute_lib.py:3417 _call_for_each_replica\n        return fn(*args, **kwargs)\n    /usr/local/lib/python3.7/dist-packages/tensorflow/python/keras/engine/training.py:788 run_step  **\n        outputs = model.train_step(data)\n    /usr/local/lib/python3.7/dist-packages/tensorflow/python/keras/engine/training.py:756 train_step\n        y, y_pred, sample_weight, regularization_losses=self.losses)\n    /usr/local/lib/python3.7/dist-packages/tensorflow/python/keras/engine/compile_utils.py:203 __call__\n        loss_value = loss_obj(y_t, y_p, sample_weight=sw)\n    /usr/local/lib/python3.7/dist-packages/tensorflow/python/keras/losses.py:152 __call__\n        losses = call_fn(y_true, y_pred)\n    /usr/local/lib/python3.7/dist-packages/tensorflow/python/keras/losses.py:256 call  **\n        return ag_fn(y_true, y_pred, **self._fn_kwargs)\n    /usr/local/lib/python3.7/dist-packages/tensorflow/python/util/dispatch.py:201 wrapper\n        return target(*args, **kwargs)\n    /usr/local/lib/python3.7/dist-packages/tensorflow/python/keras/losses.py:1537 categorical_crossentropy\n        return K.categorical_crossentropy(y_true, y_pred, from_logits=from_logits)\n    /usr/local/lib/python3.7/dist-packages/tensorflow/python/util/dispatch.py:201 wrapper\n        return target(*args, **kwargs)\n    /usr/local/lib/python3.7/dist-packages/tensorflow/python/keras/backend.py:4833 categorical_crossentropy\n        target.shape.assert_is_compatible_with(output.shape)\n    /usr/local/lib/python3.7/dist-packages/tensorflow/python/framework/tensor_shape.py:1134 assert_is_compatible_with\n        raise ValueError(\"Shapes %s and %s are incompatible\" % (self, other))\n\n    ValueError: Shapes (None, 1) and (None, 3) are incompatible\n"
          ]
        }
      ]
    },
    {
      "cell_type": "code",
      "metadata": {
        "id": "DNSRZqEySQP0"
      },
      "source": [
        "import matplotlib.pyplot as plt\n",
        "\n",
        "\n",
        "def plot_graphs(history, string):\n",
        "  plt.plot(history.history[string])\n",
        "  plt.plot(history.history['val_'+string])\n",
        "  plt.xlabel(\"Epochs\")\n",
        "  plt.ylabel(string)\n",
        "  plt.legend([string, 'val_'+string])\n",
        "  plt.show()\n",
        "  \n",
        "plot_graphs(history, \"accuracy\")\n",
        "plot_graphs(history, \"loss\")"
      ],
      "execution_count": null,
      "outputs": []
    }
  ]
}