{
 "cells": [
  {
   "cell_type": "code",
   "execution_count": 1,
   "metadata": {},
   "outputs": [],
   "source": [
    "import pandas as pd"
   ]
  },
  {
   "cell_type": "code",
   "execution_count": 2,
   "metadata": {},
   "outputs": [],
   "source": [
    "df = pd.read_csv(\"/Users/gaurav/Desktop/Hinglish/data/data1.csv\")"
   ]
  },
  {
   "cell_type": "code",
   "execution_count": 3,
   "metadata": {},
   "outputs": [
    {
     "data": {
      "text/html": [
       "<div>\n",
       "<style scoped>\n",
       "    .dataframe tbody tr th:only-of-type {\n",
       "        vertical-align: middle;\n",
       "    }\n",
       "\n",
       "    .dataframe tbody tr th {\n",
       "        vertical-align: top;\n",
       "    }\n",
       "\n",
       "    .dataframe thead th {\n",
       "        text-align: right;\n",
       "    }\n",
       "</style>\n",
       "<table border=\"1\" class=\"dataframe\">\n",
       "  <thead>\n",
       "    <tr style=\"text-align: right;\">\n",
       "      <th></th>\n",
       "      <th>ID</th>\n",
       "      <th>Tweet</th>\n",
       "      <th>Sentiment Polarity</th>\n",
       "    </tr>\n",
       "  </thead>\n",
       "  <tbody>\n",
       "    <tr>\n",
       "      <th>0</th>\n",
       "      <td>4330</td>\n",
       "      <td>nen vist bolest vztek smutek zmatek osam lost ...</td>\n",
       "      <td>neutral</td>\n",
       "    </tr>\n",
       "    <tr>\n",
       "      <th>1</th>\n",
       "      <td>41616</td>\n",
       "      <td>nehantics Haan yaar neha kab karega woh post U...</td>\n",
       "      <td>neutral</td>\n",
       "    </tr>\n",
       "    <tr>\n",
       "      <th>2</th>\n",
       "      <td>6648</td>\n",
       "      <td>RahulGandhi television media congress ke liye ...</td>\n",
       "      <td>negative</td>\n",
       "    </tr>\n",
       "    <tr>\n",
       "      <th>3</th>\n",
       "      <td>2512</td>\n",
       "      <td>AmitShah narendramodi All India me nrc lagu ka...</td>\n",
       "      <td>positive</td>\n",
       "    </tr>\n",
       "    <tr>\n",
       "      <th>4</th>\n",
       "      <td>610</td>\n",
       "      <td>Nehr who TypoMantri anjanaomkashyap Pagal hai ...</td>\n",
       "      <td>neutral</td>\n",
       "    </tr>\n",
       "    <tr>\n",
       "      <th>5</th>\n",
       "      <td>14356</td>\n",
       "      <td>narendramodi jeet ki dher sari subh kamnaye mo...</td>\n",
       "      <td>positive</td>\n",
       "    </tr>\n",
       "    <tr>\n",
       "      <th>6</th>\n",
       "      <td>5840</td>\n",
       "      <td>Fakeionist SAMjhotaXpress PLiChapel but topi w...</td>\n",
       "      <td>negative</td>\n",
       "    </tr>\n",
       "    <tr>\n",
       "      <th>7</th>\n",
       "      <td>32791</td>\n",
       "      <td>aajtak syedasimwaqar chitraaum syedzafarBJP Ye...</td>\n",
       "      <td>neutral</td>\n",
       "    </tr>\n",
       "    <tr>\n",
       "      <th>8</th>\n",
       "      <td>37480</td>\n",
       "      <td>TarekFatah Baih tere itjey Kya jalti hai Pakis...</td>\n",
       "      <td>negative</td>\n",
       "    </tr>\n",
       "    <tr>\n",
       "      <th>9</th>\n",
       "      <td>16395</td>\n",
       "      <td>desimarthastew Hehe I saw that coming And it s...</td>\n",
       "      <td>neutral</td>\n",
       "    </tr>\n",
       "    <tr>\n",
       "      <th>10</th>\n",
       "      <td>33428</td>\n",
       "      <td>ECISVEEP Can you answer miscalculated votes on...</td>\n",
       "      <td>neutral</td>\n",
       "    </tr>\n",
       "    <tr>\n",
       "      <th>11</th>\n",
       "      <td>19222</td>\n",
       "      <td>MahaAli Allah pak os k Dil ka darwaza kbi off ...</td>\n",
       "      <td>neutral</td>\n",
       "    </tr>\n",
       "    <tr>\n",
       "      <th>12</th>\n",
       "      <td>8422</td>\n",
       "      <td>RavishKumarBlog Bahut hi Samajhdari se Cingres...</td>\n",
       "      <td>neutral</td>\n",
       "    </tr>\n",
       "    <tr>\n",
       "      <th>13</th>\n",
       "      <td>26930</td>\n",
       "      <td>RT Mastani Tu Safar Mera Tu Hi Meri Manzil Ter...</td>\n",
       "      <td>positive</td>\n",
       "    </tr>\n",
       "    <tr>\n",
       "      <th>14</th>\n",
       "      <td>40285</td>\n",
       "      <td>Dobar se PM bnne ki aapko dher sari shubhakamn...</td>\n",
       "      <td>positive</td>\n",
       "    </tr>\n",
       "    <tr>\n",
       "      <th>15</th>\n",
       "      <td>21403</td>\n",
       "      <td>Siitae We can face life together and we can sp...</td>\n",
       "      <td>positive</td>\n",
       "    </tr>\n",
       "    <tr>\n",
       "      <th>16</th>\n",
       "      <td>35826</td>\n",
       "      <td>waah kisi ne khub likha ke shama khud ko jala ...</td>\n",
       "      <td>positive</td>\n",
       "    </tr>\n",
       "    <tr>\n",
       "      <th>17</th>\n",
       "      <td>18017</td>\n",
       "      <td>its tani yabikikainaaat Abe haattt tum flop lo...</td>\n",
       "      <td>negative</td>\n",
       "    </tr>\n",
       "    <tr>\n",
       "      <th>18</th>\n",
       "      <td>39736</td>\n",
       "      <td>marrjao Shining star Ohho Very beautiful eyes ...</td>\n",
       "      <td>positive</td>\n",
       "    </tr>\n",
       "    <tr>\n",
       "      <th>19</th>\n",
       "      <td>15893</td>\n",
       "      <td>EVRYONE SHIT THE FUCK UP https t co RINOmqkPsZ</td>\n",
       "      <td>negative</td>\n",
       "    </tr>\n",
       "    <tr>\n",
       "      <th>20</th>\n",
       "      <td>5433</td>\n",
       "      <td>atifthepoet haram khor log ulta chor kotowal k...</td>\n",
       "      <td>negative</td>\n",
       "    </tr>\n",
       "    <tr>\n",
       "      <th>21</th>\n",
       "      <td>23492</td>\n",
       "      <td>RT BTS army Fin Also Stade de France is prepar...</td>\n",
       "      <td>positive</td>\n",
       "    </tr>\n",
       "    <tr>\n",
       "      <th>22</th>\n",
       "      <td>13515</td>\n",
       "      <td>aajtak Jai shree ram Jarurat nahi aandolan ki ...</td>\n",
       "      <td>positive</td>\n",
       "    </tr>\n",
       "    <tr>\n",
       "      <th>23</th>\n",
       "      <td>34678</td>\n",
       "      <td>Phir se lut chalu ho gaya Bjp walo tumhe kuch ...</td>\n",
       "      <td>neutral</td>\n",
       "    </tr>\n",
       "    <tr>\n",
       "      <th>24</th>\n",
       "      <td>11310</td>\n",
       "      <td>AmarUjalaNews Jinko khud Nahi pta ki Ramcharit...</td>\n",
       "      <td>neutral</td>\n",
       "    </tr>\n",
       "    <tr>\n",
       "      <th>25</th>\n",
       "      <td>27883</td>\n",
       "      <td>Abe yhi hai ram rajya kya Jisme sbhi sale hara...</td>\n",
       "      <td>negative</td>\n",
       "    </tr>\n",
       "    <tr>\n",
       "      <th>26</th>\n",
       "      <td>16679</td>\n",
       "      <td>nsfw hs Maybe I ll faing and I won t feel a thing</td>\n",
       "      <td>neutral</td>\n",
       "    </tr>\n",
       "    <tr>\n",
       "      <th>27</th>\n",
       "      <td>26920</td>\n",
       "      <td>Duniya me dil koi kabhi na dadka hota Dadkha h...</td>\n",
       "      <td>neutral</td>\n",
       "    </tr>\n",
       "    <tr>\n",
       "      <th>28</th>\n",
       "      <td>35982</td>\n",
       "      <td>I m poor poor ever happy kase God is with me</td>\n",
       "      <td>negative</td>\n",
       "    </tr>\n",
       "    <tr>\n",
       "      <th>29</th>\n",
       "      <td>14603</td>\n",
       "      <td>Madam SushmaSwaraj ji we always miss you as a ...</td>\n",
       "      <td>positive</td>\n",
       "    </tr>\n",
       "    <tr>\n",
       "      <th>...</th>\n",
       "      <td>...</td>\n",
       "      <td>...</td>\n",
       "      <td>...</td>\n",
       "    </tr>\n",
       "    <tr>\n",
       "      <th>16970</th>\n",
       "      <td>13355</td>\n",
       "      <td>Is lrki ki ye harkat to ap logo ko bht buri lg...</td>\n",
       "      <td>neutral</td>\n",
       "    </tr>\n",
       "    <tr>\n",
       "      <th>16971</th>\n",
       "      <td>26136</td>\n",
       "      <td>DarshanaJardosh SmritiIraniOffc smritiirani Ve...</td>\n",
       "      <td>negative</td>\n",
       "    </tr>\n",
       "    <tr>\n",
       "      <th>16972</th>\n",
       "      <td>37139</td>\n",
       "      <td>Good luck boys we still believe in you We will...</td>\n",
       "      <td>positive</td>\n",
       "    </tr>\n",
       "    <tr>\n",
       "      <th>16973</th>\n",
       "      <td>44140</td>\n",
       "      <td>Vaishaly patil Chowkidar ko Chor kehne wale MA...</td>\n",
       "      <td>negative</td>\n",
       "    </tr>\n",
       "    <tr>\n",
       "      <th>16974</th>\n",
       "      <td>11979</td>\n",
       "      <td>SarfarazAhmed ne qoomi labaas ko izat day kr P...</td>\n",
       "      <td>positive</td>\n",
       "    </tr>\n",
       "    <tr>\n",
       "      <th>16975</th>\n",
       "      <td>1599</td>\n",
       "      <td>Balwant GowKillerAlpha SadiaKhattak husainhaqq...</td>\n",
       "      <td>negative</td>\n",
       "    </tr>\n",
       "    <tr>\n",
       "      <th>16976</th>\n",
       "      <td>25454</td>\n",
       "      <td>abdullah mar coolfunnytshirt Madarchod hain sa...</td>\n",
       "      <td>negative</td>\n",
       "    </tr>\n",
       "    <tr>\n",
       "      <th>16977</th>\n",
       "      <td>19820</td>\n",
       "      <td>rssurjewala INCIndia DEcision achha he kam se ...</td>\n",
       "      <td>neutral</td>\n",
       "    </tr>\n",
       "    <tr>\n",
       "      <th>16978</th>\n",
       "      <td>12975</td>\n",
       "      <td>joke sunne ka mann tha rehndo ye tweet hi joke...</td>\n",
       "      <td>positive</td>\n",
       "    </tr>\n",
       "    <tr>\n",
       "      <th>16979</th>\n",
       "      <td>6080</td>\n",
       "      <td>RT UP wala babua Me accidentally step on mom s...</td>\n",
       "      <td>neutral</td>\n",
       "    </tr>\n",
       "    <tr>\n",
       "      <th>16980</th>\n",
       "      <td>21391</td>\n",
       "      <td>RT GIANINYC ayoair someone got that nazar on y...</td>\n",
       "      <td>neutral</td>\n",
       "    </tr>\n",
       "    <tr>\n",
       "      <th>16981</th>\n",
       "      <td>18112</td>\n",
       "      <td>riitta marja JAMACardio Thank you Marsu Great ...</td>\n",
       "      <td>positive</td>\n",
       "    </tr>\n",
       "    <tr>\n",
       "      <th>16982</th>\n",
       "      <td>38558</td>\n",
       "      <td>Wishing you many more happy returns of the day...</td>\n",
       "      <td>positive</td>\n",
       "    </tr>\n",
       "    <tr>\n",
       "      <th>16983</th>\n",
       "      <td>38601</td>\n",
       "      <td>RJDforIndia Modi ne pulwama attack isiliye kar...</td>\n",
       "      <td>neutral</td>\n",
       "    </tr>\n",
       "    <tr>\n",
       "      <th>16984</th>\n",
       "      <td>16150</td>\n",
       "      <td>harghootmeinswag PEPSI ApexLegends the song wi...</td>\n",
       "      <td>positive</td>\n",
       "    </tr>\n",
       "    <tr>\n",
       "      <th>16985</th>\n",
       "      <td>4584</td>\n",
       "      <td>myogiadityanath Yogi ji desh to yahi chahta h ...</td>\n",
       "      <td>negative</td>\n",
       "    </tr>\n",
       "    <tr>\n",
       "      <th>16986</th>\n",
       "      <td>10761</td>\n",
       "      <td>ravishndtv Akhilesh Yadav sayad yahi soch rahe...</td>\n",
       "      <td>neutral</td>\n",
       "    </tr>\n",
       "    <tr>\n",
       "      <th>16987</th>\n",
       "      <td>7609</td>\n",
       "      <td>Just go to hell Agr petrol ki price sy itni pr...</td>\n",
       "      <td>negative</td>\n",
       "    </tr>\n",
       "    <tr>\n",
       "      <th>16988</th>\n",
       "      <td>38183</td>\n",
       "      <td>Modi ji ek hi toh dil h kitni bar jitoge nare ...</td>\n",
       "      <td>positive</td>\n",
       "    </tr>\n",
       "    <tr>\n",
       "      <th>16989</th>\n",
       "      <td>5292</td>\n",
       "      <td>RT worldwarbot Isrardi s pero dilo sin llorar ...</td>\n",
       "      <td>positive</td>\n",
       "    </tr>\n",
       "    <tr>\n",
       "      <th>16990</th>\n",
       "      <td>36750</td>\n",
       "      <td>sakshijoshii YogendraYadav Congress The Reason...</td>\n",
       "      <td>neutral</td>\n",
       "    </tr>\n",
       "    <tr>\n",
       "      <th>16991</th>\n",
       "      <td>18448</td>\n",
       "      <td>BebakAawaj Maderchd tu gulam hi or gulam raheg...</td>\n",
       "      <td>negative</td>\n",
       "    </tr>\n",
       "    <tr>\n",
       "      <th>16992</th>\n",
       "      <td>22191</td>\n",
       "      <td>blverma SantoshKMall PrakashJavdekar Abhi inka...</td>\n",
       "      <td>neutral</td>\n",
       "    </tr>\n",
       "    <tr>\n",
       "      <th>16993</th>\n",
       "      <td>25749</td>\n",
       "      <td>RT monoami bittupandit satishanna Police Ko ch...</td>\n",
       "      <td>negative</td>\n",
       "    </tr>\n",
       "    <tr>\n",
       "      <th>16994</th>\n",
       "      <td>7026</td>\n",
       "      <td>narendramodi Pradhanmantri ji aap ko dusri Baa...</td>\n",
       "      <td>positive</td>\n",
       "    </tr>\n",
       "    <tr>\n",
       "      <th>16995</th>\n",
       "      <td>10425</td>\n",
       "      <td>i yogesh atulreellife Haha atulreellife Jai Ho...</td>\n",
       "      <td>neutral</td>\n",
       "    </tr>\n",
       "    <tr>\n",
       "      <th>16996</th>\n",
       "      <td>14162</td>\n",
       "      <td>you da realest Thank you for putting me on thi...</td>\n",
       "      <td>neutral</td>\n",
       "    </tr>\n",
       "    <tr>\n",
       "      <th>16997</th>\n",
       "      <td>15860</td>\n",
       "      <td>RT Nimra Khan Fahad Bhaiiiii give us Bilal Abb...</td>\n",
       "      <td>neutral</td>\n",
       "    </tr>\n",
       "    <tr>\n",
       "      <th>16998</th>\n",
       "      <td>25435</td>\n",
       "      <td>RT fralaliciouxxe tbh i have bad sides too whe...</td>\n",
       "      <td>neutral</td>\n",
       "    </tr>\n",
       "    <tr>\n",
       "      <th>16999</th>\n",
       "      <td>25183</td>\n",
       "      <td>BhadasManKi mithleshkumarmi Kiranja BJPindia s...</td>\n",
       "      <td>negative</td>\n",
       "    </tr>\n",
       "  </tbody>\n",
       "</table>\n",
       "<p>17000 rows × 3 columns</p>\n",
       "</div>"
      ],
      "text/plain": [
       "          ID                                              Tweet  \\\n",
       "0       4330  nen vist bolest vztek smutek zmatek osam lost ...   \n",
       "1      41616  nehantics Haan yaar neha kab karega woh post U...   \n",
       "2       6648  RahulGandhi television media congress ke liye ...   \n",
       "3       2512  AmitShah narendramodi All India me nrc lagu ka...   \n",
       "4        610  Nehr who TypoMantri anjanaomkashyap Pagal hai ...   \n",
       "5      14356  narendramodi jeet ki dher sari subh kamnaye mo...   \n",
       "6       5840  Fakeionist SAMjhotaXpress PLiChapel but topi w...   \n",
       "7      32791  aajtak syedasimwaqar chitraaum syedzafarBJP Ye...   \n",
       "8      37480  TarekFatah Baih tere itjey Kya jalti hai Pakis...   \n",
       "9      16395  desimarthastew Hehe I saw that coming And it s...   \n",
       "10     33428  ECISVEEP Can you answer miscalculated votes on...   \n",
       "11     19222  MahaAli Allah pak os k Dil ka darwaza kbi off ...   \n",
       "12      8422  RavishKumarBlog Bahut hi Samajhdari se Cingres...   \n",
       "13     26930  RT Mastani Tu Safar Mera Tu Hi Meri Manzil Ter...   \n",
       "14     40285  Dobar se PM bnne ki aapko dher sari shubhakamn...   \n",
       "15     21403  Siitae We can face life together and we can sp...   \n",
       "16     35826  waah kisi ne khub likha ke shama khud ko jala ...   \n",
       "17     18017  its tani yabikikainaaat Abe haattt tum flop lo...   \n",
       "18     39736  marrjao Shining star Ohho Very beautiful eyes ...   \n",
       "19     15893     EVRYONE SHIT THE FUCK UP https t co RINOmqkPsZ   \n",
       "20      5433  atifthepoet haram khor log ulta chor kotowal k...   \n",
       "21     23492  RT BTS army Fin Also Stade de France is prepar...   \n",
       "22     13515  aajtak Jai shree ram Jarurat nahi aandolan ki ...   \n",
       "23     34678  Phir se lut chalu ho gaya Bjp walo tumhe kuch ...   \n",
       "24     11310  AmarUjalaNews Jinko khud Nahi pta ki Ramcharit...   \n",
       "25     27883  Abe yhi hai ram rajya kya Jisme sbhi sale hara...   \n",
       "26     16679  nsfw hs Maybe I ll faing and I won t feel a thing   \n",
       "27     26920  Duniya me dil koi kabhi na dadka hota Dadkha h...   \n",
       "28     35982       I m poor poor ever happy kase God is with me   \n",
       "29     14603  Madam SushmaSwaraj ji we always miss you as a ...   \n",
       "...      ...                                                ...   \n",
       "16970  13355  Is lrki ki ye harkat to ap logo ko bht buri lg...   \n",
       "16971  26136  DarshanaJardosh SmritiIraniOffc smritiirani Ve...   \n",
       "16972  37139  Good luck boys we still believe in you We will...   \n",
       "16973  44140  Vaishaly patil Chowkidar ko Chor kehne wale MA...   \n",
       "16974  11979  SarfarazAhmed ne qoomi labaas ko izat day kr P...   \n",
       "16975   1599  Balwant GowKillerAlpha SadiaKhattak husainhaqq...   \n",
       "16976  25454  abdullah mar coolfunnytshirt Madarchod hain sa...   \n",
       "16977  19820  rssurjewala INCIndia DEcision achha he kam se ...   \n",
       "16978  12975  joke sunne ka mann tha rehndo ye tweet hi joke...   \n",
       "16979   6080  RT UP wala babua Me accidentally step on mom s...   \n",
       "16980  21391  RT GIANINYC ayoair someone got that nazar on y...   \n",
       "16981  18112  riitta marja JAMACardio Thank you Marsu Great ...   \n",
       "16982  38558  Wishing you many more happy returns of the day...   \n",
       "16983  38601  RJDforIndia Modi ne pulwama attack isiliye kar...   \n",
       "16984  16150  harghootmeinswag PEPSI ApexLegends the song wi...   \n",
       "16985   4584  myogiadityanath Yogi ji desh to yahi chahta h ...   \n",
       "16986  10761  ravishndtv Akhilesh Yadav sayad yahi soch rahe...   \n",
       "16987   7609  Just go to hell Agr petrol ki price sy itni pr...   \n",
       "16988  38183  Modi ji ek hi toh dil h kitni bar jitoge nare ...   \n",
       "16989   5292  RT worldwarbot Isrardi s pero dilo sin llorar ...   \n",
       "16990  36750  sakshijoshii YogendraYadav Congress The Reason...   \n",
       "16991  18448  BebakAawaj Maderchd tu gulam hi or gulam raheg...   \n",
       "16992  22191  blverma SantoshKMall PrakashJavdekar Abhi inka...   \n",
       "16993  25749  RT monoami bittupandit satishanna Police Ko ch...   \n",
       "16994   7026  narendramodi Pradhanmantri ji aap ko dusri Baa...   \n",
       "16995  10425  i yogesh atulreellife Haha atulreellife Jai Ho...   \n",
       "16996  14162  you da realest Thank you for putting me on thi...   \n",
       "16997  15860  RT Nimra Khan Fahad Bhaiiiii give us Bilal Abb...   \n",
       "16998  25435  RT fralaliciouxxe tbh i have bad sides too whe...   \n",
       "16999  25183  BhadasManKi mithleshkumarmi Kiranja BJPindia s...   \n",
       "\n",
       "      Sentiment Polarity  \n",
       "0                neutral  \n",
       "1                neutral  \n",
       "2               negative  \n",
       "3               positive  \n",
       "4                neutral  \n",
       "5               positive  \n",
       "6               negative  \n",
       "7                neutral  \n",
       "8               negative  \n",
       "9                neutral  \n",
       "10               neutral  \n",
       "11               neutral  \n",
       "12               neutral  \n",
       "13              positive  \n",
       "14              positive  \n",
       "15              positive  \n",
       "16              positive  \n",
       "17              negative  \n",
       "18              positive  \n",
       "19              negative  \n",
       "20              negative  \n",
       "21              positive  \n",
       "22              positive  \n",
       "23               neutral  \n",
       "24               neutral  \n",
       "25              negative  \n",
       "26               neutral  \n",
       "27               neutral  \n",
       "28              negative  \n",
       "29              positive  \n",
       "...                  ...  \n",
       "16970            neutral  \n",
       "16971           negative  \n",
       "16972           positive  \n",
       "16973           negative  \n",
       "16974           positive  \n",
       "16975           negative  \n",
       "16976           negative  \n",
       "16977            neutral  \n",
       "16978           positive  \n",
       "16979            neutral  \n",
       "16980            neutral  \n",
       "16981           positive  \n",
       "16982           positive  \n",
       "16983            neutral  \n",
       "16984           positive  \n",
       "16985           negative  \n",
       "16986            neutral  \n",
       "16987           negative  \n",
       "16988           positive  \n",
       "16989           positive  \n",
       "16990            neutral  \n",
       "16991           negative  \n",
       "16992            neutral  \n",
       "16993           negative  \n",
       "16994           positive  \n",
       "16995            neutral  \n",
       "16996            neutral  \n",
       "16997            neutral  \n",
       "16998            neutral  \n",
       "16999           negative  \n",
       "\n",
       "[17000 rows x 3 columns]"
      ]
     },
     "execution_count": 3,
     "metadata": {},
     "output_type": "execute_result"
    }
   ],
   "source": [
    "df"
   ]
  },
  {
   "cell_type": "code",
   "execution_count": 4,
   "metadata": {},
   "outputs": [
    {
     "data": {
      "text/html": [
       "<div>\n",
       "<style scoped>\n",
       "    .dataframe tbody tr th:only-of-type {\n",
       "        vertical-align: middle;\n",
       "    }\n",
       "\n",
       "    .dataframe tbody tr th {\n",
       "        vertical-align: top;\n",
       "    }\n",
       "\n",
       "    .dataframe thead th {\n",
       "        text-align: right;\n",
       "    }\n",
       "</style>\n",
       "<table border=\"1\" class=\"dataframe\">\n",
       "  <thead>\n",
       "    <tr style=\"text-align: right;\">\n",
       "      <th></th>\n",
       "      <th>ID</th>\n",
       "      <th>Tweet</th>\n",
       "      <th>Sentiment Polarity</th>\n",
       "    </tr>\n",
       "  </thead>\n",
       "  <tbody>\n",
       "  </tbody>\n",
       "</table>\n",
       "</div>"
      ],
      "text/plain": [
       "Empty DataFrame\n",
       "Columns: [ID, Tweet, Sentiment Polarity]\n",
       "Index: []"
      ]
     },
     "execution_count": 4,
     "metadata": {},
     "output_type": "execute_result"
    }
   ],
   "source": [
    "df[df['Tweet'].isnull()]"
   ]
  },
  {
   "cell_type": "code",
   "execution_count": null,
   "metadata": {},
   "outputs": [],
   "source": []
  },
  {
   "cell_type": "code",
   "execution_count": 5,
   "metadata": {},
   "outputs": [],
   "source": [
    "for i in range(len(df)):\n",
    "    if(type(df['Tweet'][i]) !=str):\n",
    "        df['Tweet'][i] = df['Sentiment Polarity'][i]"
   ]
  },
  {
   "cell_type": "code",
   "execution_count": 6,
   "metadata": {},
   "outputs": [
    {
     "data": {
      "text/html": [
       "<div>\n",
       "<style scoped>\n",
       "    .dataframe tbody tr th:only-of-type {\n",
       "        vertical-align: middle;\n",
       "    }\n",
       "\n",
       "    .dataframe tbody tr th {\n",
       "        vertical-align: top;\n",
       "    }\n",
       "\n",
       "    .dataframe thead th {\n",
       "        text-align: right;\n",
       "    }\n",
       "</style>\n",
       "<table border=\"1\" class=\"dataframe\">\n",
       "  <thead>\n",
       "    <tr style=\"text-align: right;\">\n",
       "      <th></th>\n",
       "      <th>ID</th>\n",
       "      <th>Tweet</th>\n",
       "      <th>Sentiment Polarity</th>\n",
       "    </tr>\n",
       "  </thead>\n",
       "  <tbody>\n",
       "  </tbody>\n",
       "</table>\n",
       "</div>"
      ],
      "text/plain": [
       "Empty DataFrame\n",
       "Columns: [ID, Tweet, Sentiment Polarity]\n",
       "Index: []"
      ]
     },
     "execution_count": 6,
     "metadata": {},
     "output_type": "execute_result"
    }
   ],
   "source": [
    "df[df['Tweet'].isnull()]"
   ]
  },
  {
   "cell_type": "code",
   "execution_count": null,
   "metadata": {},
   "outputs": [],
   "source": []
  },
  {
   "cell_type": "markdown",
   "metadata": {},
   "source": [
    "# Count Vectorizer"
   ]
  },
  {
   "cell_type": "code",
   "execution_count": 7,
   "metadata": {},
   "outputs": [],
   "source": [
    "from sklearn.feature_extraction.text import CountVectorizer\n",
    "vectorizer = CountVectorizer(analyzer = 'word', lowercase = True,ngram_range=(1, 1))\n",
    "features = vectorizer.fit_transform(df['Tweet'])\n",
    "sentiment = df['Sentiment Polarity']"
   ]
  },
  {
   "cell_type": "code",
   "execution_count": 8,
   "metadata": {},
   "outputs": [
    {
     "name": "stderr",
     "output_type": "stream",
     "text": [
      "/Users/gaurav/anaconda3/lib/python3.6/site-packages/sklearn/model_selection/_split.py:2179: FutureWarning: From version 0.21, test_size will always complement train_size unless both are specified.\n",
      "  FutureWarning)\n"
     ]
    }
   ],
   "source": [
    "from sklearn.model_selection import train_test_split\n",
    "\n",
    "X_train, X_test, y_train, y_test  = train_test_split(\n",
    "        features, \n",
    "        sentiment,\n",
    "        train_size=0.82352942, \n",
    "        shuffle = False\n",
    "       )"
   ]
  },
  {
   "cell_type": "code",
   "execution_count": 9,
   "metadata": {},
   "outputs": [
    {
     "data": {
      "text/plain": [
       "(14000, 54641)"
      ]
     },
     "execution_count": 9,
     "metadata": {},
     "output_type": "execute_result"
    }
   ],
   "source": [
    "X_train.shape"
   ]
  },
  {
   "cell_type": "code",
   "execution_count": 10,
   "metadata": {},
   "outputs": [
    {
     "data": {
      "text/plain": [
       "(3000, 54641)"
      ]
     },
     "execution_count": 10,
     "metadata": {},
     "output_type": "execute_result"
    }
   ],
   "source": [
    "X_test.shape"
   ]
  },
  {
   "cell_type": "code",
   "execution_count": 11,
   "metadata": {},
   "outputs": [
    {
     "name": "stdout",
     "output_type": "stream",
     "text": [
      "Accuracy Score =  0.601\n",
      "F1-Score =  0.6060667560271101\n",
      "[[570 263  67]\n",
      " [264 588 248]\n",
      " [ 52 303 645]]\n"
     ]
    }
   ],
   "source": [
    "from sklearn import svm\n",
    "lin_clf = svm.SVC(kernel='linear',decision_function_shape='ovr', class_weight='balanced',random_state=0)\n",
    "lin_clf.fit(X_train, y_train)\n",
    "y_pred = lin_clf.predict(X_test)\n",
    "from sklearn.metrics import accuracy_score, confusion_matrix, f1_score\n",
    "print(\"Accuracy Score = \", accuracy_score(y_test, y_pred))\n",
    "print(\"F1-Score = \", f1_score(y_test, y_pred, average='macro'))\n",
    "print(confusion_matrix(y_test, y_pred))"
   ]
  },
  {
   "cell_type": "code",
   "execution_count": null,
   "metadata": {},
   "outputs": [],
   "source": []
  },
  {
   "cell_type": "code",
   "execution_count": 12,
   "metadata": {},
   "outputs": [
    {
     "data": {
      "text/plain": [
       "<Figure size 1000x600 with 1 Axes>"
      ]
     },
     "metadata": {},
     "output_type": "display_data"
    },
    {
     "name": "stdout",
     "output_type": "stream",
     "text": [
      "Best K value =  3\n"
     ]
    }
   ],
   "source": [
    "import numpy as np\n",
    "from sklearn.neighbors import KNeighborsClassifier\n",
    "\n",
    "error_rate = []\n",
    "# Will take some time\n",
    "best_k = 0\n",
    "k=0\n",
    "for i in range(1,100):\n",
    " \n",
    " knn = KNeighborsClassifier(n_neighbors=i)\n",
    " knn.fit(X_train,y_train)\n",
    " pred_i = knn.predict(X_test)\n",
    " f=f1_score(y_test, pred_i, average='macro')\n",
    " if f>best_k:\n",
    "        best_k = f\n",
    "        k=i\n",
    " error_rate.append(f)\n",
    "\n",
    "import matplotlib.pyplot as plt\n",
    "plt.figure(figsize=(10,6))\n",
    "plt.plot(range(1,100),error_rate,color='blue', linestyle='dashed', marker='o',\n",
    "markerfacecolor='red', markersize=10)\n",
    "plt.title('F1-Score vs. K Value')\n",
    "plt.xlabel('K')\n",
    "plt.ylabel('F1-Score')\n",
    "plt.savefig('/Users/gaurav/Desktop/Hinglish/data/k_data-1.png', bbox_inches='tight')\n",
    "plt.show()\n",
    "print(\"Best K value = \",k)"
   ]
  },
  {
   "cell_type": "code",
   "execution_count": 13,
   "metadata": {},
   "outputs": [
    {
     "data": {
      "image/png": "[encoded data removed]",
      "text/plain": [
       "<Figure size 720x432 with 1 Axes>"
      ]
     },
     "metadata": {
      "needs_background": "light"
     },
     "output_type": "display_data"
    }
   ],
   "source": [
    "import matplotlib.pyplot as plt\n",
    "plt.figure(figsize=(10,6))\n",
    "plt.plot(range(1,100),error_rate,color='blue', linestyle='dashed', marker='o',\n",
    "markerfacecolor='red', markersize=10)\n",
    "plt.title('F1-Score vs. K Value')\n",
    "plt.xlabel('K')\n",
    "plt.ylabel('F1-Score')\n",
    "plt.savefig('/Users/gaurav/Desktop/Hinglish/data/k_data1-1.png', bbox_inches='tight')\n",
    "plt.show()"
   ]
  },
  {
   "cell_type": "code",
   "execution_count": 14,
   "metadata": {},
   "outputs": [
    {
     "name": "stdout",
     "output_type": "stream",
     "text": [
      "Accuracy Score =  0.46\n",
      "F1-Score =  0.4210808237075689\n",
      "[[157 695  48]\n",
      " [113 850 137]\n",
      " [ 63 564 373]]\n"
     ]
    }
   ],
   "source": [
    "from sklearn.neighbors import KNeighborsClassifier\n",
    "\n",
    "knn = KNeighborsClassifier(n_neighbors=k)\n",
    "clf = knn.fit(X_train, y_train)\n",
    "y_pred = clf.predict(X_test)\n",
    "print(\"Accuracy Score = \", accuracy_score(y_test, y_pred))\n",
    "print(\"F1-Score = \", f1_score(y_test, y_pred, average='macro'))\n",
    "print(confusion_matrix(y_test, y_pred))"
   ]
  },
  {
   "cell_type": "code",
   "execution_count": null,
   "metadata": {},
   "outputs": [],
   "source": []
  },
  {
   "cell_type": "code",
   "execution_count": 15,
   "metadata": {},
   "outputs": [
    {
     "name": "stdout",
     "output_type": "stream",
     "text": [
      "Accuracy Score =  0.5476666666666666\n",
      "F1-Score =  0.55046803772309\n",
      "[[512 283 105]\n",
      " [296 507 297]\n",
      " [ 91 285 624]]\n"
     ]
    }
   ],
   "source": [
    "from sklearn.tree import DecisionTreeClassifier \n",
    "dtree_model = DecisionTreeClassifier(random_state=0, class_weight='balanced')\n",
    "dtree_model.fit(X_train, y_train) \n",
    "y_pred = dtree_model.predict(X_test)\n",
    "from sklearn.metrics import accuracy_score, confusion_matrix, f1_score\n",
    "print(\"Accuracy Score = \", accuracy_score(y_test, y_pred))\n",
    "print(\"F1-Score = \", f1_score(y_test, y_pred, average='macro'))\n",
    "print(confusion_matrix(y_test, y_pred))"
   ]
  },
  {
   "cell_type": "code",
   "execution_count": 16,
   "metadata": {},
   "outputs": [],
   "source": [
    "from sklearn.naive_bayes import GaussianNB\n",
    "gnb = GaussianNB()"
   ]
  },
  {
   "cell_type": "code",
   "execution_count": 17,
   "metadata": {},
   "outputs": [
    {
     "data": {
      "text/plain": [
       "GaussianNB(priors=None, var_smoothing=1e-09)"
      ]
     },
     "execution_count": 17,
     "metadata": {},
     "output_type": "execute_result"
    }
   ],
   "source": [
    "gnb.fit(X_train.toarray(), y_train)"
   ]
  },
  {
   "cell_type": "code",
   "execution_count": 18,
   "metadata": {},
   "outputs": [
    {
     "name": "stdout",
     "output_type": "stream",
     "text": [
      "Accuracy Score =  0.49833333333333335\n",
      "F1-Score =  0.4917310161437552\n",
      "[[580 207 113]\n",
      " [455 306 339]\n",
      " [177 214 609]]\n"
     ]
    }
   ],
   "source": [
    "y_pred = gnb.predict(X_test.toarray())\n",
    "print(\"Accuracy Score = \", accuracy_score(y_test, y_pred))\n",
    "print(\"F1-Score = \", f1_score(y_test, y_pred, average='macro'))\n",
    "print(confusion_matrix(y_test, y_pred))"
   ]
  },
  {
   "cell_type": "code",
   "execution_count": 19,
   "metadata": {},
   "outputs": [
    {
     "name": "stdout",
     "output_type": "stream",
     "text": [
      "Accuracy Score =  0.6363333333333333\n",
      "F1-Score =  0.6301868727172105\n",
      "[[706 147  47]\n",
      " [370 435 295]\n",
      " [ 62 170 768]]\n"
     ]
    }
   ],
   "source": [
    "from sklearn.naive_bayes import MultinomialNB\n",
    "MNB = MultinomialNB()\n",
    "MNB.fit(X_train.toarray(), y_train)\n",
    "y_pred = MNB.predict(X_test.toarray())\n",
    "print(\"Accuracy Score = \", accuracy_score(y_test, y_pred))\n",
    "print(\"F1-Score = \", f1_score(y_test, y_pred, average='macro'))\n",
    "print(confusion_matrix(y_test, y_pred))"
   ]
  },
  {
   "cell_type": "code",
   "execution_count": 20,
   "metadata": {},
   "outputs": [],
   "source": [
    "from sklearn.linear_model import LogisticRegression\n",
    "log_model = LogisticRegression(random_state=0, class_weight='balanced')"
   ]
  },
  {
   "cell_type": "code",
   "execution_count": 21,
   "metadata": {},
   "outputs": [
    {
     "name": "stderr",
     "output_type": "stream",
     "text": [
      "/Users/gaurav/anaconda3/lib/python3.6/site-packages/sklearn/linear_model/logistic.py:433: FutureWarning: Default solver will be changed to 'lbfgs' in 0.22. Specify a solver to silence this warning.\n",
      "  FutureWarning)\n",
      "/Users/gaurav/anaconda3/lib/python3.6/site-packages/sklearn/linear_model/logistic.py:460: FutureWarning: Default multi_class will be changed to 'auto' in 0.22. Specify the multi_class option to silence this warning.\n",
      "  \"this warning.\", FutureWarning)\n"
     ]
    }
   ],
   "source": [
    "log_model = log_model.fit(X_train, y_train)"
   ]
  },
  {
   "cell_type": "code",
   "execution_count": 22,
   "metadata": {
    "scrolled": true
   },
   "outputs": [
    {
     "name": "stdout",
     "output_type": "stream",
     "text": [
      "Accuracy Score =  0.6333333333333333\n",
      "F1-Score =  0.6385161578271735\n",
      "[[588 259  53]\n",
      " [232 617 251]\n",
      " [ 30 275 695]]\n"
     ]
    }
   ],
   "source": [
    "y_pred = log_model.predict(X_test)\n",
    "print(\"Accuracy Score = \", accuracy_score(y_test, y_pred))\n",
    "print(\"F1-Score = \", f1_score(y_test, y_pred, average='macro'))\n",
    "print(confusion_matrix(y_test, y_pred))"
   ]
  },
  {
   "cell_type": "code",
   "execution_count": 23,
   "metadata": {},
   "outputs": [],
   "source": [
    "from sklearn.ensemble import RandomForestClassifier\n",
    "model = RandomForestClassifier(n_estimators=1000, random_state=0, class_weight='balanced')"
   ]
  },
  {
   "cell_type": "code",
   "execution_count": 24,
   "metadata": {},
   "outputs": [
    {
     "name": "stdout",
     "output_type": "stream",
     "text": [
      "12.571852731704713  minutes\n"
     ]
    }
   ],
   "source": [
    "import time\n",
    "start_time=time.time()\n",
    "model.fit(X_train, y_train) \n",
    "duration = time.time()-start_time\n",
    "print(duration/60, \" minutes\")"
   ]
  },
  {
   "cell_type": "code",
   "execution_count": 25,
   "metadata": {},
   "outputs": [
    {
     "name": "stdout",
     "output_type": "stream",
     "text": [
      "Accuracy Score =  0.6473333333333333\n",
      "F1-Score =  0.6524375761968316\n",
      "[[586 279  35]\n",
      " [210 650 240]\n",
      " [ 40 254 706]]\n"
     ]
    }
   ],
   "source": [
    "y_pred = model.predict(X_test)\n",
    "print(\"Accuracy Score = \", accuracy_score(y_test, y_pred))\n",
    "print(\"F1-Score = \", f1_score(y_test, y_pred, average='macro'))\n",
    "print(confusion_matrix(y_test, y_pred))"
   ]
  },
  {
   "cell_type": "code",
   "execution_count": null,
   "metadata": {},
   "outputs": [],
   "source": []
  },
  {
   "cell_type": "markdown",
   "metadata": {},
   "source": [
    "# One Hot Binarizer"
   ]
  },
  {
   "cell_type": "code",
   "execution_count": 26,
   "metadata": {},
   "outputs": [],
   "source": [
    "from sklearn.preprocessing import Binarizer\n",
    "onehot = Binarizer()\n",
    "features1 = onehot.fit_transform(features)"
   ]
  },
  {
   "cell_type": "code",
   "execution_count": 27,
   "metadata": {},
   "outputs": [
    {
     "name": "stderr",
     "output_type": "stream",
     "text": [
      "/Users/gaurav/anaconda3/lib/python3.6/site-packages/sklearn/model_selection/_split.py:2179: FutureWarning: From version 0.21, test_size will always complement train_size unless both are specified.\n",
      "  FutureWarning)\n"
     ]
    }
   ],
   "source": [
    "X_train, X_test, y_train, y_test  = train_test_split(\n",
    "        features1, \n",
    "        sentiment,\n",
    "        train_size=0.82352942, \n",
    "        shuffle = False\n",
    "       )"
   ]
  },
  {
   "cell_type": "code",
   "execution_count": 28,
   "metadata": {},
   "outputs": [
    {
     "name": "stdout",
     "output_type": "stream",
     "text": [
      "Accuracy Score =  0.6023333333333334\n",
      "F1-Score =  0.6073387185498167\n",
      "[[562 270  68]\n",
      " [263 595 242]\n",
      " [ 49 301 650]]\n"
     ]
    }
   ],
   "source": [
    "from sklearn import svm\n",
    "lin_clf = svm.SVC(kernel='linear',decision_function_shape='ovr', class_weight='balanced',random_state=0)\n",
    "lin_clf.fit(X_train, y_train)\n",
    "y_pred = lin_clf.predict(X_test)\n",
    "from sklearn.metrics import accuracy_score, confusion_matrix, f1_score\n",
    "print(\"Accuracy Score = \", accuracy_score(y_test, y_pred))\n",
    "print(\"F1-Score = \", f1_score(y_test, y_pred, average='macro'))\n",
    "print(confusion_matrix(y_test, y_pred))"
   ]
  },
  {
   "cell_type": "code",
   "execution_count": null,
   "metadata": {},
   "outputs": [],
   "source": []
  },
  {
   "cell_type": "code",
   "execution_count": 29,
   "metadata": {},
   "outputs": [
    {
     "name": "stderr",
     "output_type": "stream",
     "text": [
      "/Users/gaurav/anaconda3/lib/python3.6/site-packages/sklearn/metrics/classification.py:1143: UndefinedMetricWarning: F-score is ill-defined and being set to 0.0 in labels with no predicted samples.\n",
      "  'precision', 'predicted', average, warn_for)\n",
      "/Users/gaurav/anaconda3/lib/python3.6/site-packages/sklearn/metrics/classification.py:1143: UndefinedMetricWarning: F-score is ill-defined and being set to 0.0 in labels with no predicted samples.\n",
      "  'precision', 'predicted', average, warn_for)\n",
      "/Users/gaurav/anaconda3/lib/python3.6/site-packages/sklearn/metrics/classification.py:1143: UndefinedMetricWarning: F-score is ill-defined and being set to 0.0 in labels with no predicted samples.\n",
      "  'precision', 'predicted', average, warn_for)\n",
      "/Users/gaurav/anaconda3/lib/python3.6/site-packages/sklearn/metrics/classification.py:1143: UndefinedMetricWarning: F-score is ill-defined and being set to 0.0 in labels with no predicted samples.\n",
      "  'precision', 'predicted', average, warn_for)\n",
      "/Users/gaurav/anaconda3/lib/python3.6/site-packages/sklearn/metrics/classification.py:1143: UndefinedMetricWarning: F-score is ill-defined and being set to 0.0 in labels with no predicted samples.\n",
      "  'precision', 'predicted', average, warn_for)\n",
      "/Users/gaurav/anaconda3/lib/python3.6/site-packages/sklearn/metrics/classification.py:1143: UndefinedMetricWarning: F-score is ill-defined and being set to 0.0 in labels with no predicted samples.\n",
      "  'precision', 'predicted', average, warn_for)\n",
      "/Users/gaurav/anaconda3/lib/python3.6/site-packages/sklearn/metrics/classification.py:1143: UndefinedMetricWarning: F-score is ill-defined and being set to 0.0 in labels with no predicted samples.\n",
      "  'precision', 'predicted', average, warn_for)\n",
      "/Users/gaurav/anaconda3/lib/python3.6/site-packages/sklearn/metrics/classification.py:1143: UndefinedMetricWarning: F-score is ill-defined and being set to 0.0 in labels with no predicted samples.\n",
      "  'precision', 'predicted', average, warn_for)\n",
      "/Users/gaurav/anaconda3/lib/python3.6/site-packages/sklearn/metrics/classification.py:1143: UndefinedMetricWarning: F-score is ill-defined and being set to 0.0 in labels with no predicted samples.\n",
      "  'precision', 'predicted', average, warn_for)\n",
      "/Users/gaurav/anaconda3/lib/python3.6/site-packages/sklearn/metrics/classification.py:1143: UndefinedMetricWarning: F-score is ill-defined and being set to 0.0 in labels with no predicted samples.\n",
      "  'precision', 'predicted', average, warn_for)\n",
      "/Users/gaurav/anaconda3/lib/python3.6/site-packages/sklearn/metrics/classification.py:1143: UndefinedMetricWarning: F-score is ill-defined and being set to 0.0 in labels with no predicted samples.\n",
      "  'precision', 'predicted', average, warn_for)\n",
      "/Users/gaurav/anaconda3/lib/python3.6/site-packages/sklearn/metrics/classification.py:1143: UndefinedMetricWarning: F-score is ill-defined and being set to 0.0 in labels with no predicted samples.\n",
      "  'precision', 'predicted', average, warn_for)\n",
      "/Users/gaurav/anaconda3/lib/python3.6/site-packages/sklearn/metrics/classification.py:1143: UndefinedMetricWarning: F-score is ill-defined and being set to 0.0 in labels with no predicted samples.\n",
      "  'precision', 'predicted', average, warn_for)\n",
      "/Users/gaurav/anaconda3/lib/python3.6/site-packages/sklearn/metrics/classification.py:1143: UndefinedMetricWarning: F-score is ill-defined and being set to 0.0 in labels with no predicted samples.\n",
      "  'precision', 'predicted', average, warn_for)\n",
      "/Users/gaurav/anaconda3/lib/python3.6/site-packages/sklearn/metrics/classification.py:1143: UndefinedMetricWarning: F-score is ill-defined and being set to 0.0 in labels with no predicted samples.\n",
      "  'precision', 'predicted', average, warn_for)\n",
      "/Users/gaurav/anaconda3/lib/python3.6/site-packages/sklearn/metrics/classification.py:1143: UndefinedMetricWarning: F-score is ill-defined and being set to 0.0 in labels with no predicted samples.\n",
      "  'precision', 'predicted', average, warn_for)\n",
      "/Users/gaurav/anaconda3/lib/python3.6/site-packages/sklearn/metrics/classification.py:1143: UndefinedMetricWarning: F-score is ill-defined and being set to 0.0 in labels with no predicted samples.\n",
      "  'precision', 'predicted', average, warn_for)\n",
      "/Users/gaurav/anaconda3/lib/python3.6/site-packages/sklearn/metrics/classification.py:1143: UndefinedMetricWarning: F-score is ill-defined and being set to 0.0 in labels with no predicted samples.\n",
      "  'precision', 'predicted', average, warn_for)\n",
      "/Users/gaurav/anaconda3/lib/python3.6/site-packages/sklearn/metrics/classification.py:1143: UndefinedMetricWarning: F-score is ill-defined and being set to 0.0 in labels with no predicted samples.\n",
      "  'precision', 'predicted', average, warn_for)\n",
      "/Users/gaurav/anaconda3/lib/python3.6/site-packages/sklearn/metrics/classification.py:1143: UndefinedMetricWarning: F-score is ill-defined and being set to 0.0 in labels with no predicted samples.\n",
      "  'precision', 'predicted', average, warn_for)\n",
      "/Users/gaurav/anaconda3/lib/python3.6/site-packages/sklearn/metrics/classification.py:1143: UndefinedMetricWarning: F-score is ill-defined and being set to 0.0 in labels with no predicted samples.\n",
      "  'precision', 'predicted', average, warn_for)\n",
      "/Users/gaurav/anaconda3/lib/python3.6/site-packages/sklearn/metrics/classification.py:1143: UndefinedMetricWarning: F-score is ill-defined and being set to 0.0 in labels with no predicted samples.\n",
      "  'precision', 'predicted', average, warn_for)\n",
      "/Users/gaurav/anaconda3/lib/python3.6/site-packages/sklearn/metrics/classification.py:1143: UndefinedMetricWarning: F-score is ill-defined and being set to 0.0 in labels with no predicted samples.\n",
      "  'precision', 'predicted', average, warn_for)\n",
      "/Users/gaurav/anaconda3/lib/python3.6/site-packages/sklearn/metrics/classification.py:1143: UndefinedMetricWarning: F-score is ill-defined and being set to 0.0 in labels with no predicted samples.\n",
      "  'precision', 'predicted', average, warn_for)\n",
      "/Users/gaurav/anaconda3/lib/python3.6/site-packages/sklearn/metrics/classification.py:1143: UndefinedMetricWarning: F-score is ill-defined and being set to 0.0 in labels with no predicted samples.\n",
      "  'precision', 'predicted', average, warn_for)\n",
      "/Users/gaurav/anaconda3/lib/python3.6/site-packages/sklearn/metrics/classification.py:1143: UndefinedMetricWarning: F-score is ill-defined and being set to 0.0 in labels with no predicted samples.\n",
      "  'precision', 'predicted', average, warn_for)\n",
      "/Users/gaurav/anaconda3/lib/python3.6/site-packages/sklearn/metrics/classification.py:1143: UndefinedMetricWarning: F-score is ill-defined and being set to 0.0 in labels with no predicted samples.\n",
      "  'precision', 'predicted', average, warn_for)\n",
      "/Users/gaurav/anaconda3/lib/python3.6/site-packages/sklearn/metrics/classification.py:1143: UndefinedMetricWarning: F-score is ill-defined and being set to 0.0 in labels with no predicted samples.\n",
      "  'precision', 'predicted', average, warn_for)\n",
      "/Users/gaurav/anaconda3/lib/python3.6/site-packages/sklearn/metrics/classification.py:1143: UndefinedMetricWarning: F-score is ill-defined and being set to 0.0 in labels with no predicted samples.\n",
      "  'precision', 'predicted', average, warn_for)\n",
      "/Users/gaurav/anaconda3/lib/python3.6/site-packages/sklearn/metrics/classification.py:1143: UndefinedMetricWarning: F-score is ill-defined and being set to 0.0 in labels with no predicted samples.\n",
      "  'precision', 'predicted', average, warn_for)\n",
      "/Users/gaurav/anaconda3/lib/python3.6/site-packages/sklearn/metrics/classification.py:1143: UndefinedMetricWarning: F-score is ill-defined and being set to 0.0 in labels with no predicted samples.\n",
      "  'precision', 'predicted', average, warn_for)\n",
      "/Users/gaurav/anaconda3/lib/python3.6/site-packages/sklearn/metrics/classification.py:1143: UndefinedMetricWarning: F-score is ill-defined and being set to 0.0 in labels with no predicted samples.\n",
      "  'precision', 'predicted', average, warn_for)\n",
      "/Users/gaurav/anaconda3/lib/python3.6/site-packages/sklearn/metrics/classification.py:1143: UndefinedMetricWarning: F-score is ill-defined and being set to 0.0 in labels with no predicted samples.\n",
      "  'precision', 'predicted', average, warn_for)\n",
      "/Users/gaurav/anaconda3/lib/python3.6/site-packages/sklearn/metrics/classification.py:1143: UndefinedMetricWarning: F-score is ill-defined and being set to 0.0 in labels with no predicted samples.\n",
      "  'precision', 'predicted', average, warn_for)\n"
     ]
    },
    {
     "name": "stderr",
     "output_type": "stream",
     "text": [
      "/Users/gaurav/anaconda3/lib/python3.6/site-packages/sklearn/metrics/classification.py:1143: UndefinedMetricWarning: F-score is ill-defined and being set to 0.0 in labels with no predicted samples.\n",
      "  'precision', 'predicted', average, warn_for)\n",
      "/Users/gaurav/anaconda3/lib/python3.6/site-packages/sklearn/metrics/classification.py:1143: UndefinedMetricWarning: F-score is ill-defined and being set to 0.0 in labels with no predicted samples.\n",
      "  'precision', 'predicted', average, warn_for)\n",
      "/Users/gaurav/anaconda3/lib/python3.6/site-packages/sklearn/metrics/classification.py:1143: UndefinedMetricWarning: F-score is ill-defined and being set to 0.0 in labels with no predicted samples.\n",
      "  'precision', 'predicted', average, warn_for)\n",
      "/Users/gaurav/anaconda3/lib/python3.6/site-packages/sklearn/metrics/classification.py:1143: UndefinedMetricWarning: F-score is ill-defined and being set to 0.0 in labels with no predicted samples.\n",
      "  'precision', 'predicted', average, warn_for)\n",
      "/Users/gaurav/anaconda3/lib/python3.6/site-packages/sklearn/metrics/classification.py:1143: UndefinedMetricWarning: F-score is ill-defined and being set to 0.0 in labels with no predicted samples.\n",
      "  'precision', 'predicted', average, warn_for)\n",
      "/Users/gaurav/anaconda3/lib/python3.6/site-packages/sklearn/metrics/classification.py:1143: UndefinedMetricWarning: F-score is ill-defined and being set to 0.0 in labels with no predicted samples.\n",
      "  'precision', 'predicted', average, warn_for)\n",
      "/Users/gaurav/anaconda3/lib/python3.6/site-packages/sklearn/metrics/classification.py:1143: UndefinedMetricWarning: F-score is ill-defined and being set to 0.0 in labels with no predicted samples.\n",
      "  'precision', 'predicted', average, warn_for)\n",
      "/Users/gaurav/anaconda3/lib/python3.6/site-packages/sklearn/metrics/classification.py:1143: UndefinedMetricWarning: F-score is ill-defined and being set to 0.0 in labels with no predicted samples.\n",
      "  'precision', 'predicted', average, warn_for)\n",
      "/Users/gaurav/anaconda3/lib/python3.6/site-packages/sklearn/metrics/classification.py:1143: UndefinedMetricWarning: F-score is ill-defined and being set to 0.0 in labels with no predicted samples.\n",
      "  'precision', 'predicted', average, warn_for)\n",
      "/Users/gaurav/anaconda3/lib/python3.6/site-packages/sklearn/metrics/classification.py:1143: UndefinedMetricWarning: F-score is ill-defined and being set to 0.0 in labels with no predicted samples.\n",
      "  'precision', 'predicted', average, warn_for)\n",
      "/Users/gaurav/anaconda3/lib/python3.6/site-packages/sklearn/metrics/classification.py:1143: UndefinedMetricWarning: F-score is ill-defined and being set to 0.0 in labels with no predicted samples.\n",
      "  'precision', 'predicted', average, warn_for)\n",
      "/Users/gaurav/anaconda3/lib/python3.6/site-packages/sklearn/metrics/classification.py:1143: UndefinedMetricWarning: F-score is ill-defined and being set to 0.0 in labels with no predicted samples.\n",
      "  'precision', 'predicted', average, warn_for)\n",
      "/Users/gaurav/anaconda3/lib/python3.6/site-packages/sklearn/metrics/classification.py:1143: UndefinedMetricWarning: F-score is ill-defined and being set to 0.0 in labels with no predicted samples.\n",
      "  'precision', 'predicted', average, warn_for)\n",
      "/Users/gaurav/anaconda3/lib/python3.6/site-packages/sklearn/metrics/classification.py:1143: UndefinedMetricWarning: F-score is ill-defined and being set to 0.0 in labels with no predicted samples.\n",
      "  'precision', 'predicted', average, warn_for)\n",
      "/Users/gaurav/anaconda3/lib/python3.6/site-packages/sklearn/metrics/classification.py:1143: UndefinedMetricWarning: F-score is ill-defined and being set to 0.0 in labels with no predicted samples.\n",
      "  'precision', 'predicted', average, warn_for)\n",
      "/Users/gaurav/anaconda3/lib/python3.6/site-packages/sklearn/metrics/classification.py:1143: UndefinedMetricWarning: F-score is ill-defined and being set to 0.0 in labels with no predicted samples.\n",
      "  'precision', 'predicted', average, warn_for)\n",
      "/Users/gaurav/anaconda3/lib/python3.6/site-packages/sklearn/metrics/classification.py:1143: UndefinedMetricWarning: F-score is ill-defined and being set to 0.0 in labels with no predicted samples.\n",
      "  'precision', 'predicted', average, warn_for)\n",
      "/Users/gaurav/anaconda3/lib/python3.6/site-packages/sklearn/metrics/classification.py:1143: UndefinedMetricWarning: F-score is ill-defined and being set to 0.0 in labels with no predicted samples.\n",
      "  'precision', 'predicted', average, warn_for)\n",
      "/Users/gaurav/anaconda3/lib/python3.6/site-packages/sklearn/metrics/classification.py:1143: UndefinedMetricWarning: F-score is ill-defined and being set to 0.0 in labels with no predicted samples.\n",
      "  'precision', 'predicted', average, warn_for)\n",
      "/Users/gaurav/anaconda3/lib/python3.6/site-packages/sklearn/metrics/classification.py:1143: UndefinedMetricWarning: F-score is ill-defined and being set to 0.0 in labels with no predicted samples.\n",
      "  'precision', 'predicted', average, warn_for)\n",
      "/Users/gaurav/anaconda3/lib/python3.6/site-packages/sklearn/metrics/classification.py:1143: UndefinedMetricWarning: F-score is ill-defined and being set to 0.0 in labels with no predicted samples.\n",
      "  'precision', 'predicted', average, warn_for)\n",
      "/Users/gaurav/anaconda3/lib/python3.6/site-packages/sklearn/metrics/classification.py:1143: UndefinedMetricWarning: F-score is ill-defined and being set to 0.0 in labels with no predicted samples.\n",
      "  'precision', 'predicted', average, warn_for)\n",
      "/Users/gaurav/anaconda3/lib/python3.6/site-packages/sklearn/metrics/classification.py:1143: UndefinedMetricWarning: F-score is ill-defined and being set to 0.0 in labels with no predicted samples.\n",
      "  'precision', 'predicted', average, warn_for)\n",
      "/Users/gaurav/anaconda3/lib/python3.6/site-packages/sklearn/metrics/classification.py:1143: UndefinedMetricWarning: F-score is ill-defined and being set to 0.0 in labels with no predicted samples.\n",
      "  'precision', 'predicted', average, warn_for)\n",
      "/Users/gaurav/anaconda3/lib/python3.6/site-packages/sklearn/metrics/classification.py:1143: UndefinedMetricWarning: F-score is ill-defined and being set to 0.0 in labels with no predicted samples.\n",
      "  'precision', 'predicted', average, warn_for)\n",
      "/Users/gaurav/anaconda3/lib/python3.6/site-packages/sklearn/metrics/classification.py:1143: UndefinedMetricWarning: F-score is ill-defined and being set to 0.0 in labels with no predicted samples.\n",
      "  'precision', 'predicted', average, warn_for)\n",
      "/Users/gaurav/anaconda3/lib/python3.6/site-packages/sklearn/metrics/classification.py:1143: UndefinedMetricWarning: F-score is ill-defined and being set to 0.0 in labels with no predicted samples.\n",
      "  'precision', 'predicted', average, warn_for)\n",
      "/Users/gaurav/anaconda3/lib/python3.6/site-packages/sklearn/metrics/classification.py:1143: UndefinedMetricWarning: F-score is ill-defined and being set to 0.0 in labels with no predicted samples.\n",
      "  'precision', 'predicted', average, warn_for)\n",
      "/Users/gaurav/anaconda3/lib/python3.6/site-packages/sklearn/metrics/classification.py:1143: UndefinedMetricWarning: F-score is ill-defined and being set to 0.0 in labels with no predicted samples.\n",
      "  'precision', 'predicted', average, warn_for)\n",
      "/Users/gaurav/anaconda3/lib/python3.6/site-packages/sklearn/metrics/classification.py:1143: UndefinedMetricWarning: F-score is ill-defined and being set to 0.0 in labels with no predicted samples.\n",
      "  'precision', 'predicted', average, warn_for)\n",
      "/Users/gaurav/anaconda3/lib/python3.6/site-packages/sklearn/metrics/classification.py:1143: UndefinedMetricWarning: F-score is ill-defined and being set to 0.0 in labels with no predicted samples.\n",
      "  'precision', 'predicted', average, warn_for)\n",
      "/Users/gaurav/anaconda3/lib/python3.6/site-packages/sklearn/metrics/classification.py:1143: UndefinedMetricWarning: F-score is ill-defined and being set to 0.0 in labels with no predicted samples.\n",
      "  'precision', 'predicted', average, warn_for)\n",
      "/Users/gaurav/anaconda3/lib/python3.6/site-packages/sklearn/metrics/classification.py:1143: UndefinedMetricWarning: F-score is ill-defined and being set to 0.0 in labels with no predicted samples.\n",
      "  'precision', 'predicted', average, warn_for)\n",
      "/Users/gaurav/anaconda3/lib/python3.6/site-packages/sklearn/metrics/classification.py:1143: UndefinedMetricWarning: F-score is ill-defined and being set to 0.0 in labels with no predicted samples.\n",
      "  'precision', 'predicted', average, warn_for)\n"
     ]
    },
    {
     "name": "stderr",
     "output_type": "stream",
     "text": [
      "/Users/gaurav/anaconda3/lib/python3.6/site-packages/sklearn/metrics/classification.py:1143: UndefinedMetricWarning: F-score is ill-defined and being set to 0.0 in labels with no predicted samples.\n",
      "  'precision', 'predicted', average, warn_for)\n",
      "/Users/gaurav/anaconda3/lib/python3.6/site-packages/sklearn/metrics/classification.py:1143: UndefinedMetricWarning: F-score is ill-defined and being set to 0.0 in labels with no predicted samples.\n",
      "  'precision', 'predicted', average, warn_for)\n",
      "/Users/gaurav/anaconda3/lib/python3.6/site-packages/sklearn/metrics/classification.py:1143: UndefinedMetricWarning: F-score is ill-defined and being set to 0.0 in labels with no predicted samples.\n",
      "  'precision', 'predicted', average, warn_for)\n",
      "/Users/gaurav/anaconda3/lib/python3.6/site-packages/sklearn/metrics/classification.py:1143: UndefinedMetricWarning: F-score is ill-defined and being set to 0.0 in labels with no predicted samples.\n",
      "  'precision', 'predicted', average, warn_for)\n",
      "/Users/gaurav/anaconda3/lib/python3.6/site-packages/sklearn/metrics/classification.py:1143: UndefinedMetricWarning: F-score is ill-defined and being set to 0.0 in labels with no predicted samples.\n",
      "  'precision', 'predicted', average, warn_for)\n",
      "/Users/gaurav/anaconda3/lib/python3.6/site-packages/sklearn/metrics/classification.py:1143: UndefinedMetricWarning: F-score is ill-defined and being set to 0.0 in labels with no predicted samples.\n",
      "  'precision', 'predicted', average, warn_for)\n",
      "/Users/gaurav/anaconda3/lib/python3.6/site-packages/sklearn/metrics/classification.py:1143: UndefinedMetricWarning: F-score is ill-defined and being set to 0.0 in labels with no predicted samples.\n",
      "  'precision', 'predicted', average, warn_for)\n"
     ]
    },
    {
     "data": {
      "image/png": "[encoded data removed]",
      "text/plain": [
       "<Figure size 720x432 with 1 Axes>"
      ]
     },
     "metadata": {
      "needs_background": "light"
     },
     "output_type": "display_data"
    },
    {
     "name": "stdout",
     "output_type": "stream",
     "text": [
      "Best K value =  1\n"
     ]
    }
   ],
   "source": [
    "import numpy as np\n",
    "error_rate = []\n",
    "# Will take some time\n",
    "best_k = 0\n",
    "k=0\n",
    "for i in range(1,100):\n",
    " \n",
    " knn = KNeighborsClassifier(n_neighbors=i)\n",
    " knn.fit(X_train,y_train)\n",
    " pred_i = knn.predict(X_test)\n",
    " f=f1_score(y_test, pred_i, average='macro')\n",
    " if f>best_k:\n",
    "        best_k = f\n",
    "        k=i\n",
    " error_rate.append(f)\n",
    "\n",
    "import matplotlib.pyplot as plt\n",
    "plt.figure(figsize=(10,6))\n",
    "plt.plot(range(1,100),error_rate,color='blue', linestyle='dashed', marker='o',\n",
    "markerfacecolor='red', markersize=10)\n",
    "plt.title('F1-Score vs. K Value')\n",
    "plt.xlabel('K')\n",
    "plt.ylabel('F1-Score')\n",
    "plt.savefig('/Users/gaurav/Desktop/Hinglish/data/k_data1-2.png', bbox_inches='tight')\n",
    "plt.show()\n",
    "print(\"Best K value = \",k)"
   ]
  },
  {
   "cell_type": "code",
   "execution_count": 30,
   "metadata": {},
   "outputs": [
    {
     "name": "stdout",
     "output_type": "stream",
     "text": [
      "Accuracy Score =  0.44466666666666665\n",
      "F1-Score =  0.39956787579994785\n",
      "[[131 647 122]\n",
      " [ 90 822 188]\n",
      " [ 34 585 381]]\n"
     ]
    }
   ],
   "source": [
    "from sklearn.neighbors import KNeighborsClassifier\n",
    "\n",
    "knn = KNeighborsClassifier(n_neighbors=k)\n",
    "clf = knn.fit(X_train, y_train)\n",
    "y_pred = clf.predict(X_test)\n",
    "print(\"Accuracy Score = \", accuracy_score(y_test, y_pred))\n",
    "print(\"F1-Score = \", f1_score(y_test, y_pred, average='macro'))\n",
    "print(confusion_matrix(y_test, y_pred))"
   ]
  },
  {
   "cell_type": "code",
   "execution_count": 31,
   "metadata": {},
   "outputs": [
    {
     "name": "stdout",
     "output_type": "stream",
     "text": [
      "Accuracy Score =  0.532\n",
      "F1-Score =  0.5349564082303603\n",
      "[[519 281 100]\n",
      " [331 466 303]\n",
      " [ 93 296 611]]\n"
     ]
    }
   ],
   "source": [
    "from sklearn.tree import DecisionTreeClassifier \n",
    "dtree_model = DecisionTreeClassifier(random_state=0, class_weight='balanced')\n",
    "dtree_model.fit(X_train, y_train) \n",
    "y_pred = dtree_model.predict(X_test)\n",
    "from sklearn.metrics import accuracy_score, confusion_matrix, f1_score\n",
    "print(\"Accuracy Score = \", accuracy_score(y_test, y_pred))\n",
    "print(\"F1-Score = \", f1_score(y_test, y_pred, average='macro'))\n",
    "print(confusion_matrix(y_test, y_pred))"
   ]
  },
  {
   "cell_type": "code",
   "execution_count": 32,
   "metadata": {},
   "outputs": [
    {
     "name": "stdout",
     "output_type": "stream",
     "text": [
      "Accuracy Score =  0.498\n",
      "F1-Score =  0.4910337249765067\n",
      "[[580 209 111]\n",
      " [461 301 338]\n",
      " [176 211 613]]\n"
     ]
    }
   ],
   "source": [
    "from sklearn.naive_bayes import GaussianNB\n",
    "gnb = GaussianNB()\n",
    "gnb.fit(X_train.toarray(), y_train)\n",
    "y_pred = gnb.predict(X_test.toarray())\n",
    "print(\"Accuracy Score = \", accuracy_score(y_test, y_pred))\n",
    "print(\"F1-Score = \", f1_score(y_test, y_pred, average='macro'))\n",
    "print(confusion_matrix(y_test, y_pred))"
   ]
  },
  {
   "cell_type": "code",
   "execution_count": 33,
   "metadata": {},
   "outputs": [
    {
     "name": "stdout",
     "output_type": "stream",
     "text": [
      "Accuracy Score =  0.637\n",
      "F1-Score =  0.6319895151715005\n",
      "[[708 146  46]\n",
      " [355 447 298]\n",
      " [ 63 181 756]]\n"
     ]
    }
   ],
   "source": [
    "from sklearn.naive_bayes import MultinomialNB\n",
    "MNB = MultinomialNB()\n",
    "MNB.fit(X_train.toarray(), y_train)\n",
    "y_pred = MNB.predict(X_test.toarray())\n",
    "print(\"Accuracy Score = \", accuracy_score(y_test, y_pred))\n",
    "print(\"F1-Score = \", f1_score(y_test, y_pred, average='macro'))\n",
    "print(confusion_matrix(y_test, y_pred))"
   ]
  },
  {
   "cell_type": "code",
   "execution_count": 34,
   "metadata": {},
   "outputs": [
    {
     "name": "stderr",
     "output_type": "stream",
     "text": [
      "/Users/gaurav/anaconda3/lib/python3.6/site-packages/sklearn/linear_model/logistic.py:433: FutureWarning: Default solver will be changed to 'lbfgs' in 0.22. Specify a solver to silence this warning.\n",
      "  FutureWarning)\n",
      "/Users/gaurav/anaconda3/lib/python3.6/site-packages/sklearn/linear_model/logistic.py:460: FutureWarning: Default multi_class will be changed to 'auto' in 0.22. Specify the multi_class option to silence this warning.\n",
      "  \"this warning.\", FutureWarning)\n"
     ]
    },
    {
     "name": "stdout",
     "output_type": "stream",
     "text": [
      "Accuracy Score =  0.643\n",
      "F1-Score =  0.647558142191563\n",
      "[[592 256  52]\n",
      " [233 629 238]\n",
      " [ 34 258 708]]\n"
     ]
    }
   ],
   "source": [
    "from sklearn.linear_model import LogisticRegression\n",
    "log_model = LogisticRegression(random_state=0, class_weight='balanced')\n",
    "log_model = log_model.fit(X_train, y_train)\n",
    "y_pred = log_model.predict(X_test)\n",
    "print(\"Accuracy Score = \", accuracy_score(y_test, y_pred))\n",
    "print(\"F1-Score = \", f1_score(y_test, y_pred, average='macro'))\n",
    "print(confusion_matrix(y_test, y_pred))"
   ]
  },
  {
   "cell_type": "code",
   "execution_count": 35,
   "metadata": {},
   "outputs": [
    {
     "name": "stdout",
     "output_type": "stream",
     "text": [
      "11.79885038137436  minutes\n",
      "Accuracy Score =  0.6513333333333333\n",
      "F1-Score =  0.6564556570347618\n",
      "[[595 268  37]\n",
      " [207 658 235]\n",
      " [ 42 257 701]]\n"
     ]
    }
   ],
   "source": [
    "from sklearn.ensemble import RandomForestClassifier\n",
    "model = RandomForestClassifier(n_estimators=1000, random_state=0, class_weight='balanced')\n",
    "import time\n",
    "start_time=time.time()\n",
    "model.fit(X_train, y_train) \n",
    "duration = time.time()-start_time\n",
    "print(duration/60, \" minutes\")\n",
    "y_pred = model.predict(X_test)\n",
    "print(\"Accuracy Score = \", accuracy_score(y_test, y_pred))\n",
    "print(\"F1-Score = \", f1_score(y_test, y_pred, average='macro'))\n",
    "print(confusion_matrix(y_test, y_pred))"
   ]
  },
  {
   "cell_type": "markdown",
   "metadata": {},
   "source": [
    "# Tf-IDF Vectorizer"
   ]
  },
  {
   "cell_type": "code",
   "execution_count": 36,
   "metadata": {},
   "outputs": [],
   "source": [
    "from sklearn.feature_extraction.text import TfidfVectorizer\n",
    "\n",
    "tfidf  = TfidfVectorizer()\n",
    "features2 = tfidf.fit_transform(df['Tweet'])"
   ]
  },
  {
   "cell_type": "code",
   "execution_count": 37,
   "metadata": {},
   "outputs": [
    {
     "name": "stderr",
     "output_type": "stream",
     "text": [
      "/Users/gaurav/anaconda3/lib/python3.6/site-packages/sklearn/model_selection/_split.py:2179: FutureWarning: From version 0.21, test_size will always complement train_size unless both are specified.\n",
      "  FutureWarning)\n"
     ]
    }
   ],
   "source": [
    "X_train, X_test, y_train, y_test  = train_test_split(\n",
    "        features2, \n",
    "        sentiment,\n",
    "        train_size=0.82352942, \n",
    "        shuffle = False\n",
    "       )"
   ]
  },
  {
   "cell_type": "code",
   "execution_count": 38,
   "metadata": {},
   "outputs": [
    {
     "name": "stdout",
     "output_type": "stream",
     "text": [
      "Accuracy Score =  0.6606666666666666\n",
      "F1-Score =  0.6650326321493362\n",
      "[[636 234  30]\n",
      " [259 623 218]\n",
      " [ 37 240 723]]\n"
     ]
    }
   ],
   "source": [
    "from sklearn import svm\n",
    "lin_clf = svm.SVC(kernel='linear',decision_function_shape='ovr', class_weight='balanced',random_state=0)\n",
    "lin_clf.fit(X_train, y_train)\n",
    "y_pred = lin_clf.predict(X_test)\n",
    "from sklearn.metrics import accuracy_score, confusion_matrix, f1_score\n",
    "print(\"Accuracy Score = \", accuracy_score(y_test, y_pred))\n",
    "print(\"F1-Score = \", f1_score(y_test, y_pred, average='macro'))\n",
    "print(confusion_matrix(y_test, y_pred))"
   ]
  },
  {
   "cell_type": "code",
   "execution_count": 39,
   "metadata": {},
   "outputs": [
    {
     "data": {
      "image/png": "[encoded data removed]",
      "text/plain": [
       "<Figure size 720x432 with 1 Axes>"
      ]
     },
     "metadata": {
      "needs_background": "light"
     },
     "output_type": "display_data"
    },
    {
     "name": "stdout",
     "output_type": "stream",
     "text": [
      "Best K value =  72\n"
     ]
    }
   ],
   "source": [
    "import numpy as np\n",
    "error_rate = []\n",
    "# Will take some time\n",
    "best_k = 0\n",
    "k=0\n",
    "for i in range(1,100):\n",
    " \n",
    " knn = KNeighborsClassifier(n_neighbors=i)\n",
    " knn.fit(X_train,y_train)\n",
    " pred_i = knn.predict(X_test)\n",
    " f=f1_score(y_test, pred_i, average='macro')\n",
    " if f>best_k:\n",
    "        best_k = f\n",
    "        k=i\n",
    " error_rate.append(f)\n",
    "\n",
    "import matplotlib.pyplot as plt\n",
    "plt.figure(figsize=(10,6))\n",
    "plt.plot(range(1,100),error_rate,color='blue', linestyle='dashed', marker='o',\n",
    "markerfacecolor='red', markersize=10)\n",
    "plt.title('F1-Score vs. K Value')\n",
    "plt.xlabel('K')\n",
    "plt.ylabel('F1-Score')\n",
    "plt.savefig('/Users/gaurav/Desktop/Hinglish/data/k_data1-3.png', bbox_inches='tight')\n",
    "plt.show()\n",
    "print(\"Best K value = \",k)"
   ]
  },
  {
   "cell_type": "code",
   "execution_count": 40,
   "metadata": {},
   "outputs": [
    {
     "name": "stdout",
     "output_type": "stream",
     "text": [
      "Accuracy Score =  0.6356666666666667\n",
      "F1-Score =  0.6326052903249818\n",
      "[[607 216  77]\n",
      " [264 495 341]\n",
      " [ 43 152 805]]\n"
     ]
    }
   ],
   "source": [
    "from sklearn.neighbors import KNeighborsClassifier\n",
    "\n",
    "knn = KNeighborsClassifier(n_neighbors=k)\n",
    "clf = knn.fit(X_train, y_train)\n",
    "y_pred = clf.predict(X_test)\n",
    "print(\"Accuracy Score = \", accuracy_score(y_test, y_pred))\n",
    "print(\"F1-Score = \", f1_score(y_test, y_pred, average='macro'))\n",
    "print(confusion_matrix(y_test, y_pred))"
   ]
  },
  {
   "cell_type": "code",
   "execution_count": null,
   "metadata": {},
   "outputs": [],
   "source": []
  },
  {
   "cell_type": "code",
   "execution_count": 41,
   "metadata": {},
   "outputs": [
    {
     "name": "stdout",
     "output_type": "stream",
     "text": [
      "Accuracy Score =  0.5316666666666666\n",
      "F1-Score =  0.533314601018347\n",
      "[[497 271 132]\n",
      " [311 488 301]\n",
      " [113 277 610]]\n"
     ]
    }
   ],
   "source": [
    "from sklearn.tree import DecisionTreeClassifier \n",
    "dtree_model = DecisionTreeClassifier(random_state=0, class_weight='balanced')\n",
    "dtree_model.fit(X_train, y_train) \n",
    "y_pred = dtree_model.predict(X_test)\n",
    "from sklearn.metrics import accuracy_score, confusion_matrix, f1_score\n",
    "print(\"Accuracy Score = \", accuracy_score(y_test, y_pred))\n",
    "print(\"F1-Score = \", f1_score(y_test, y_pred, average='macro'))\n",
    "print(confusion_matrix(y_test, y_pred))"
   ]
  },
  {
   "cell_type": "code",
   "execution_count": 42,
   "metadata": {},
   "outputs": [
    {
     "name": "stdout",
     "output_type": "stream",
     "text": [
      "Accuracy Score =  0.4856666666666667\n",
      "F1-Score =  0.4844985070243249\n",
      "[[529 253 118]\n",
      " [410 359 331]\n",
      " [183 248 569]]\n"
     ]
    }
   ],
   "source": [
    "from sklearn.naive_bayes import GaussianNB\n",
    "gnb = GaussianNB()\n",
    "gnb.fit(X_train.toarray(), y_train)\n",
    "y_pred = gnb.predict(X_test.toarray())\n",
    "print(\"Accuracy Score = \", accuracy_score(y_test, y_pred))\n",
    "print(\"F1-Score = \", f1_score(y_test, y_pred, average='macro'))\n",
    "print(confusion_matrix(y_test, y_pred))"
   ]
  },
  {
   "cell_type": "code",
   "execution_count": 43,
   "metadata": {},
   "outputs": [
    {
     "name": "stdout",
     "output_type": "stream",
     "text": [
      "Accuracy Score =  0.6523333333333333\n",
      "F1-Score =  0.6575467193869016\n",
      "[[552 314  34]\n",
      " [174 683 243]\n",
      " [ 23 255 722]]\n"
     ]
    }
   ],
   "source": [
    "from sklearn.naive_bayes import MultinomialNB\n",
    "MNB = MultinomialNB()\n",
    "MNB.fit(X_train.toarray(), y_train)\n",
    "y_pred = MNB.predict(X_test.toarray())\n",
    "print(\"Accuracy Score = \", accuracy_score(y_test, y_pred))\n",
    "print(\"F1-Score = \", f1_score(y_test, y_pred, average='macro'))\n",
    "print(confusion_matrix(y_test, y_pred))"
   ]
  },
  {
   "cell_type": "code",
   "execution_count": 44,
   "metadata": {},
   "outputs": [
    {
     "name": "stderr",
     "output_type": "stream",
     "text": [
      "/Users/gaurav/anaconda3/lib/python3.6/site-packages/sklearn/linear_model/logistic.py:433: FutureWarning: Default solver will be changed to 'lbfgs' in 0.22. Specify a solver to silence this warning.\n",
      "  FutureWarning)\n",
      "/Users/gaurav/anaconda3/lib/python3.6/site-packages/sklearn/linear_model/logistic.py:460: FutureWarning: Default multi_class will be changed to 'auto' in 0.22. Specify the multi_class option to silence this warning.\n",
      "  \"this warning.\", FutureWarning)\n"
     ]
    },
    {
     "name": "stdout",
     "output_type": "stream",
     "text": [
      "Accuracy Score =  0.662\n",
      "F1-Score =  0.6654773766430289\n",
      "[[639 225  36]\n",
      " [260 611 229]\n",
      " [ 39 225 736]]\n"
     ]
    }
   ],
   "source": [
    "from sklearn.linear_model import LogisticRegression\n",
    "log_model = LogisticRegression(random_state=0, class_weight='balanced')\n",
    "log_model = log_model.fit(X_train, y_train)\n",
    "y_pred = log_model.predict(X_test)\n",
    "print(\"Accuracy Score = \", accuracy_score(y_test, y_pred))\n",
    "print(\"F1-Score = \", f1_score(y_test, y_pred, average='macro'))\n",
    "print(confusion_matrix(y_test, y_pred))"
   ]
  },
  {
   "cell_type": "code",
   "execution_count": 45,
   "metadata": {},
   "outputs": [
    {
     "name": "stdout",
     "output_type": "stream",
     "text": [
      "11.475501195589702  minutes\n",
      "Accuracy Score =  0.6443333333333333\n",
      "F1-Score =  0.6483047252432151\n",
      "[[608 252  40]\n",
      " [249 611 240]\n",
      " [ 49 237 714]]\n"
     ]
    }
   ],
   "source": [
    "from sklearn.ensemble import RandomForestClassifier\n",
    "model = RandomForestClassifier(n_estimators=1000, random_state=0, class_weight='balanced')\n",
    "import time\n",
    "start_time=time.time()\n",
    "model.fit(X_train, y_train) \n",
    "duration = time.time()-start_time\n",
    "print(duration/60, \" minutes\")\n",
    "y_pred = model.predict(X_test)\n",
    "print(\"Accuracy Score = \", accuracy_score(y_test, y_pred))\n",
    "print(\"F1-Score = \", f1_score(y_test, y_pred, average='macro'))\n",
    "print(confusion_matrix(y_test, y_pred))"
   ]
  },
  {
   "cell_type": "code",
   "execution_count": null,
   "metadata": {},
   "outputs": [],
   "source": []
  }
 ],
 "metadata": {
  "kernelspec": {
   "display_name": "Python 3",
   "language": "python",
   "name": "python3"
  },
  "language_info": {
   "codemirror_mode": {
    "name": "ipython",
    "version": 3
   },
   "file_extension": ".py",
   "mimetype": "text/x-python",
   "name": "python",
   "nbconvert_exporter": "python",
   "pygments_lexer": "ipython3",
   "version": "3.6.8"
  }
 },
 "nbformat": 4,
 "nbformat_minor": 2
}
